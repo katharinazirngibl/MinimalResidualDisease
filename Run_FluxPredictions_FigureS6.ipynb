{
 "cells": [
  {
   "cell_type": "code",
   "execution_count": 2,
   "metadata": {},
   "outputs": [],
   "source": [
    "%matplotlib inline"
   ]
  },
  {
   "cell_type": "code",
   "execution_count": 3,
   "metadata": {},
   "outputs": [],
   "source": [
    "import pandas as pd\n",
    "import numpy as np\n",
    "import os\n",
    "from reframed import FBA, load_cbmodel\n",
    "from reframed.alpha.MARGE import marge\n",
    "from reframed.alpha.GPRtransform import gpr_transform\n",
    "from reframed.alpha.fluxutils import compare_fluxes\n",
    "os.chdir(\"/Users/zirngibl/Documents/Projects/Ashna_CancerRos/allDataPoints/Paper-DescriptionMRD/SupplementaryFigure6/\")\n"
   ]
  },
  {
   "cell_type": "markdown",
   "metadata": {},
   "source": [
    "### Load model and test for growth"
   ]
  },
  {
   "cell_type": "code",
   "execution_count": 4,
   "metadata": {},
   "outputs": [],
   "source": [
    "model = load_cbmodel(\"HMR2_FbaOptimized.xml\")"
   ]
  },
  {
   "cell_type": "code",
   "execution_count": 5,
   "metadata": {},
   "outputs": [
    {
     "data": {
      "text/plain": [
       "Objective: 2.695708432175976\n",
       "Status: Optimal"
      ]
     },
     "execution_count": 5,
     "metadata": {},
     "output_type": "execute_result"
    }
   ],
   "source": [
    "FBA(model)"
   ]
  },
  {
   "cell_type": "markdown",
   "metadata": {},
   "source": [
    "### Correct model for Ldha/b/c/d isoform thermopreference "
   ]
  },
  {
   "cell_type": "code",
   "execution_count": 5,
   "metadata": {},
   "outputs": [],
   "source": [
    "from reframed.core.cbmodel import GPRAssociation, Protein, Gene\n",
    "from reframed.core.cbmodel import CBReaction\n",
    "from collections import OrderedDict"
   ]
  },
  {
   "cell_type": "code",
   "execution_count": 6,
   "metadata": {},
   "outputs": [
    {
     "name": "stdout",
     "output_type": "stream",
     "text": [
      "R_HMR_4388: M_m02039c + M_m02553c + M_m02819c <-> M_m02403c + M_m02552c\n",
      "-inf\n",
      "inf\n",
      "(ENSG00000111716 or ENSG00000134333 or ENSG00000166796 or ENSG00000166800 or ENSG00000171989)\n"
     ]
    }
   ],
   "source": [
    "print(model.reactions.R_HMR_4388)\n",
    "print(model.reactions.R_HMR_4388.lb)\n",
    "print(model.reactions.R_HMR_4388.ub)\n",
    "print(model.reactions.R_HMR_4388.gpr)"
   ]
  },
  {
   "cell_type": "code",
   "execution_count": 7,
   "metadata": {},
   "outputs": [],
   "source": [
    "stoich = OrderedDict()\n",
    "stoich['M_m02039c'] = -1.0\n",
    "stoich['M_m02553c'] = -1.0\n",
    "stoich['M_m02819c'] = -1.0\n",
    "stoich['M_m02403c'] = 1.0\n",
    "stoich['M_m02552c'] = 1.0\n",
    "reac = CBReaction(reaction_id = 'R_HMR_4388a', name = 'R_HMR_4388a', reversible = False, stoichiometry = stoich,\n",
    "                   lb = 0, ub = 1000, reaction_type = 'other' )\n",
    "model.add_reaction(reac)\n"
   ]
  },
  {
   "cell_type": "code",
   "execution_count": 8,
   "metadata": {},
   "outputs": [],
   "source": [
    "gpr = GPRAssociation()\n",
    "new_genes = [str('ENSG00000134333'), str('ENSG00000166796')]\n",
    "for gene in new_genes:\n",
    "    protein = Protein()\n",
    "    protein.genes = [str(gene)]\n",
    "    gpr.proteins.append(protein)\n",
    "\n",
    "model.set_gpr_association('R_HMR_4388a', gpr, add_genes = True)"
   ]
  },
  {
   "cell_type": "code",
   "execution_count": 9,
   "metadata": {},
   "outputs": [],
   "source": [
    "stoich = OrderedDict()\n",
    "stoich['M_m02403c'] = -1.0\n",
    "stoich['M_m02552c'] = -1.0\n",
    "stoich['M_m02039c'] = 1.0\n",
    "stoich['M_m02553c'] = 1.0\n",
    "stoich['M_m02819c'] = 1.0\n",
    "reac = CBReaction(reaction_id = 'R_HMR_4388b', name = 'R_HMR_4388b', reversible = False, stoichiometry = stoich,\n",
    "                   lb = 0, ub = 1000, reaction_type = 'other' )\n",
    "model.add_reaction(reac)"
   ]
  },
  {
   "cell_type": "code",
   "execution_count": 10,
   "metadata": {},
   "outputs": [],
   "source": [
    "gpr = GPRAssociation()\n",
    "new_genes = [str('ENSG00000111716'), str('ENSG00000166796')]\n",
    "for gene in new_genes:\n",
    "    protein = Protein()\n",
    "    protein.genes = [str(gene)]\n",
    "    gpr.proteins.append(protein)\n",
    "\n",
    "model.set_gpr_association('R_HMR_4388b', gpr, add_genes = True)"
   ]
  },
  {
   "cell_type": "code",
   "execution_count": 11,
   "metadata": {},
   "outputs": [
    {
     "name": "stdout",
     "output_type": "stream",
     "text": [
      "R_HMR_4388a: M_m02039c + M_m02553c + M_m02819c --> M_m02403c + M_m02552c [0, 1000]\n",
      "0\n",
      "1000\n",
      "<class 'reframed.core.cbmodel.GPRAssociation'>\n",
      "(ENSG00000134333 or ENSG00000166796)\n",
      "R_HMR_4388b: M_m02403c + M_m02552c --> M_m02039c + M_m02553c + M_m02819c [0, 1000]\n",
      "0\n",
      "1000\n",
      "<class 'reframed.core.cbmodel.GPRAssociation'>\n",
      "(ENSG00000111716 or ENSG00000166796)\n"
     ]
    }
   ],
   "source": [
    "print(model.reactions.R_HMR_4388a)\n",
    "print(model.reactions.R_HMR_4388a.lb)\n",
    "print(model.reactions.R_HMR_4388a.ub)\n",
    "print(type(model.reactions.R_HMR_4388a.gpr))\n",
    "print(model.reactions.R_HMR_4388a.gpr)\n",
    "print(model.reactions.R_HMR_4388b)\n",
    "print(model.reactions.R_HMR_4388b.lb)\n",
    "print(model.reactions.R_HMR_4388b.ub)\n",
    "print(type(model.reactions.R_HMR_4388b.gpr))\n",
    "print(model.reactions.R_HMR_4388b.gpr)"
   ]
  },
  {
   "cell_type": "code",
   "execution_count": 12,
   "metadata": {},
   "outputs": [],
   "source": [
    "model.remove_reaction('R_HMR_4388')"
   ]
  },
  {
   "cell_type": "markdown",
   "metadata": {},
   "source": [
    "### Correct GPRs of other reactions involving LDHA"
   ]
  },
  {
   "cell_type": "code",
   "execution_count": 13,
   "metadata": {},
   "outputs": [
    {
     "name": "stdout",
     "output_type": "stream",
     "text": [
      "['R_HMR_4281', 'R_HMR_4280', 'R_HMR_4287', 'R_HMR_4388a']\n",
      "(ENSG00000111716 or ENSG00000134333 or ENSG00000171989)\n",
      "(ENSG00000111716 or ENSG00000134333 or ENSG00000171989)\n",
      "ENSG00000134333\n"
     ]
    }
   ],
   "source": [
    "print(model.get_reactions_by_gene('ENSG00000134333'))\n",
    "print(model.reactions.R_HMR_4280.gpr)\n",
    "print(model.reactions.R_HMR_4281.gpr)\n",
    "print(model.reactions.R_HMR_4287.gpr)"
   ]
  },
  {
   "cell_type": "code",
   "execution_count": 14,
   "metadata": {},
   "outputs": [],
   "source": [
    "gpr = GPRAssociation()\n",
    "new_genes = [str('ENSG00000171989')]\n",
    "for gene in new_genes:\n",
    "    protein = Protein()\n",
    "    protein.genes = [str(gene)]\n",
    "    gpr.proteins.append(protein)\n",
    "model.set_gpr_association('R_HMR_4280', gpr, add_genes = True)\n",
    "model.set_gpr_association('R_HMR_4281', gpr, add_genes = True)\n",
    "\n",
    "gpr = GPRAssociation()\n",
    "new_genes = [str('')]\n",
    "for gene in new_genes:\n",
    "    protein = Protein()\n",
    "    protein.genes = [str(gene)]\n",
    "    gpr.proteins.append(protein)\n",
    "model.set_gpr_association('R_HMR_4287', gpr, add_genes = True)"
   ]
  },
  {
   "cell_type": "markdown",
   "metadata": {},
   "source": [
    "### Correct GPRs of other reactions involving LDHB"
   ]
  },
  {
   "cell_type": "code",
   "execution_count": 15,
   "metadata": {},
   "outputs": [
    {
     "name": "stdout",
     "output_type": "stream",
     "text": [
      "['R_HMR_5351', 'R_HMR_6519', 'R_HMR_8780', 'R_HMR_4388b']\n",
      "(ENSG00000111716 or ENSG00000151116 or ENSG00000166796 or ENSG00000166800 or ENSG00000171989)\n",
      "(ENSG00000111716 or ENSG00000151116 or ENSG00000166796 or ENSG00000166800 or ENSG00000171989)\n",
      "(ENSG00000111716 or ENSG00000151116 or ENSG00000166796 or ENSG00000166800 or ENSG00000166816 or ENSG00000171989)\n"
     ]
    }
   ],
   "source": [
    "print(model.get_reactions_by_gene('ENSG00000111716'))\n",
    "print(model.reactions.R_HMR_5351.gpr)\n",
    "print(model.reactions.R_HMR_6519.gpr)\n",
    "print(model.reactions.R_HMR_8780.gpr)"
   ]
  },
  {
   "cell_type": "code",
   "execution_count": 16,
   "metadata": {},
   "outputs": [],
   "source": [
    "gpr = GPRAssociation()\n",
    "new_genes = [str('ENSG00000151116'), str('ENSG00000166800'), str('ENSG00000171989')]\n",
    "for gene in new_genes:\n",
    "    protein = Protein()\n",
    "    protein.genes = [str(gene)]\n",
    "    gpr.proteins.append(protein)\n",
    "model.set_gpr_association('R_HMR_5351', gpr, add_genes = True)\n",
    "model.set_gpr_association('R_HMR_6519', gpr, add_genes = True)\n",
    "model.set_gpr_association('R_HMR_8780', gpr, add_genes = True)"
   ]
  },
  {
   "cell_type": "markdown",
   "metadata": {},
   "source": [
    "### Correct GPRs of other reactions involving LDHC"
   ]
  },
  {
   "cell_type": "code",
   "execution_count": 17,
   "metadata": {},
   "outputs": [
    {
     "name": "stdout",
     "output_type": "stream",
     "text": [
      "['R_HMR_4388a', 'R_HMR_4388b']\n"
     ]
    }
   ],
   "source": [
    "print(model.get_reactions_by_gene('ENSG00000166796'))"
   ]
  },
  {
   "cell_type": "markdown",
   "metadata": {},
   "source": [
    "### Correct GPRs of other reactions involving LDHD"
   ]
  },
  {
   "cell_type": "code",
   "execution_count": 18,
   "metadata": {},
   "outputs": [
    {
     "name": "stdout",
     "output_type": "stream",
     "text": [
      "['R_HMR_3859', 'R_HMR_8512', 'R_HMR_8514']\n",
      "(ENSG00000166816 or ENSG00000182224)\n",
      "ENSG00000166816\n",
      "ENSG00000166816\n"
     ]
    }
   ],
   "source": [
    "print(model.get_reactions_by_gene('ENSG00000166816'))\n",
    "print(model.reactions.R_HMR_3859.gpr)\n",
    "print(model.reactions.R_HMR_8512.gpr)\n",
    "print(model.reactions.R_HMR_8514.gpr)"
   ]
  },
  {
   "cell_type": "code",
   "execution_count": 19,
   "metadata": {},
   "outputs": [],
   "source": [
    "gpr = GPRAssociation()\n",
    "new_genes = [str('ENSG00000182224')]\n",
    "for gene in new_genes:\n",
    "    protein = Protein()\n",
    "    protein.genes = [str(gene)]\n",
    "    gpr.proteins.append(protein)\n",
    "model.set_gpr_association('R_HMR_3859', gpr, add_genes = True)\n",
    "\n",
    "gpr = GPRAssociation()\n",
    "new_genes = [str('')]\n",
    "for gene in new_genes:\n",
    "    protein = Protein()\n",
    "    protein.genes = [str(gene)]\n",
    "    gpr.proteins.append(protein)\n",
    "model.set_gpr_association('R_HMR_8514', gpr, add_genes = True)"
   ]
  },
  {
   "cell_type": "code",
   "execution_count": 20,
   "metadata": {},
   "outputs": [
    {
     "name": "stdout",
     "output_type": "stream",
     "text": [
      "['R_HMR_4388a']\n",
      "['R_HMR_4388b']\n",
      "['R_HMR_4388a', 'R_HMR_4388b']\n",
      "['R_HMR_8512']\n"
     ]
    }
   ],
   "source": [
    "print(model.get_reactions_by_gene('ENSG00000134333'))\n",
    "print(model.get_reactions_by_gene('ENSG00000111716'))\n",
    "print(model.get_reactions_by_gene('ENSG00000166796'))\n",
    "print(model.get_reactions_by_gene('ENSG00000166816'))"
   ]
  },
  {
   "cell_type": "code",
   "execution_count": 21,
   "metadata": {},
   "outputs": [
    {
     "name": "stdout",
     "output_type": "stream",
     "text": [
      "['R_HMR_3811']\n"
     ]
    }
   ],
   "source": [
    "print(model.get_reactions_by_gene('ENSG00000130707'))"
   ]
  },
  {
   "cell_type": "markdown",
   "metadata": {},
   "source": [
    "### Correct fluxes in retinol metabolism to match physiological ratios"
   ]
  },
  {
   "cell_type": "code",
   "execution_count": 22,
   "metadata": {},
   "outputs": [
    {
     "name": "stdout",
     "output_type": "stream",
     "text": [
      "             0\n",
      "0   R_HMR_6005\n",
      "1   R_HMR_6013\n",
      "2   R_HMR_6020\n",
      "3   R_HMR_6028\n",
      "4   R_HMR_6035\n",
      "..         ...\n",
      "92  R_HMR_8711\n",
      "93  R_HMR_8712\n",
      "94  R_HMR_8713\n",
      "95  R_HMR_8717\n",
      "96  R_HMR_8721\n",
      "\n",
      "[97 rows x 1 columns]\n"
     ]
    }
   ],
   "source": [
    "retinol_reactions = pd.read_table(\"Retinol_Metabolism.txt\", header = None)\n",
    "print(retinol_reactions)"
   ]
  },
  {
   "cell_type": "code",
   "execution_count": 23,
   "metadata": {},
   "outputs": [],
   "source": [
    "for r_id in retinol_reactions.iloc[:,0]:\n",
    "    model.reactions[r_id].ub = 0.1\n",
    "    if model.reactions[r_id].lb < -0.1:\n",
    "        model.reactions[r_id].lb = -0.1"
   ]
  },
  {
   "cell_type": "markdown",
   "metadata": {},
   "source": [
    "### Optionally release cofactor redox constraints by allowing exchange with media"
   ]
  },
  {
   "cell_type": "code",
   "execution_count": 24,
   "metadata": {},
   "outputs": [],
   "source": [
    "#stoich = OrderedDict()\n",
    "#stoich['M_m02751c'] = -1.0\n",
    "#stoich['M_m02751s'] = 1.0\n",
    "#reac = CBReaction(reaction_id = 'R_HMR_m02751', name = 'R_HMR_m02751', reversible = False, stoichiometry = stoich,\n",
    "#                   lb = -1000, ub = 1000, reaction_type = 'other' )\n",
    "#model.add_reaction(reac)"
   ]
  },
  {
   "cell_type": "code",
   "execution_count": 25,
   "metadata": {},
   "outputs": [],
   "source": [
    "#stoich = OrderedDict()\n",
    "#stoich['M_m02039c'] = -1.0\n",
    "#stoich['M_m02039s'] = 1.0\n",
    "#reac = CBReaction(reaction_id = 'R_HMR_m02039', name = 'R_HMR_m02039', reversible = False, stoichiometry = stoich,\n",
    "#                   lb = -1000, ub = 1000, reaction_type = 'other' )\n",
    "#model.add_reaction(reac)"
   ]
  },
  {
   "cell_type": "markdown",
   "metadata": {},
   "source": [
    "### Transform model for more efficient modelling"
   ]
  },
  {
   "cell_type": "code",
   "execution_count": 24,
   "metadata": {},
   "outputs": [],
   "source": [
    "model_ext = gpr_transform(model, inplace=False, gene_prefix='') # create extended model beforehand (for speed)"
   ]
  },
  {
   "cell_type": "markdown",
   "metadata": {},
   "source": [
    "### Load transcriptomics data"
   ]
  },
  {
   "cell_type": "code",
   "execution_count": 25,
   "metadata": {},
   "outputs": [],
   "source": [
    "data = pd.read_csv(\"GeneExpression_FoldChange_ONNI_Modelling.txt\", sep=\"\\t\")"
   ]
  },
  {
   "cell_type": "code",
   "execution_count": 26,
   "metadata": {
    "scrolled": true
   },
   "outputs": [],
   "source": [
    "data = data[data[\"Ensembl_Human\"].isin(model.genes)] # remove non-metabolic genes\n",
    "filtered = data.query(\"orig_padj_bonf < 0.1\") # remove non-significant changes\n",
    "filtered2 = filtered.query(\"abs(log2FoldChange) > 1\") # remove changes with minor amplitude to minimise constraints\n",
    "rel_expr = dict(filtered2[[\"Ensembl_Human\", \"log2FoldChange\"]].values) # convert columns to dict"
   ]
  },
  {
   "cell_type": "code",
   "execution_count": 27,
   "metadata": {
    "scrolled": true
   },
   "outputs": [
    {
     "name": "stdout",
     "output_type": "stream",
     "text": [
      "Significantly changed (metabolic): 538\n"
     ]
    }
   ],
   "source": [
    "print('Significantly changed (metabolic):', len(filtered2))"
   ]
  },
  {
   "cell_type": "code",
   "execution_count": 28,
   "metadata": {},
   "outputs": [
    {
     "name": "stdout",
     "output_type": "stream",
     "text": [
      "         Ensembl_Human  log2FoldChange  orig_padj_BH  orig_padj_bonf  \\\n",
      "22     ENSG00000150768        1.049059  4.909188e-15    9.875241e-12   \n",
      "33     ENSG00000137198       -2.106546  2.908306e-20    3.625905e-17   \n",
      "45     ENSG00000237289        1.695885  1.080423e-08    3.930969e-05   \n",
      "46     ENSG00000223572        1.695885  1.080423e-08    3.930969e-05   \n",
      "52     ENSG00000137992        1.291147  1.285119e-89    3.678270e-88   \n",
      "...                ...             ...           ...             ...   \n",
      "15203  ENSG00000156966        4.935539  7.578603e-38    2.768855e-35   \n",
      "15257  ENSG00000123427        1.186001  4.881701e-07    2.149696e-03   \n",
      "15260  ENSG00000134716        3.716883  4.013960e-09    1.395884e-05   \n",
      "15300  ENSG00000223802       -1.595708  2.657251e-06    1.273936e-02   \n",
      "15373  ENSG00000059588        1.463120  7.195054e-14    1.597223e-10   \n",
      "\n",
      "       re.estimated_pvalue  re.estimated_padj  \n",
      "22            2.472322e-02           0.219046  \n",
      "33            8.406915e-03           0.120167  \n",
      "45            9.726209e-02           0.476501  \n",
      "46            9.726209e-02           0.476501  \n",
      "52            1.558022e-08           0.000010  \n",
      "...                    ...                ...  \n",
      "15203         2.634637e-04           0.012857  \n",
      "15257         1.423832e-01           0.576320  \n",
      "15260         8.829701e-02           0.452576  \n",
      "15300         1.694650e-01           0.630109  \n",
      "15373         3.157475e-02           0.253592  \n",
      "\n",
      "[538 rows x 6 columns]\n"
     ]
    }
   ],
   "source": [
    "print(filtered2)"
   ]
  },
  {
   "cell_type": "markdown",
   "metadata": {},
   "source": [
    "### Run MARGE"
   ]
  },
  {
   "cell_type": "code",
   "execution_count": 6,
   "metadata": {},
   "outputs": [],
   "source": [
    "marge?"
   ]
  },
  {
   "cell_type": "markdown",
   "metadata": {},
   "source": [
    "### Final Modelling Parameters (50% margin for relative constrains)"
   ]
  },
  {
   "cell_type": "code",
   "execution_count": 29,
   "metadata": {},
   "outputs": [],
   "source": [
    "v1, v2, sol1, sol2 = marge(model_ext, rel_expr, transformed=True, gene_prefix='',\n",
    "                     growth_frac_a=0.3, growth_frac_b=0.6, activation_frac=0.001, step2_tol=0.1,\n",
    "                     \n",
    "       rel_constraints = {\"R_HMR_9034\": (4.1, 80.6), \"R_HMR_9069\": (1.2, 88.7), \"R_HMR_9063\": (1.2, 43.5),\n",
    "                          \"R_HMR_9070\": (1.0, 3.1), \"R_HMR_9438\": (3.8, 1.3), \"R_HMR_9135\": (6.2, 2.1), \n",
    "                          \"R_HMR_9087\": (4.8, 1.6), \"R_HMR_9061\": (4.6, 1.5),\n",
    "                          \n",
    "                          \"R_HMR_9046\": (1.0, 2.4), \"R_HMR_9068\": (9.0, 1.0), \"R_HMR_9040\": (1.0, 2.4),\n",
    "                          \"R_HMR_9039\": (1.0, 3.0), \n",
    "                          \"R_HMR_9043\": (1.6, 4.7), \n",
    "                          \"R_HMR_9067\": (4.2, 1.0),\n",
    "                          \"R_HMR_9041\": (1.0, 4.7),\n",
    "                          \n",
    "                          \"R_HMR_9361\": (1.0, 2.4), \"R_HMR_9064\": (1.0, 3.2), \"R_HMR_9042\": (1.8, 5.4),\n",
    "                          \"R_m01862\": (3.6, 1.2)},                              \n",
    "                                    \n",
    "       constraints_a = {\"R_HMR_9034\": (0.1, 8.62), \"R_HMR_9069\": (0.01, 0.34),\"R_HMR_9063\": (0.1, 3.04),\n",
    "                        \"R_HMR_9070\": (0.01, 0.086),\"R_m02812a\": (-0.01, 0.01), \"R_HMR_9438\": (-1000, -0.01),\n",
    "                        \"R_HMR_9135\": (-1000, -0.32), \n",
    "                        \"R_HMR_9087\": (-1000, -0.01), \"R_HMR_9061\": (-1000, -0.01),\n",
    "                 \n",
    "                        \"R_HMR_9046\": (0.01, 0.16), \"R_HMR_9068\": (-1000, -0.01), \"R_HMR_9040\": (0.01, 0.26),\n",
    "                        \"R_HMR_9039\": (0.01, 0.22), \n",
    "                        \"R_HMR_9043\": (0.001, 0.073),\n",
    "                        \"R_HMR_9067\": (-1000, -0.01),\n",
    "                        \"R_HMR_9085\": (0.001, 0.0036), \"R_HMR_9041\": (0.01, 0.19),\n",
    "                  \n",
    "                        \"R_HMR_9361\": (0.01, 0.1), \"R_HMR_9044\": (0, 0.01), \"R_HMR_9064\": (0.01, 0.11),\n",
    "                        \"R_HMR_9045\": (0, 0.035), \"R_HMR_9042\": (0.01, 0.070), \"R_HMR_9415\": (-1000, -0.001),\n",
    "                        \"R_m01862\": (-1000, -0.001)},\n",
    "                           \n",
    "       constraints_b = {\"R_HMR_9034\": (0.1, 8.62), \"R_HMR_9069\": (0.01, 0.34),\"R_HMR_9063\": (0.1, 3.04),\n",
    "                        \"R_HMR_9070\": (0.01, 0.086), \"R_m02812a\": (-1000, -0.01), \"R_HMR_9438\": (-1000, -0.01),\n",
    "                        \"R_HMR_9135\": (-1000, -0.32), \n",
    "                        \"R_HMR_9087\": (-1000, -0.01), \"R_HMR_9061\": (-1000, -0.01),\n",
    "                 \n",
    "                        \"R_HMR_9046\": (0.01, 0.16), \"R_HMR_9068\": (-1000, -0.01), \"R_HMR_9040\": (0.01, 0.26),\n",
    "                        \"R_HMR_9039\": (0.01, 0.22), \n",
    "                        \"R_HMR_9043\": (0.01, 0.073), \n",
    "                        \"R_HMR_9067\": (-1000, -0.01),\n",
    "                        \"R_HMR_9085\": (-0.001, 0.001), \"R_HMR_9041\": (0.01, 0.19),\n",
    "                 \n",
    "                        \"R_HMR_9361\": (0.01, 0.1), \"R_HMR_9044\": (0.01, 0.12), \"R_HMR_9064\": (0.01, 0.11),\n",
    "                        \"R_HMR_9045\": (0, 0.035), \"R_HMR_9042\": (0.01, 0.070), \"R_HMR_9415\": (-1000, -0.001),\n",
    "                        \"R_m01862\": (-1000, -0.001)})\n",
    "\n",
    "#R_HMR_9034 = glucose       \n",
    "#R_HMR_9069 = serine\n",
    "#R_HMR_9063 = glutamine\n",
    "#R_HMR_9046 = valine\n",
    "#R_HMR_9415 = succinate\n",
    "#R_HMR_9068 = proline\n",
    "#R_HMR_9070 = aspartate\n",
    "#R_HMR_9040 = leucine\n",
    "#R_HMR_9061 = alanine\n",
    "#R_HMR_9361 = inositol\n",
    "#R_HMR_9039 = isoleucine\n",
    "#R_HMR_9041 = lysine\n",
    "#R_HMR_9043 = phenylalanine\n",
    "#R_HMR_9067 = glycine\n",
    "  #R_HMR_9044 = threonine --> No relative constraint because of change from production to consumption\n",
    "  #R_HMR_9071 = glutamate --> No relative constraint because of change from production to consumption\n",
    "#R_HMR_9064 = tyrosine\n",
    "  #R_m02812a = putrescine? --> No relative constraint because of change from consumption to no consumption/production\n",
    "#R_HMR_9438 = urea\n",
    "  #R_HMR_9045 = tryptohophan --> No constraints because it cant be produced as suggested from the data\n",
    "#R_HMR_9042 = methionine\n",
    "#R_HMR_9135 = lactate\n",
    "#R_m01862 = fumarate\n",
    "#R_HMR_9087 = ornithine\n",
    "  #R_HMR_9085 = glycerol --> No relative constraint because of change from consumption to no production\n",
    "  #(R_HMR_9062 = asparagine) --> Not included because of pvalue cut off and non clear data signal"
   ]
  },
  {
   "cell_type": "markdown",
   "metadata": {},
   "source": [
    "### Inspect MARGE modeling results"
   ]
  },
  {
   "cell_type": "code",
   "execution_count": 33,
   "metadata": {},
   "outputs": [
    {
     "name": "stdout",
     "output_type": "stream",
     "text": [
      "-inf\n",
      "inf\n",
      "v1_70g2N: 0.8087125296527928\n",
      "v2_70g2N: 1.6174250593055857\n"
     ]
    }
   ],
   "source": [
    "r_id = 'growth'\n",
    "print(model.reactions.R_HMR_9063.lb)\n",
    "print(model.reactions.R_HMR_9063.ub)\n",
    "print(\"v1:\", v1[r_id])\n",
    "print(\"v2:\", v2[r_id])"
   ]
  },
  {
   "cell_type": "code",
   "execution_count": 31,
   "metadata": {},
   "outputs": [],
   "source": [
    "compare_fluxes?"
   ]
  },
  {
   "cell_type": "code",
   "execution_count": 34,
   "metadata": {
    "scrolled": false
   },
   "outputs": [
    {
     "name": "stdout",
     "output_type": "stream",
     "text": [
      "R_HMR_4388a       0.029      1.66     \n",
      "R_HMR_4874       -1.42      -0.141    \n",
      "R_HMR_4280        1.27       0        \n",
      "R_HMR_5411       -1.27       0        \n",
      "R_HMR_4368        0.0872     0.965    \n",
      "R_HMR_4365       -0.116     -0.991    \n",
      "R_HMR_4373       -0.116     -0.991    \n",
      "R_HMR_4363        0.142      1.01     \n",
      "R_Biomass_formation  0.809      1.62     \n",
      "R_HMR_4139       -0.663     -1.43     \n",
      "R_HMR_9047        0.648     -0.0925   \n",
      "R_HMR_5426       -0.783     -0.0466   \n",
      "R_HMR_9034        0.231      0.947    \n",
      "R_HMR_4394        0.246      0.961    \n",
      "R_HMR_4977        0.72       0.0243   \n",
      "R_HMR_4873        2.04       1.36     \n",
      "R_HMR_4885       -0.641      0.0381   \n",
      "R_HMR_4210        0.131      0.792    \n",
      "R_HMR_4141        0          0.642    \n",
      "R_HMR_4919        1.06       0.427    \n",
      "R_HMR_9058        1.06       0.427    \n",
      "R_HMR_5029       -0.144     -0.778    \n",
      "R_HMR_4888       -4.99      -5.61     \n",
      "R_HMR_9073       -2.04      -1.44     \n",
      "R_HMR_3892        0.572      0        \n",
      "R_HMR_5101        0.572      0        \n",
      "R_HMR_3829       -0.42      -0.967    \n",
      "R_HMR_9802        0.155      0.693    \n",
      "R_HMR_3802       -0.518      0        \n",
      "R_HMR_4922       -1.48      -0.971    \n",
      "R_HMR_3947       -0.135      0.317    \n",
      "R_HMR_4375        0         -0.441    \n",
      "R_HMR_4381       -0.0191    -0.445    \n",
      "R_HMR_4391        0.0617     0.486    \n",
      "R_HMR_4890        0.0158    -0.408    \n",
      "R_HMR_4006       -0.399      0        \n",
      "R_HMR_6328        3.84       3.45     \n",
      "R_HMR_4379        0          0.378    \n",
      "R_HMR_9135       -0.32      -0.672    \n",
      "R_HMR_7764       -2.32      -2.67     \n",
      "R_HMR_4862        0.347      0        \n",
      "R_HMR_4852        0.394      0.73     \n",
      "R_HMR_0155       -0.278     -0.594    \n",
      "R_HMR_6048        0.278      0.594    \n",
      "R_HMR_9063        1.41       1.69     \n",
      "R_HMR_4765        0         -0.251    \n",
      "R_HMR_5004        0          0.251    \n",
      "R_HMR_6387        0         -0.251    \n",
      "R_HMR_4900        0.135     -0.106    \n",
      "R_HMR_4738       -0.209      0.0288   \n",
      "R_SYL6            0.209     -0.0288   \n",
      "R_HMR_5078       -1.31      -1.55     \n",
      "R_SYL7           -0.206      0.0288   \n",
      "R_SYL5            0.234      0        \n",
      "R_HMR_4851        0.11       0.343    \n",
      "R_HMR_5441       -0.0065    -0.229    \n",
      "R_HMR_3949        0.237      0.459    \n",
      "R_HMR_5043        4.24       4.03     \n",
      "R_HMR_9727        0.215      0.429    \n",
      "R_HMR_3944        0.244      0.457    \n",
      "R_HMR_4396       -0.244     -0.457    \n",
      "R_HMR_3984        0          0.211    \n",
      "R_HMR_8750       -0.0308    -0.233    \n",
      "R_HMR_8751        0.0308     0.233    \n",
      "R_HMR_3804       -0.223     -0.0228   \n",
      "R_HMR_8699       -0.1        0.0998   \n",
      "R_HMR_4865        0          0.192    \n",
      "R_HMR_4143        0          0.185    \n",
      "R_HMR_5570        0         -0.185    \n",
      "R_HMR_5406        0.648      0.83     \n",
      "R_HMR_8749       -0.648     -0.83     \n",
      "R_HMR_3980        0.178      0        \n",
      "R_HMR_7794        1.16       1.33     \n",
      "R_HMR_5422        1.15       1.32     \n",
      "R_HMR_5347       -0.11       0.0637   \n",
      "R_HMR_5448        0.605      0.775    \n",
      "R_HMR_4893        1.22       1.39     \n",
      "R_HMR_9078       -0.615     -0.784    \n",
      "R_HMR_5328        0.223      0.383    \n",
      "R_HMR_9737        0.137      0.297    \n",
      "R_HMR_6916        3.68       3.53     \n",
      "R_HMR_5308        0          0.142    \n",
      "R_HMR_6388        0.139      0        \n",
      "R_HMR_5113        0.215      0.0797   \n",
      "R_HMR_4028       -0.131      0        \n",
      "R_m02943         -0.543     -0.425    \n",
      "R_HMR_4193        0          0.115    \n",
      "R_HMR_5390        0.214      0.328    \n",
      "R_HMR_8607        0.217      0.331    \n",
      "R_HMR_4109        0.113      0        \n",
      "R_HMR_9415       -0.458     -0.345    \n",
      "R_HMR_3859        2.14       2.03     \n",
      "R_HMR_8512       -2.14      -2.03     \n",
      "R_HMR_9044        0.01       0.12     \n",
      "R_HMR_8698       -0.00902    0.0981   \n",
      "R_HMR_4410        0.689      0.794    \n",
      "R_HMR_5430        0.277      0.174    \n",
      "R_HMR_6675        0.1        0        \n",
      "R_HMR_6672       -8.09e-05  -0.1      \n",
      "R_HMR_6661       -0.000162   0.0986   \n",
      "R_HMR_5494       -0.0969     0        \n",
      "R_HMR_5565        0          0.0912   \n",
      "R_HMR_4284        0          0.087    \n",
      "R_HMR_8925        0          0.0868   \n",
      "R_HMR_4948        0          0.0862   \n",
      "R_HMR_9242        0         -0.0862   \n",
      "R_HMR_4652       -0.685     -0.771    \n",
      "R_HMR_5088        0.085      0        \n",
      "R_HMR_5450        0.0869     0.17     \n",
      "R_HMR_4883        0.134      0.211    \n",
      "R_HMR_4306        0         -0.075    \n",
      "R_HMR_4474        0          0.075    \n",
      "R_HMR_4625        0          0.075    \n",
      "R_HMR_4898        1.79       1.72     \n",
      "R_HMR_4892        0.125      0.0532   \n",
      "R_HMR_6914        1.78       1.71     \n",
      "R_HMR_9062        0.116      0.185    \n",
      "R_HMR_8377        0.0676     0        \n",
      "R_HMR_0685        0.0238     0.0904   \n",
      "R_HMR_0736        0          0.0658   \n",
      "R_HMR_8245        0.0187     0.0834   \n",
      "R_HMR_8247        0.0187     0.0834   \n",
      "R_HMR_9409       -0.0187    -0.0834   \n",
      "R_HMR_4301        0          0.0637   \n",
      "R_HMR_9736       -0.124     -0.187    \n",
      "R_HMR_4531        0          0.0621   \n",
      "R_HMR_4532        0         -0.0621   \n",
      "R_HMR_4533        0          0.0621   \n",
      "R_HMR_6911        0.083      0.0229   \n",
      "R_HMR_6381        0.0924     0.15     \n",
      "R_HMR_8861        0          0.0504   \n",
      "R_HMR_6375        0.0501     0        \n",
      "R_HMR_6918        1.42       1.37     \n",
      "R_HMR_0461       -0.0256    -0.0745   \n",
      "R_HMR_4000        0.101      0.0532   \n",
      "R_HMR_6049        0.0295     0.0777   \n",
      "R_HMR_4172        0          0.0471   \n",
      "R_HMR_4352       -0.0283    -0.075    \n",
      "R_HMR_9079       -0.164     -0.118    \n",
      "R_HMR_9069        0.229      0.275    \n",
      "R_HMR_8086        0.0724     0.0266   \n",
      "R_HMR_8087        0.0724     0.0266   \n",
      "R_HMR_9665        0.0724     0.0266   \n",
      "R_HMR_5079        0          0.0444   \n",
      "R_HMR_5251        0.0574     0.101    \n",
      "R_HMR_3975        0.0293     0.0724   \n",
      "R_HMR_1577        0.0911     0.0489   \n",
      "R_HMR_3845        0.0403     0.0816   \n",
      "R_HMR_1573        0.0912     0.05     \n",
      "R_HMR_4887        0.339      0.298    \n",
      "R_HMR_6005        0.0622     0.0223   \n",
      "R_HMR_9132       -0.0622    -0.0223   \n",
      "R_HMR_0795        0.0209     0.0606   \n",
      "R_HMR_4044       -0.0391     0        \n",
      "R_HMR_4635       -0.0391     0        \n",
      "R_HMR_3885       -0.0599    -0.0212   \n",
      "R_HMR_5297        1.13       1.09     \n",
      "R_HMR_8242        0.0383     0        \n",
      "R_HMR_8243       -0.0383     0        \n",
      "R_HMR_4354       -0.0456    -0.0838   \n",
      "R_HMR_9438       -0.0133    -0.0504   \n",
      "R_HMR_6627        0          0.036    \n",
      "R_HMR_4421        0          0.0356   \n",
      "R_m02036          0.00273    0.0382   \n",
      "R_zk2             0.00273    0.0382   \n",
      "R_HMR_7164        0.106      0.0701   \n",
      "R_HMR_4265        0.0489     0.0839   \n",
      "R_HMR_8791        0.0489     0.0839   \n",
      "R_HMR_4582       -0.00327   -0.0382   \n",
      "R_HMR_3816        0.0133     0.048    \n",
      "R_HMR_4262        0.0376     0.0718   \n",
      "R_HMR_4022        0.0724     0.106    \n",
      "R_HMR_0782        0.0322     0        \n",
      "R_HMR_9411       -0.0322     0        \n",
      "R_HMR_5124       -0.107     -0.0757   \n",
      "R_HMR_0692        0.0322     0.000736 \n",
      "R_HMR_0734        0.0383     0.00702  \n",
      "R_HMR_0735        0.0383     0.00702  \n",
      "R_HMR_9664        0.0383     0.00702  \n",
      "R_HMR_0796       -0.058     -0.0887   \n",
      "R_HMR_4300        0.0597     0.0292   \n",
      "R_HMR_4020       -0.117     -0.147    \n",
      "R_HMR_4299        0.0582     0.0278   \n",
      "R_HMR_4198        0.148      0.118    \n",
      "R_HMR_6921        0.506      0.476    \n",
      "R_HMR_8144       -0.0476    -0.077    \n",
      "R_HMR_4503       -0.0492    -0.0787   \n",
      "R_HMR_3977        0.0293     0        \n",
      "R_HMR_0753        0.0299     0.000736 \n",
      "R_HMR_5443        0.0291     0        \n",
      "R_HMR_6507        0.029      0        \n",
      "R_HMR_8424        0          0.0285   \n",
      "R_HMR_3806       -0.00242    0.026    \n",
      "R_HMR_4152        0.329      0.3      \n",
      "R_HMR_4477        0.0283     0        \n",
      "R_HMR_6506        0.0298     0.00162  \n",
      "R_HMR_1898       -0.0279     0        \n",
      "R_HMR_1659        0.0275     0        \n",
      "R_HMR_7705        0.123      0.0958   \n",
      "R_HMR_7706        0.123      0.0958   \n",
      "R_HMR_7707       -0.123     -0.0958   \n",
      "R_HMR_8774        0.123      0.0958   \n",
      "R_HMR_8775        0.123      0.0958   \n",
      "R_HMR_1656       -0.0275    -0.000399 \n",
      "R_HMR_5444        0          0.0268   \n",
      "R_HMR_4570       -0.0261     0        \n",
      "R_m02738         -0.0447    -0.0188   \n",
      "R_zk37           -0.0447    -0.0188   \n",
      "R_HMR_1899        0         -0.0256   \n",
      "R_HMR_3008        0          0.0251   \n",
      "R_HMR_7800       -0.365     -0.341    \n",
      "R_HMR_4048        0.029      0.0532   \n",
      "R_HMR_5362       -0.00145   -0.0256   \n",
      "R_HMR_4573        0          0.024    \n",
      "R_HMR_5074       -0.0831    -0.107    \n",
      "R_HMR_5318        0.0238     0        \n",
      "R_HMR_4954        0.0732     0.0969   \n",
      "R_HMR_9083       -0.0732    -0.0969   \n",
      "R_HMR_8219        0.0538     0.0771   \n",
      "R_HMR_0748        0.0558     0.0791   \n",
      "R_HMR_0779        0.0558     0.0791   \n",
      "R_HMR_0781        0.0558     0.0791   \n",
      "R_HMR_8233        0.0558     0.0791   \n",
      "R_HMR_8239        0.0558     0.0791   \n",
      "R_HMR_8737       -0.0558    -0.0791   \n",
      "R_HMR_9038        0.0249     0.0482   \n",
      "R_HMR_4788        0.103      0.0797   \n",
      "R_HMR_7708        0.101      0.0777   \n",
      "R_HMR_3838       -0.039     -0.0162   \n",
      "R_HMR_4269        0.0588     0.0814   \n",
      "R_HMR_9074        0.0349     0.0124   \n",
      "R_HMR_0547        0.0222     0.0445   \n",
      "R_HMR_0605        0.0222     0.0445   \n",
      "R_HMR_4270        0.0579     0.0798   \n",
      "R_HMR_5313        0.0213     0        \n",
      "R_HMR_5990        0.261      0.24     \n",
      "R_HMR_4038        0.0185     0.0393   \n",
      "R_HMR_4406        0.0185     0.0393   \n",
      "R_HMR_4799        0.0185     0.0393   \n",
      "R_HMR_4802        0.0185     0.0393   \n",
      "R_HMR_4804       -0.0185    -0.0393   \n",
      "R_HMR_4806        0.0185     0.0393   \n",
      "R_HMR_4808        0.0185     0.0393   \n",
      "R_HMR_4810        0.0185     0.0393   \n",
      "R_HMR_4812       -0.0185    -0.0393   \n",
      "R_HMR_4814        0.0185     0.0393   \n",
      "R_HMR_3208        0          0.0205   \n",
      "R_HMR_3213        0          0.0205   \n",
      "R_HMR_0838        0.029      0.00887  \n",
      "R_HMR_4914        0         -0.0198   \n",
      "R_HMR_3863        0.00369    0.0231   \n",
      "R_HMR_3865        0.00369    0.0231   \n",
      "R_HMR_3866        0.00369    0.0231   \n",
      "R_HMR_4184        0.00369    0.0231   \n",
      "R_HMR_8741        0.00369    0.0231   \n",
      "R_HMR_0837        0.0193     0        \n"
     ]
    }
   ],
   "source": [
    "compare_fluxes(v1, v2, sort=True, pattern='R_', tolerance=0.019)"
   ]
  },
  {
   "cell_type": "markdown",
   "metadata": {},
   "source": [
    "### Retrieve reaction equations from changed reactions"
   ]
  },
  {
   "cell_type": "code",
   "execution_count": 39,
   "metadata": {},
   "outputs": [],
   "source": [
    "flux_changes = pd.read_table(\"SavedFluxChanges_RetrievedFromCompare_Fluxes.txt\", header = None)"
   ]
  },
  {
   "cell_type": "code",
   "execution_count": 40,
   "metadata": {},
   "outputs": [],
   "source": [
    "df = pd.read_table(\"HMR2_FbaOpt_MetaboliteIDTranslation.txt\", index_col=1)\n"
   ]
  },
  {
   "cell_type": "code",
   "execution_count": 41,
   "metadata": {},
   "outputs": [],
   "source": [
    "for m_id, met in model.metabolites.items():\n",
    "    if m_id[2:] in df.index:\n",
    "        met.name = df.loc[m_id[2:], 'METID']"
   ]
  },
  {
   "cell_type": "code",
   "execution_count": 42,
   "metadata": {},
   "outputs": [
    {
     "name": "stdout",
     "output_type": "stream",
     "text": [
      "R_HMR_4388a: H+[c] + NADH[c] + pyruvate[c] --> L-lactate[c] + NAD+[c] [0, 1000]\n",
      "R_HMR_4874: NH3[c] <-> NH3[m]\n",
      "R_HMR_4280: H+[m] + NADH[m] + pyruvate[m] <-> L-lactate[m] + NAD+[m]\n",
      "R_HMR_5411: H+[c] + L-lactate[c] <-> H+[m] + L-lactate[m]\n",
      "R_HMR_4368: 1,3-bisphospho-D-glycerate[c] + ADP[c] <-> 3-phospho-D-glycerate[c] + ATP[c]\n",
      "R_HMR_4365: 2-phospho-D-glycerate[c] <-> 3-phospho-D-glycerate[c]\n",
      "R_HMR_4373: 1,3-bisphospho-D-glycerate[c] + H+[c] + NADH[c] <-> GAP[c] + NAD+[c] + Pi[c]\n",
      "R_HMR_4363: 2-phospho-D-glycerate[c] <-> H2O[c] + PEP[c]\n",
      "R_Biomass_formation: 0.0031466 1,2-diacylglycerol-LD-TAG pool[c] + 0.0038601 1-acylglycerol-3P-LD-TG1 pool[c] + 0.0012642 2-lysolecithin pool[c] + 0.11871 alanine[c] + 0.0009274 arginine[c] + 0.012056 asparagine[c] + 0.69277 aspartate[c] + 0.0082708 cholesterol[c] + 0.0065713 cholesterol-ester pool[r] + 0.00057356 CL pool[c] + 0.0012056 cysteine[c] + 0.007581 DNA[n] + 0.0308145 RNA[c] + 0.16786 glutamate[c] + 0.19104 glutamine[c] + 0.13911 glycine[c] + 0.26551 glycogen[c] + 0.028749 histidine[c] + 0.0037096 isoleucine[c] + 0.011129 leucine[c] + 0.009274 lysine[c] + 0.0018548 methionine[c] + 0.017171 PC-LD pool[c] + 0.020051 PE-LD pool[c] + 0.0037096 phenylalanine[c] + 0.016414 phosphatidate-LD-TAG pool[c] + 0.0030972 PI pool[c] + 0.017992 proline[c] + 0.005891 PS-LD pool[c] + 0.037096 serine[c] + 0.0024143 SM pool[c] + 0.027482 TAG-LD pool[c] + 0.020403 threonine[c] + 0.0009274 tryptophan[c] + 0.0055644 tyrosine[c] + 0.012056 valine[c] + 0.001 cofactors and vitamins[c] --> biomass[x]\n",
      "R_HMR_4139: H+[c] + NADH[c] + OAA[c] <-> malate[c] + NAD+[c]\n",
      "R_HMR_9047: H2O[x] <-> H2O[s]\n",
      "R_HMR_5426: acetoacetate[c] + pyruvate[m] <-> acetoacetate[m] + pyruvate[c]\n",
      "R_HMR_9034: glucose[x] <-> glucose[s]\n",
      "R_HMR_4394: ATP[c] + glucose[c] --> ADP[c] + glucose-6-phosphate[c]\n",
      "R_HMR_4977: acetoacetate[c] + H+[c] --> acetoacetate[m] + H+[m]\n",
      "R_HMR_4873: NH3[c] <-> NH3[s]\n",
      "R_HMR_4885: H2O[c] <-> H2O[s]\n",
      "R_HMR_4210: PEP[c] + UDP[c] --> pyruvate[c] + UTP[c]\n",
      "R_HMR_4141: H+[m] + NADH[m] + OAA[m] <-> malate[m] + NAD+[m]\n",
      "R_HMR_4919: CO2[c] <-> CO2[s]\n",
      "R_HMR_9058: CO2[s] --> CO2[x]\n",
      "R_HMR_5029: glucose[c] <-> glucose[s]\n",
      "R_HMR_4888: H2O[c] <-> H2O[m]\n",
      "R_HMR_9073: NH3[x] <-> NH3[s]\n",
      "R_HMR_3892: glutamine[m] + H2O[m] --> glutamate[m] + NH3[m]\n",
      "R_HMR_5101: glutamine[c] + H+[c] --> glutamine[m] + H+[m]\n",
      "R_HMR_3829: AKG[c] + aspartate[c] <-> glutamate[c] + OAA[c]\n",
      "R_HMR_9802: glutamine[c] + H2O[c] --> glutamate[c] + NH3[c]\n",
      "R_HMR_3802: AKG[m] + H+[m] + NADH[m] + NH3[m] <-> glutamate[m] + H2O[m] + NAD+[m] [-inf, 0.0]\n",
      "R_HMR_4922: CO2[c] <-> CO2[m]\n",
      "R_HMR_3947: H2O2[c] <-> H2O2[p]\n",
      "R_HMR_4375: DHAP[c] + GAP[c] <-> fructose-1,6-bisphosphate[c]\n",
      "R_HMR_4381: fructose-6-phosphate[c] <-> glucose-6-phosphate[c]\n",
      "R_HMR_4391: DHAP[c] <-> GAP[c]\n",
      "R_HMR_4890: H2O[c] <-> H2O[p]\n",
      "R_HMR_4006: ADP[c] + UTP[c] <-> ATP[c] + UDP[c]\n",
      "R_HMR_6328: ADP[c] + ATP[m] <-> ADP[m] + ATP[c]\n",
      "R_HMR_4379: ATP[c] + fructose-6-phosphate[c] --> ADP[c] + fructose-1,6-bisphosphate[c]\n",
      "R_HMR_9135: L-lactate[x] <-> L-lactate[s]\n",
      "R_HMR_7764: Pi[c] <-> Pi[n]\n",
      "R_HMR_4862: Pi[c] + succinate[m] <-> Pi[m] + succinate[c]\n",
      "R_HMR_4852: AKG[c] + malate[m] <-> AKG[m] + malate[c]\n",
      "R_HMR_0155: butyrate[s] <-> butyrate[c]\n",
      "R_HMR_6048: butyrate[s] + L-lactate[c] <-> butyrate[c] + L-lactate[s]\n",
      "R_HMR_9063: glutamine[x] <-> glutamine[s]\n",
      "R_HMR_4765: bilirubin[c] <-> bilirubin[r]\n",
      "R_HMR_5004: bilirubin[c] + Na+[c] <-> bilirubin[r] + Na+[r]\n",
      "R_HMR_6387: Na+[c] + Pi[c] <-> Na+[r] + Pi[r]\n",
      "R_HMR_4900: O2[c] <-> O2[p]\n",
      "R_HMR_4738: 2-aminoadipate 6-semialdehyde[c] + L-2-aminoadipate[m] <-> 2-aminoadipate 6-semialdehyde[m] + L-2-aminoadipate[c]\n",
      "R_SYL6: 2-aminoadipate 6-semialdehyde[c] + H2O[c] + NADP+[c] <-> H+[c] + L-2-aminoadipate[c] + NADPH[c]\n",
      "R_HMR_5078: glutamine[c] <-> glutamine[s]\n",
      "R_SYL7: 2-aminoadipate 6-semialdehyde[m] + H2O[m] + NADP+[m] <-> H+[m] + L-2-aminoadipate[m] + NADPH[m]\n",
      "R_SYL5: OAA[m] --> pyruvate[m] + CO2[m]\n",
      "R_HMR_4851: AKG[c] + succinate[m] <-> AKG[m] + succinate[c]\n",
      "R_HMR_5441: homoserine[c] <-> homoserine[s]\n",
      "R_HMR_3949: malate[m] + OAA[c] --> malate[c] + OAA[m]\n",
      "R_HMR_5043: H+[c] + Pi[c] <-> H+[m] + Pi[m]\n",
      "R_HMR_9727: UDP-glucose[c] --> UDP[c] + glycogen[c]\n",
      "R_HMR_3944: glucose-1-phosphate[c] + UTP[c] --> PPi[c] + UDP-glucose[c]\n",
      "R_HMR_4396: glucose-1-phosphate[c] <-> glucose-6-phosphate[c]\n",
      "R_HMR_3984: 2.0 H2O2[p] --> 2.0 H2O[p] + O2[p]\n",
      "R_HMR_8750: H+[m] + HCO3-[m] <-> carbonate[m]\n",
      "R_HMR_8751: CO2[m] + H2O[m] <-> carbonate[m]\n",
      "R_HMR_3804: AKG[m] + H+[m] + NADPH[m] + NH3[m] <-> glutamate[m] + H2O[m] + NADP+[m] [-inf, 0.0]\n",
      "R_HMR_8699: 13-cis-retinal[c] + H2O[c] + NADP+[c] <-> 13-cis-retinoate[c] + H+[c] + NADPH[c] [-0.1, 0.1]\n",
      "R_HMR_4865: malate[m] + Pi[c] <-> malate[c] + Pi[m]\n",
      "R_HMR_4143: ATP[m] + H+[m] + HCO3-[m] + pyruvate[m] --> ADP[m] + OAA[m] + Pi[m]\n",
      "R_HMR_5570: asparagine[c] + homoserine[s] <-> asparagine[s] + homoserine[c]\n",
      "R_HMR_5406: CO2[c] + H2O[c] <-> carbonate[c]\n",
      "R_HMR_8749: H+[c] + HCO3-[c] <-> carbonate[c]\n",
      "R_HMR_3980: 2.0 H2O2[c] --> 2.0 H2O[c] + O2[c]\n",
      "R_HMR_7794: H2O[n] + PPi[n] --> 2.0 Pi[n]\n",
      "R_HMR_5422: PPi[c] <-> PPi[n]\n",
      "R_HMR_5347: PPi[c] <-> PPi[r]\n",
      "R_HMR_5448: HCO3-[c] + 2.0 Na+[c] --> HCO3-[s] + 2.0 Na+[s]\n",
      "R_HMR_4893: H2O[c] <-> H2O[n]\n",
      "R_HMR_9078: HCO3-[x] <-> HCO3-[s]\n",
      "R_HMR_5328: aspartate[s] + Na+[s] --> aspartate[c] + Na+[c]\n",
      "R_HMR_9737: aspartate[c] --> aspartate[s]\n",
      "R_HMR_6916: ADP[m] + 4.0 H+[i] + Pi[m] --> ATP[m] + 4.0 H+[m] + H2O[m]\n",
      "R_HMR_5308: glutamine[s] + Na+[s] --> glutamine[c] + Na+[c]\n",
      "R_HMR_6388: Pi[r] + PPi[c] <-> Pi[c] + PPi[r]\n",
      "R_HMR_5113: alanine[c] --> alanine[m]\n",
      "R_HMR_4028: ADP[c] + CTP[c] <-> ATP[c] + CDP[c]\n",
      "R_m02943: succinate[s] <-> succinate[c]\n",
      "R_HMR_4193: CDP[c] + PEP[c] --> CTP[c] + pyruvate[c]\n",
      "R_HMR_5390: H2O[c] + methionine[c] + O2[c] --> 4-methylthio-2-oxobutanoic acid[c] + H2O2[c] + NH3[c]\n",
      "R_HMR_8607: 4-methylthio-2-oxobutanoic acid[c] + glutamine[c] + 2.0 H+[c] --> glutamate[c] + methionine[c]\n",
      "R_HMR_4109: AKG[m] + alanine[m] <-> glutamate[m] + pyruvate[m]\n",
      "R_HMR_9415: succinate[x] <-> succinate[s]\n",
      "R_HMR_3859: D-lactate[c] + 2.0 ferricytochrome C[m] --> 2.0 ferrocytochrome C[m] + 2.0 H+[c] + pyruvate[c]\n",
      "R_HMR_8512: D-lactate[c] + NAD+[c] <-> H+[c] + NADH[c] + pyruvate[c]\n",
      "R_HMR_9044: threonine[x] --> threonine[s]\n",
      "R_HMR_8698: H+[c] + NADPH[c] + retinoate[c] <-> H2O[c] + NADP+[c] + retinal[c] [-0.1, 0.1]\n",
      "R_HMR_4410: fumarate[m] + H2O[m] <-> malate[m]\n",
      "R_HMR_5430: H+[c] + Na+[s] --> H+[s] + Na+[c]\n",
      "R_HMR_6675: 13-cis-retinal[c] + H2O[c] + NAD+[c] <-> 13-cis-retinoate[c] + H+[c] + NADH[c] [-0.1, 0.1]\n",
      "R_HMR_6672: 13-cis-retinal[c] <-> retinal[c] [-0.1, 0.1]\n",
      "R_HMR_6661: 13-cis-retinoate[c] <-> retinoate[c] [-0.1, 0.1]\n",
      "R_HMR_5494: glutamine[c] + proline[s] <-> glutamine[s] + proline[c]\n",
      "R_HMR_5565: proline[c] + threonine[s] <-> proline[s] + threonine[c]\n",
      "R_HMR_4284: threonine[c] --> acetaldehyde[c] + glycine[c]\n",
      "R_HMR_8925: Na+[s] + NH3[c] --> Na+[c] + NH3[s]\n",
      "R_HMR_4948: acetaldehyde[c] <-> acetaldehyde[s]\n",
      "R_HMR_9242: acetaldehyde[x] <-> acetaldehyde[s]\n",
      "R_HMR_4652: fumarate[m] + ubiquinol[m] <-> succinate[m] + ubiquinone[m]\n",
      "R_HMR_5088: asparagine[s] --> asparagine[c]\n",
      "R_HMR_5450: glucose[s] + Na+[s] --> glucose[c] + Na+[c]\n",
      "R_HMR_4883: H2O[c] <-> H2O[r]\n",
      "R_HMR_4306: glucono-1,5-lactone-6-phosphate[c] + H+[c] + NADPH[c] <-> glucose-6-phosphate[c] + NADP+[c]\n",
      "R_HMR_4474: 6-phospho-D-gluconate[c] + NADP+[c] --> CO2[c] + H+[c] + NADPH[c] + ribulose-5-phosphate[c]\n",
      "R_HMR_4625: glucono-1,5-lactone-6-phosphate[c] + H2O[c] --> 6-phospho-D-gluconate[c]\n",
      "R_HMR_4898: O2[c] <-> O2[m]\n",
      "R_HMR_4892: H2O[c] <-> H2O[g]\n",
      "R_HMR_6914: 4.0 ferrocytochrome C[m] + 8.0 H+[m] + O2[m] --> 4.0 ferricytochrome C[m] + 4.0 H+[i] + 2.0 H2O[m]\n",
      "R_HMR_9062: asparagine[x] <-> asparagine[s]\n",
      "R_HMR_8377: CTP[c] + N-acetylneuraminate[c] --> CMP-N-acetylneuraminate[c] + PPi[c]\n",
      "R_HMR_0685: fatty acid-LD-TG1 pool[c] --> 0.0001 (10Z)-heptadecenoic acid[c] + 0.0001 (11Z,14Z)-eicosadienoic acid[c] + 0.0001 (11Z,14Z,17Z)-eicosatrienoic acid[c] + 0.0001 (13Z)-eicosenoic acid[c] + 0.0001 (13Z)-octadecenoic acid[c] + 0.0001 (13Z,16Z)-docosadienoic acid[c] + 0.0001 (4Z,7Z,10Z,13Z,16Z)-DPA[c] + 0.0001 (6Z,9Z)-octadecadienoic acid[c] + 0.0001 (6Z,9Z,12Z,15Z,18Z)-TPA[c] + 0.0001 (6Z,9Z,12Z,15Z,18Z,21Z)-THA[c] + 0.0001 (7Z)-octadecenoic acid[c] + 0.0001 (7Z)-tetradecenoic acid[c] + 0.0001 (9E)-tetradecenoic acid[c] + 0.0001 (9Z,12Z,15Z,18Z)-TTA[c] + 0.0001 (9Z,12Z,15Z,18Z,21Z)-TPA[c] + 0.0001 10,13,16,19-docosatetraenoic acid[c] + 0.0001 10,13,16-docosatriynoic acid[c] + 0.0001 12,15,18,21-tetracosatetraenoic acid[c] + 0.0001 13,16,19-docosatrienoic acid[c] + 0.0001 7-palmitoleic acid[c] + 0.0001 8,11-eicosadienoic acid[c] + 0.0001 9-eicosenoic acid[c] + 0.0001 9-heptadecylenic acid[c] + 0.0001 adrenic acid[c] + 0.0024 arachidonate[c] + 0.0001 behenic acid[c] + 0.0001 cerotic acid[c] + 0.0001 cis-cetoleic acid[c] + 0.0001 cis-erucic acid[c] + 0.0001 cis-gondoic acid[c] + 0.0208 cis-vaccenic acid[c] + 0.0005 DHA[c] + 0.0013 dihomo-gamma-linolenate[c] + 0.0017 DPA[c] + 0.0001 eicosanoate[c] + 0.0001 elaidate[c] + 0.0013 EPA[c] + 0.0048 gamma-linolenate[c] + 0.0001 henicosanoic acid[c] + 0.0001 lauric acid[c] + 0.0001 lignocerate[c] + 0.0741 linoleate[c] + 0.0037 linolenate[c] + 0.0001 margaric acid[c] + 0.0001 mead acid[c] + 0.0096 myristic acid[c] + 0.0001 nervonic acid[c] + 0.0001 nonadecylic acid[c] + 0.122 oleate[c] + 0.0001 omega-3-arachidonic acid[c] + 0.64 palmitate[c] + 0.0286 palmitolate[c] + 0.0001 pentadecylic acid[c] + 0.0001 physeteric acid[c] + 0.082 stearate[c] + 0.0028 stearidonic acid[c] + 0.0001 tricosanoic acid[c] + 0.0001 tridecylic acid[c] + 0.0001 ximenic acid[c]\n",
      "R_HMR_0736: ceramide pool[c] + PC-LD pool[c] --> 1,2-diacylglycerol-LD-TAG pool[c] + SM pool[c]\n",
      "R_HMR_8245: H2O[c] + SM pool[c] --> fatty acid-LD-TG1 pool[c] + sphingosylphosphorylcholine[c]\n",
      "R_HMR_8247: sphingosylphosphorylcholine[c] <-> sphingosylphosphorylcholine[s]\n",
      "R_HMR_9409: sphingosylphosphorylcholine[x] <-> sphingosylphosphorylcholine[s]\n",
      "R_HMR_4301: fructose-6-phosphate[c] + UTP[c] --> fructose-1,6-bisphosphate[c] + UDP[c]\n",
      "R_HMR_9736: cholesterol-ester pool[x] <-> cholesterol-ester pool[l]\n",
      "R_HMR_4531: H+[c] + N-acetylneuraminate[c] + NADH[c] + O2[c] --> H2O[c] + NAD+[c] + neungc[c]\n",
      "R_HMR_4532: CMP-neuNGc[c] + PPi[c] <-> CTP[c] + neungc[c]\n",
      "R_HMR_4533: CMP-neuNGc[c] + H2O[c] + NAD+[c] --> CMP-N-acetylneuraminate[c] + H+[c] + NADH[c] + O2[c]\n",
      "R_HMR_6911: FADH2[m] + ubiquinone[m] <-> FAD[m] + ubiquinol[m]\n",
      "R_HMR_6381: H+[c] + Na+[s] + serine[s] --> H+[s] + Na+[c] + serine[c]\n",
      "R_HMR_8861: H2O[c] + urea[c] <-> H2O[s] + urea[s]\n",
      "R_HMR_6375: Na+[s] + serine[s] --> Na+[c] + serine[c]\n",
      "R_HMR_6918: 2.0 ferricytochrome C[m] + 2.0 H+[m] + ubiquinol[m] --> 2.0 ferrocytochrome C[m] + 4.0 H+[i] + ubiquinone[m]\n",
      "R_HMR_0461: PC-LD pool[c] <-> PC-LD pool[r]\n",
      "R_HMR_4000: ATP[c] --> cAMP[c] + PPi[c]\n",
      "R_HMR_6049: L-lactate[c] + retinoate[s] <-> L-lactate[s] + retinoate[c] [-0.1, 0.1]\n",
      "R_HMR_4172: asparagine[c] + H2O[c] --> aspartate[c] + NH3[c]\n",
      "R_HMR_4352: ribose-5-phosphate[c] <-> ribulose-5-phosphate[c]\n",
      "R_HMR_9079: H+[x] <-> H+[s]\n",
      "R_HMR_9069: serine[x] <-> serine[s]\n",
      "R_HMR_8086: cAMP[c] <-> cAMP[g]\n",
      "R_HMR_8087: cAMP[g] + H2O[g] --> AMP[g]\n",
      "R_HMR_9665: AMP[g] <-> AMP[c]\n",
      "R_HMR_5079: serine[s] --> serine[c]\n",
      "R_HMR_5251: PC-LD pool[l] --> PC-LD pool[r]\n",
      "R_HMR_3975: H2O[r] + PPi[r] --> 2.0 Pi[r]\n",
      "R_HMR_1577: HMG-CoA[m] --> acetoacetate[m] + acetyl-CoA[m]\n",
      "R_HMR_3845: serine[c] + THF[c] <-> 5,10-methylene-THF[c] + glycine[c] + H2O[c]\n",
      "R_HMR_1573: acetoacetyl-CoA[m] + acetyl-CoA[m] + H2O[m] --> CoA[m] + HMG-CoA[m]\n",
      "R_HMR_4887: H2O[c] --> H2O[l]\n",
      "R_HMR_6005: acetoacetate[c] + retinoate[s] <-> acetoacetate[s] + retinoate[c] [-0.1, 0.1]\n",
      "R_HMR_9132: acetoacetate[x] <-> acetoacetate[s]\n",
      "R_HMR_0795: H2O[c] + SM pool[c] --> ceramide pool[c] + phosphocholine[c]\n",
      "R_HMR_4044: ADP[c] + dATP[c] <-> ATP[c] + dADP[c]\n",
      "R_HMR_4635: ADP[c] + dTTP[c] <-> ATP[c] + dTDP[c]\n",
      "R_HMR_3885: acetoacetyl-CoA[m] + CoA[m] <-> 2.0 acetyl-CoA[m]\n",
      "R_HMR_5297: AKG[m] + CoA[m] + NAD+[m] --> CO2[m] + H+[m] + NADH[m] + succinyl-CoA[m]\n",
      "R_HMR_8242: H2O[g] + SM pool[g] --> ceramide pool[g] + phosphocholine[g]\n",
      "R_HMR_8243: phosphocholine[c] <-> phosphocholine[g]\n",
      "R_HMR_4354: ribose-1-phosphate[c] <-> ribose-5-phosphate[c]\n",
      "R_HMR_9438: urea[x] <-> urea[s]\n",
      "R_HMR_6627: dTDP[c] + PEP[c] <-> dTTP[c] + pyruvate[c]\n",
      "R_HMR_4421: dADP[c] + PEP[c] --> dATP[c] + pyruvate[c]\n",
      "R_m02036: guanidinoacetate[x] <-> guanidinoacetate[s]\n",
      "R_zk2: guanidinoacetate[s] <-> guanidinoacetate[c]\n",
      "R_HMR_7164: H2O[c] + RNA[c] --> 0.18 AMP[c] + 0.3 CMP[c] + 0.34 GMP[c] + 0.18 UMP[c]\n",
      "R_HMR_4265: ATP[c] + nicotinamide ribonucleoside[c] --> ADP[c] + H+[c] + nicotinamide D-ribonucleotide[c]\n",
      "R_HMR_8791: H+[c] + nicotinamide[c] + ribose-1-phosphate[c] <-> nicotinamide ribonucleoside[c] + Pi[c]\n",
      "R_HMR_4582: arginine[c] + glycine[c] <-> guanidinoacetate[c] + ornithine[c]\n",
      "R_HMR_3816: arginine[c] + H2O[c] --> ornithine[c] + urea[c]\n",
      "R_HMR_4262: nicotinamide D-ribonucleotide[c] + PPi[c] <-> nicotinamide[c] + PRPP[c]\n",
      "R_HMR_4022: GTP[c] --> cGMP[c] + PPi[c]\n",
      "R_HMR_0782: sphingosine-1-phosphate[c] <-> sphingosine-1-phosphate[s]\n",
      "R_HMR_9411: sphingosine-1-phosphate[x] <-> sphingosine-1-phosphate[s]\n",
      "R_HMR_5124: glycine[c] <-> glycine[m]\n",
      "R_HMR_0692: fatty acid-LD-SM pool[c] <-> 0.002 (10Z)-heptadecenoic acid[c] + 0.002 (11Z,14Z)-eicosadienoic acid[c] + 0.002 (11Z,14Z,17Z)-eicosatrienoic acid[c] + 0.002 (13Z)-eicosenoic acid[c] + 0.002 (13Z)-octadecenoic acid[c] + 0.002 (13Z,16Z)-docosadienoic acid[c] + 0.002 (4Z,7Z,10Z,13Z,16Z)-DPA[c] + 0.002 (6Z,9Z)-octadecadienoic acid[c] + 0.002 (6Z,9Z,12Z,15Z,18Z)-TPA[c] + 0.002 (6Z,9Z,12Z,15Z,18Z,21Z)-THA[c] + 0.002 (7Z)-octadecenoic acid[c] + 0.002 (7Z)-tetradecenoic acid[c] + 0.002 (9E)-tetradecenoic acid[c] + 0.002 (9Z,12Z,15Z,18Z)-TTA[c] + 0.002 (9Z,12Z,15Z,18Z,21Z)-TPA[c] + 0.002 10,13,16,19-docosatetraenoic acid[c] + 0.002 10,13,16-docosatriynoic acid[c] + 0.002 12,15,18,21-tetracosatetraenoic acid[c] + 0.002 13,16,19-docosatrienoic acid[c] + 0.002 7-palmitoleic acid[c] + 0.002 8,11-eicosadienoic acid[c] + 0.002 9-eicosenoic acid[c] + 0.002 9-heptadecylenic acid[c] + 0.002 adrenic acid[c] + 0.0136 arachidonate[c] + 0.002 behenic acid[c] + 0.002 cerotic acid[c] + 0.002 cis-cetoleic acid[c] + 0.002 cis-erucic acid[c] + 0.002 cis-gondoic acid[c] + 0.0453 cis-vaccenic acid[c] + 0.003 DHA[c] + 0.002 dihomo-gamma-linolenate[c] + 0.002 DPA[c] + 0.002 eicosanoate[c] + 0.002 elaidate[c] + 0.0068 EPA[c] + 0.002 gamma-linolenate[c] + 0.002 henicosanoic acid[c] + 0.002 lauric acid[c] + 0.002 lignocerate[c] + 0.025 linoleate[c] + 0.0075 linolenate[c] + 0.002 margaric acid[c] + 0.002 mead acid[c] + 0.011 myristic acid[c] + 0.002 nervonic acid[c] + 0.002 nonadecylic acid[c] + 0.061 oleate[c] + 0.002 omega-3-arachidonic acid[c] + 0.557 palmitate[c] + 0.0358 palmitolate[c] + 0.002 pentadecylic acid[c] + 0.002 physeteric acid[c] + 0.138 stearate[c] + 0.002 stearidonic acid[c] + 0.002 tricosanoic acid[c] + 0.002 tridecylic acid[c] + 0.002 ximenic acid[c]\n",
      "R_HMR_0734: PC-LD pool[c] <-> PC-LD pool[g]\n",
      "R_HMR_0735: ceramide pool[g] + PC-LD pool[g] --> 1,2-diacylglycerol-LD-TAG pool[g] + SM pool[g]\n",
      "R_HMR_9664: 1,2-diacylglycerol-LD-TAG pool[g] --> 1,2-diacylglycerol-LD-TAG pool[c]\n",
      "R_HMR_0796: SM pool[c] <-> SM pool[l]\n",
      "R_HMR_4300: fructose-6-phosphate[c] + glutamine[c] --> glucosamine-6-phosphate[c] + glutamate[c]\n",
      "R_HMR_4020: ADP[c] + GDP[c] <-> ATP[c] + GMP[c]\n",
      "R_HMR_4299: glucosamine-6-phosphate[c] + H2O[c] --> fructose-6-phosphate[c] + NH3[c]\n",
      "R_HMR_4198: pyruvate[c] + serine[c] --> alanine[c] + hydroxypyruvate[c]\n",
      "R_HMR_6921: 5.0 H+[m] + NADH[m] + ubiquinone[m] --> 4.0 H+[i] + NAD+[m] + ubiquinol[m]\n",
      "R_HMR_8144: 5,10-methenyl-THF[c] + NADH[c] <-> 5,10-methylene-THF[c] + NAD+[c]\n",
      "R_HMR_4503: 10-formyl-THF[c] + H+[c] <-> 5,10-methenyl-THF[c] + H2O[c]\n",
      "R_HMR_3977: H2O[c] + PPi[c] --> 2.0 Pi[c]\n",
      "R_HMR_0753: dihydroceramide pool[c] + H2O[c] <-> fatty acid-LD-SM pool[c] + sphinganine[c]\n",
      "R_HMR_5443: ATP[c] + glutathionyl-leukotriene C4[c] + H2O[c] --> ADP[c] + glutathionyl-leukotriene C4[s] + Pi[c]\n",
      "R_HMR_6507: FMN[c] + H2O[c] --> Pi[c] + riboflavin[c]\n",
      "R_HMR_8424: H2O[c] + phosphocholine[c] --> choline[c] + Pi[c]\n"
     ]
    },
    {
     "name": "stdout",
     "output_type": "stream",
     "text": [
      "R_HMR_3806: glutamate[m] + H+[m] + NADH[m] <-> H2O[m] + L-glutamate 5-semialdehyde[m] + NAD+[m]\n",
      "R_HMR_4152: ADP[m] + Pi[m] + succinyl-CoA[m] <-> ATP[m] + CoA[m] + succinate[m]\n",
      "R_HMR_4477: D-xylulose-5-phosphate[c] <-> ribulose-5-phosphate[c]\n",
      "R_HMR_6506: ATP[c] + riboflavin[c] --> ADP[c] + FMN[c]\n",
      "R_HMR_1898: glutathionyl-leukotriene C4[c] + HCO3-[c] + noradrenaline[s] <-> glutathionyl-leukotriene C4[s] + HCO3-[s] + noradrenaline[c]\n",
      "R_HMR_1659: ATP[c] + choloyl-CoA[c] + H2O[c] --> ADP[c] + choloyl-CoA[p] + Pi[c]\n",
      "R_HMR_7705: glycolate[c] --> glycolate[p]\n",
      "R_HMR_7706: glycolate[p] + O2[p] --> glyoxalate[p] + H2O2[p]\n",
      "R_HMR_7707: glyoxalate[c] <-> glyoxalate[p]\n",
      "R_HMR_8774: hydroxypyruvate[c] --> CO2[c] + glycolaldehyde[c]\n",
      "R_HMR_8775: glycolaldehyde[c] + H2O[c] + NAD+[c] --> glycolate[c] + H+[c] + NADH[c]\n",
      "R_HMR_1656: choloyl-CoA[c] <-> choloyl-CoA[p]\n",
      "R_HMR_5444: ATP[c] + H2O[c] + S-glutathionyl-2-4-dinitrobenzene[c] --> ADP[c] + Pi[c] + S-glutathionyl-2-4-dinitrobenzene[s]\n",
      "R_HMR_4570: ADP[c] + dGTP[c] <-> ATP[c] + dGDP[c]\n",
      "R_m02738: phosphocholine[x] <-> phosphocholine[s]\n",
      "R_zk37: phosphocholine[s] <-> phosphocholine[c]\n",
      "R_HMR_1899: HCO3-[c] + noradrenaline[s] + S-glutathionyl-2-4-dinitrobenzene[c] <-> HCO3-[s] + noradrenaline[c] + S-glutathionyl-2-4-dinitrobenzene[s]\n",
      "R_HMR_3008: ATP[c] + H2O[c] + propanoyl-CoA[c] --> ADP[c] + Pi[c] + propanoyl-CoA[p]\n",
      "R_HMR_7800: ADP[c] + GDP[c] <-> AMP[c] + GTP[c]\n",
      "R_HMR_4048: cGMP[c] + H2O[c] --> GMP[c]\n",
      "R_HMR_5362: propanoyl-CoA[c] <-> propanoyl-CoA[p]\n",
      "R_HMR_4573: dGDP[c] + PEP[c] --> dGTP[c] + pyruvate[c]\n",
      "R_HMR_5074: tyrosine[c] <-> tyrosine[s]\n",
      "R_HMR_5318: Na+[s] + tyrosine[s] --> Na+[c] + tyrosine[c]\n",
      "R_HMR_4954: choline[c] <-> choline[s]\n",
      "R_HMR_9083: choline[x] <-> choline[s]\n",
      "R_HMR_8219: dihydroceramide pool[c] + NADP+[c] --> ceramide pool[c] + H+[c] + NADPH[c]\n",
      "R_HMR_0748: ethanolamine-phosphate[c] + hexadecanal[c] --> sphinganine-1-phosphate[c]\n",
      "R_HMR_0779: sphingosine-1-phosphate[c] --> ethanolamine-phosphate[c] + hexadecenal[c]\n",
      "R_HMR_0781: H+[c] + hexadecenal[c] + NADPH[c] --> hexadecanal[c] + NADP+[c]\n",
      "R_HMR_8233: H2O[r] + sphinganine-1-phosphate[r] --> Pi[r] + sphinganine[r]\n",
      "R_HMR_8239: sphinganine-1-phosphate[c] <-> sphinganine-1-phosphate[r]\n",
      "R_HMR_8737: sphinganine[c] <-> sphinganine[r]\n",
      "R_HMR_9038: histidine[x] --> histidine[s]\n",
      "R_HMR_4788: alanine[m] + glyoxalate[m] --> glycine[m] + pyruvate[m]\n",
      "R_HMR_7708: glyoxalate[c] <-> glyoxalate[m]\n",
      "R_HMR_3838: 1-pyrroline-5-carboxylate[m] + ubiquinol[m] <-> proline[m] + ubiquinone[m] [-inf, 0.0]\n",
      "R_HMR_4269: ATP[c] + NAD+[c] --> ADP[c] + NADP+[c]\n",
      "R_HMR_9074: sulfate[x] <-> sulfate[s]\n",
      "R_HMR_0547: 0.0001 (10Z)-heptadecenoyl-CoA[c] + 0.0001 (11Z)-docosenoyl-CoA[c] + 0.0001 (11Z)-eicosenoyl-CoA[c] + 0.0001 (11Z,14Z)-eicosadienoyl-CoA[c] + 0.0001 (11Z,14Z,17Z)-eicosatrienoyl-CoA[c] + 0.0001 (13Z)-docosenoyl-CoA[c] + 0.0001 (13Z)-eicosenoyl-CoA[c] + 0.0001 (13Z)-octadecenoyl-CoA[c] + 0.0001 (13Z,16Z)-docosadienoyl-CoA[c] + 0.0001 (15Z)-tetracosenoyl-CoA[c] + 0.0011 (4Z,7Z,10Z,13Z,16Z)-docosapentaenoyl-CoA[c] + 0.0221 (4Z,7Z,10Z,13Z,16Z,19Z)-docosahexaenoyl-CoA[c] + 0.0001 (5Z,8Z,11Z)-eicosatrienoyl-CoA[c] + 0.0035 (5Z,8Z,11Z,14Z,17Z)-eicosapentaenoyl-CoA[c] + 0.0001 (6Z,9Z)-octadecadienoyl-CoA[c] + 0.0026 (6Z,9Z,12Z,15Z)-octadecatetraenoyl-CoA[c] + 0.0001 (6Z,9Z,12Z,15Z,18Z)-tetracosapentaenoyl-CoA[c] + 0.0001 (6Z,9Z,12Z,15Z,18Z,21Z)-tetracosahexaenoyl-CoA[c] + 0.0001 (7Z)-octadecenoyl-CoA[c] + 0.0001 (7Z)-tetradecenoyl-CoA[c] + 0.0022 (7Z,10Z,13Z,16Z)-docosatetraenoyl-CoA[c] + 0.0038 (7Z,10Z,13Z,16Z,19Z)-docosapentaenoyl-CoA[c] + 0.0001 (8Z,11Z)-eicosadienoyl-CoA[c] + 0.0001 (8Z,11Z,14Z,17Z)-eicosatetraenoyl-CoA[c] + 0.0001 (9E)-octadecenoyl-CoA[c] + 0.0001 (9E)-tetradecenoyl-CoA[c] + 0.0001 (9Z,12Z,15Z,18Z)-tetracosatetraenoyl-CoA[c] + 0.0001 (9Z,12Z,15Z,18Z,21Z)-tetracosapentaenoyl-CoA[c] + 0.0001 10,13,16,19-docosatetraenoyl-CoA[c] + 0.0001 10,13,16-docosatrienoyl-CoA[c] + 0.0001 12,15,18,21-tetracosatetraenoyl-CoA[c] + 0.0001 13,16,19-docosatrienoyl-CoA[c] + 0.0001 5-tetradecenoyl-CoA[c] + 0.014 7-hexadecenoyl-CoA[c] + 0.0001 9-eicosenoyl-CoA[c] + 0.0001 9-heptadecenoyl-CoA[c] + 0.0264 arachidonyl-CoA[c] + 0.0194 cis-vaccenoyl-CoA[c] + 0.0141 dihomo-gamma-linolenoyl-CoA[c] + 0.0001 docosanoyl-CoA[c] + 0.0001 eicosanoyl-CoA[c] + 0.0081 gamma-linolenoyl-CoA[c] + 0.0001 heneicosanoyl-CoA[c] + 0.0001 heptadecanoyl-CoA[c] + 0.0001 hexacosanoyl-CoA[c] + 0.0001 hexacosenoyl-CoA[c] + 0.0001 lauroyl-CoA[c] + 0.0023 linolenoyl-CoA[c] + 0.278 linoleoyl-CoA[c] + 0.003 myristoyl-CoA[c] + 0.0001 nonadecanoyl-CoA[c] + 0.4519 oleoyl-CoA[c] + 0.0001 palmitoleoyl-CoA[c] + 0.0849 palmitoyl-CoA[c] + 0.0001 pentadecanoyl-CoA[c] + 0.0584 stearoyl-CoA[c] + 0.0001 tetracosanoyl-CoA[c] + 0.0001 tricosanoyl-CoA[c] + 0.0001 tridecanoyl-CoA[c] --> acyl-CoA-LD-TG3 pool[c]\n",
      "R_HMR_0605: 1,2-diacylglycerol-LD-TAG pool[c] + acyl-CoA-LD-TG3 pool[c] --> CoA[c] + TAG-LD pool[c]\n",
      "R_HMR_4270: H2O[c] + NADP+[c] --> NAD+[c] + Pi[c]\n",
      "R_HMR_5313: asparagine[s] + H+[c] + 2.0 Na+[s] --> asparagine[c] + H+[s] + 2.0 Na+[c]\n",
      "R_HMR_5990: chloride[c] + K+[c] --> chloride[s] + K+[s]\n",
      "R_HMR_4038: FAICAR[c] <-> H2O[c] + IMP[c]\n",
      "R_HMR_4406: glutamine[c] + H2O[c] + PRPP[c] --> 5-phosphoribosylamine[c] + glutamate[c] + PPi[c]\n",
      "R_HMR_4799: 5-phosphoribosylamine[c] + ATP[c] + glycine[c] --> ADP[c] + GAR[c] + Pi[c]\n",
      "R_HMR_4802: 5-phosphoribosylformylglycinamidine[c] + ATP[c] --> ADP[c] + AIR[c] + Pi[c]\n",
      "R_HMR_4804: 5-phosphoribosyl-4-carboxy-5-aminoimidazole[c] <-> AIR[c] + CO2[c]\n",
      "R_HMR_4806: 10-formyl-THF[c] + GAR[c] --> N-formyl-GAR[c] + THF[c]\n",
      "R_HMR_4808: ATP[c] + glutamine[c] + H2O[c] + N-formyl-GAR[c] --> 5-phosphoribosylformylglycinamidine[c] + ADP[c] + glutamate[c] + Pi[c]\n",
      "R_HMR_4810: 5-phosphoribosyl-4-carboxy-5-aminoimidazole[c] + aspartate[c] + ATP[c] --> ADP[c] + Pi[c] + SAICAR[c]\n",
      "R_HMR_4812: AICAR[c] + fumarate[c] <-> SAICAR[c]\n",
      "R_HMR_4814: 10-formyl-THF[c] + AICAR[c] <-> FAICAR[c] + THF[c]\n",
      "R_HMR_3208: ATP[m] + H+[m] + HCO3-[m] + propanoyl-CoA[m] --> ADP[m] + methylmalonyl-CoA[m] + Pi[m]\n",
      "R_HMR_3213: methylmalonyl-CoA[m] --> (R)-methylmalonyl-CoA[m]\n",
      "R_HMR_0838: GD1a[c] + H2O[c] --> GM1[c] + N-acetylneuraminate[c]\n",
      "R_HMR_4914: CoA[c] <-> CoA[m]\n",
      "R_HMR_3863: 3-sulfinoalanine[c] + aspartate[m] <-> 3-sulfinoalanine[m] + aspartate[c]\n",
      "R_HMR_3865: 3-sulfinoalanine[m] + AKG[m] --> 3-sulfinylpyruvic acid[m] + glutamate[m]\n",
      "R_HMR_3866: 3-sulfinylpyruvic acid[m] + H2O[m] --> pyruvate[m] + sulfite[m]\n",
      "R_HMR_4184: 2.0 ferricytochrome C[m] + H2O[c] + sulfite[c] --> 2.0 ferrocytochrome C[m] + 2.0 H+[c] + sulfate[c]\n",
      "R_HMR_8741: fumarate[c] + sulfite[m] <-> fumarate[m] + sulfite[c]\n",
      "R_HMR_0837: CMP-N-acetylneuraminate[c] + GM1[c] --> CMP[c] + GD1a[c]\n"
     ]
    }
   ],
   "source": [
    "flux_changes_reactions = []\n",
    "for r_id in flux_changes.iloc[:,0]:\n",
    "    flux_changes_reactions.append(model.print_reaction(r_id, use_names=True))"
   ]
  }
 ],
 "metadata": {
  "kernelspec": {
   "display_name": "Python [conda env:python36] *",
   "language": "python",
   "name": "conda-env-python36-py"
  },
  "language_info": {
   "codemirror_mode": {
    "name": "ipython",
    "version": 3
   },
   "file_extension": ".py",
   "mimetype": "text/x-python",
   "name": "python",
   "nbconvert_exporter": "python",
   "pygments_lexer": "ipython3",
   "version": "3.6.9"
  }
 },
 "nbformat": 4,
 "nbformat_minor": 2
}
