{
 "cells": [
  {
   "cell_type": "code",
   "execution_count": 1,
   "metadata": {},
   "outputs": [],
   "source": [
    "%matplotlib inline"
   ]
  },
  {
   "cell_type": "code",
   "execution_count": 2,
   "metadata": {},
   "outputs": [],
   "source": [
    "import pandas as pd\n",
    "import numpy as np\n",
    "import os\n",
    "from reframed import FBA, load_cbmodel\n",
    "from reframed.alpha.MARGE import marge\n",
    "from reframed.alpha.GPRtransform import gpr_transform\n",
    "from reframed.alpha.fluxutils import compare_fluxes\n",
    "os.chdir(\"/Users/zirngibl/Documents/Projects/Paper-DescriptionMRD/SupplementaryFigure6/\")\n"
   ]
  },
  {
   "cell_type": "markdown",
   "metadata": {},
   "source": [
    "### Load model and test for growth"
   ]
  },
  {
   "cell_type": "code",
   "execution_count": 3,
   "metadata": {},
   "outputs": [],
   "source": [
    "model = load_cbmodel(\"HMR2_FbaOptimized.xml\")"
   ]
  },
  {
   "cell_type": "code",
   "execution_count": 4,
   "metadata": {},
   "outputs": [
    {
     "data": {
      "text/plain": [
       "Objective: 2.695708432175976\n",
       "Status: Optimal"
      ]
     },
     "execution_count": 4,
     "metadata": {},
     "output_type": "execute_result"
    }
   ],
   "source": [
    "FBA(model)"
   ]
  },
  {
   "cell_type": "markdown",
   "metadata": {},
   "source": [
    "### Correct model for Ldha/b/c/d isoform thermopreference "
   ]
  },
  {
   "cell_type": "code",
   "execution_count": 5,
   "metadata": {},
   "outputs": [],
   "source": [
    "from reframed.core.cbmodel import GPRAssociation, Protein, Gene\n",
    "from reframed.core.cbmodel import CBReaction\n",
    "from collections import OrderedDict"
   ]
  },
  {
   "cell_type": "code",
   "execution_count": 6,
   "metadata": {},
   "outputs": [
    {
     "name": "stdout",
     "output_type": "stream",
     "text": [
      "R_HMR_4388: M_m02039c + M_m02553c + M_m02819c <-> M_m02403c + M_m02552c\n",
      "-inf\n",
      "inf\n",
      "(ENSG00000111716 or ENSG00000134333 or ENSG00000166796 or ENSG00000166800 or ENSG00000171989)\n"
     ]
    }
   ],
   "source": [
    "print(model.reactions.R_HMR_4388)\n",
    "print(model.reactions.R_HMR_4388.lb)\n",
    "print(model.reactions.R_HMR_4388.ub)\n",
    "print(model.reactions.R_HMR_4388.gpr)"
   ]
  },
  {
   "cell_type": "code",
   "execution_count": 7,
   "metadata": {},
   "outputs": [],
   "source": [
    "stoich = OrderedDict()\n",
    "stoich['M_m02039c'] = -1.0\n",
    "stoich['M_m02553c'] = -1.0\n",
    "stoich['M_m02819c'] = -1.0\n",
    "stoich['M_m02403c'] = 1.0\n",
    "stoich['M_m02552c'] = 1.0\n",
    "reac = CBReaction(reaction_id = 'R_HMR_4388a', name = 'R_HMR_4388a', reversible = False, stoichiometry = stoich,\n",
    "                   lb = 0, ub = 1000, reaction_type = 'other' )\n",
    "model.add_reaction(reac)\n"
   ]
  },
  {
   "cell_type": "code",
   "execution_count": 8,
   "metadata": {},
   "outputs": [],
   "source": [
    "gpr = GPRAssociation()\n",
    "new_genes = [str('ENSG00000134333'), str('ENSG00000166796')]\n",
    "for gene in new_genes:\n",
    "    protein = Protein()\n",
    "    protein.genes = [str(gene)]\n",
    "    gpr.proteins.append(protein)\n",
    "\n",
    "model.set_gpr_association('R_HMR_4388a', gpr, add_genes = True)"
   ]
  },
  {
   "cell_type": "code",
   "execution_count": 9,
   "metadata": {},
   "outputs": [],
   "source": [
    "stoich = OrderedDict()\n",
    "stoich['M_m02403c'] = -1.0\n",
    "stoich['M_m02552c'] = -1.0\n",
    "stoich['M_m02039c'] = 1.0\n",
    "stoich['M_m02553c'] = 1.0\n",
    "stoich['M_m02819c'] = 1.0\n",
    "reac = CBReaction(reaction_id = 'R_HMR_4388b', name = 'R_HMR_4388b', reversible = False, stoichiometry = stoich,\n",
    "                   lb = 0, ub = 1000, reaction_type = 'other' )\n",
    "model.add_reaction(reac)"
   ]
  },
  {
   "cell_type": "code",
   "execution_count": 10,
   "metadata": {},
   "outputs": [],
   "source": [
    "gpr = GPRAssociation()\n",
    "new_genes = [str('ENSG00000111716'), str('ENSG00000166796')]\n",
    "for gene in new_genes:\n",
    "    protein = Protein()\n",
    "    protein.genes = [str(gene)]\n",
    "    gpr.proteins.append(protein)\n",
    "\n",
    "model.set_gpr_association('R_HMR_4388b', gpr, add_genes = True)"
   ]
  },
  {
   "cell_type": "code",
   "execution_count": 11,
   "metadata": {},
   "outputs": [
    {
     "name": "stdout",
     "output_type": "stream",
     "text": [
      "R_HMR_4388a: M_m02039c + M_m02553c + M_m02819c --> M_m02403c + M_m02552c [0, 1000]\n",
      "0\n",
      "1000\n",
      "<class 'reframed.core.cbmodel.GPRAssociation'>\n",
      "(ENSG00000134333 or ENSG00000166796)\n",
      "R_HMR_4388b: M_m02403c + M_m02552c --> M_m02039c + M_m02553c + M_m02819c [0, 1000]\n",
      "0\n",
      "1000\n",
      "<class 'reframed.core.cbmodel.GPRAssociation'>\n",
      "(ENSG00000111716 or ENSG00000166796)\n"
     ]
    }
   ],
   "source": [
    "print(model.reactions.R_HMR_4388a)\n",
    "print(model.reactions.R_HMR_4388a.lb)\n",
    "print(model.reactions.R_HMR_4388a.ub)\n",
    "print(type(model.reactions.R_HMR_4388a.gpr))\n",
    "print(model.reactions.R_HMR_4388a.gpr)\n",
    "print(model.reactions.R_HMR_4388b)\n",
    "print(model.reactions.R_HMR_4388b.lb)\n",
    "print(model.reactions.R_HMR_4388b.ub)\n",
    "print(type(model.reactions.R_HMR_4388b.gpr))\n",
    "print(model.reactions.R_HMR_4388b.gpr)"
   ]
  },
  {
   "cell_type": "code",
   "execution_count": 12,
   "metadata": {},
   "outputs": [],
   "source": [
    "model.remove_reaction('R_HMR_4388')"
   ]
  },
  {
   "cell_type": "markdown",
   "metadata": {},
   "source": [
    "### Correct GPRs of other reactions involving LDHA"
   ]
  },
  {
   "cell_type": "code",
   "execution_count": 13,
   "metadata": {},
   "outputs": [
    {
     "name": "stdout",
     "output_type": "stream",
     "text": [
      "['R_HMR_4281', 'R_HMR_4280', 'R_HMR_4287', 'R_HMR_4388a']\n",
      "(ENSG00000111716 or ENSG00000134333 or ENSG00000171989)\n",
      "(ENSG00000111716 or ENSG00000134333 or ENSG00000171989)\n",
      "ENSG00000134333\n"
     ]
    }
   ],
   "source": [
    "print(model.get_reactions_by_gene('ENSG00000134333'))\n",
    "print(model.reactions.R_HMR_4280.gpr)\n",
    "print(model.reactions.R_HMR_4281.gpr)\n",
    "print(model.reactions.R_HMR_4287.gpr)"
   ]
  },
  {
   "cell_type": "code",
   "execution_count": 14,
   "metadata": {},
   "outputs": [],
   "source": [
    "gpr = GPRAssociation()\n",
    "new_genes = [str('ENSG00000171989')]\n",
    "for gene in new_genes:\n",
    "    protein = Protein()\n",
    "    protein.genes = [str(gene)]\n",
    "    gpr.proteins.append(protein)\n",
    "model.set_gpr_association('R_HMR_4280', gpr, add_genes = True)\n",
    "model.set_gpr_association('R_HMR_4281', gpr, add_genes = True)\n",
    "\n",
    "gpr = GPRAssociation()\n",
    "new_genes = [str('')]\n",
    "for gene in new_genes:\n",
    "    protein = Protein()\n",
    "    protein.genes = [str(gene)]\n",
    "    gpr.proteins.append(protein)\n",
    "model.set_gpr_association('R_HMR_4287', gpr, add_genes = True)"
   ]
  },
  {
   "cell_type": "markdown",
   "metadata": {},
   "source": [
    "### Correct GPRs of other reactions involving LDHB"
   ]
  },
  {
   "cell_type": "code",
   "execution_count": 15,
   "metadata": {},
   "outputs": [
    {
     "name": "stdout",
     "output_type": "stream",
     "text": [
      "['R_HMR_5351', 'R_HMR_6519', 'R_HMR_8780', 'R_HMR_4388b']\n",
      "(ENSG00000111716 or ENSG00000151116 or ENSG00000166796 or ENSG00000166800 or ENSG00000171989)\n",
      "(ENSG00000111716 or ENSG00000151116 or ENSG00000166796 or ENSG00000166800 or ENSG00000171989)\n",
      "(ENSG00000111716 or ENSG00000151116 or ENSG00000166796 or ENSG00000166800 or ENSG00000166816 or ENSG00000171989)\n"
     ]
    }
   ],
   "source": [
    "print(model.get_reactions_by_gene('ENSG00000111716'))\n",
    "print(model.reactions.R_HMR_5351.gpr)\n",
    "print(model.reactions.R_HMR_6519.gpr)\n",
    "print(model.reactions.R_HMR_8780.gpr)"
   ]
  },
  {
   "cell_type": "code",
   "execution_count": 16,
   "metadata": {},
   "outputs": [],
   "source": [
    "gpr = GPRAssociation()\n",
    "new_genes = [str('ENSG00000151116'), str('ENSG00000166800'), str('ENSG00000171989')]\n",
    "for gene in new_genes:\n",
    "    protein = Protein()\n",
    "    protein.genes = [str(gene)]\n",
    "    gpr.proteins.append(protein)\n",
    "model.set_gpr_association('R_HMR_5351', gpr, add_genes = True)\n",
    "model.set_gpr_association('R_HMR_6519', gpr, add_genes = True)\n",
    "model.set_gpr_association('R_HMR_8780', gpr, add_genes = True)"
   ]
  },
  {
   "cell_type": "markdown",
   "metadata": {},
   "source": [
    "### Correct GPRs of other reactions involving LDHC"
   ]
  },
  {
   "cell_type": "code",
   "execution_count": 17,
   "metadata": {},
   "outputs": [
    {
     "name": "stdout",
     "output_type": "stream",
     "text": [
      "['R_HMR_4388a', 'R_HMR_4388b']\n"
     ]
    }
   ],
   "source": [
    "print(model.get_reactions_by_gene('ENSG00000166796'))"
   ]
  },
  {
   "cell_type": "markdown",
   "metadata": {},
   "source": [
    "### Correct GPRs of other reactions involving LDHD"
   ]
  },
  {
   "cell_type": "code",
   "execution_count": 18,
   "metadata": {},
   "outputs": [
    {
     "name": "stdout",
     "output_type": "stream",
     "text": [
      "['R_HMR_3859', 'R_HMR_8512', 'R_HMR_8514']\n",
      "(ENSG00000166816 or ENSG00000182224)\n",
      "ENSG00000166816\n",
      "ENSG00000166816\n"
     ]
    }
   ],
   "source": [
    "print(model.get_reactions_by_gene('ENSG00000166816'))\n",
    "print(model.reactions.R_HMR_3859.gpr)\n",
    "print(model.reactions.R_HMR_8512.gpr)\n",
    "print(model.reactions.R_HMR_8514.gpr)"
   ]
  },
  {
   "cell_type": "code",
   "execution_count": 19,
   "metadata": {},
   "outputs": [],
   "source": [
    "gpr = GPRAssociation()\n",
    "new_genes = [str('ENSG00000182224')]\n",
    "for gene in new_genes:\n",
    "    protein = Protein()\n",
    "    protein.genes = [str(gene)]\n",
    "    gpr.proteins.append(protein)\n",
    "model.set_gpr_association('R_HMR_3859', gpr, add_genes = True)\n",
    "\n",
    "gpr = GPRAssociation()\n",
    "new_genes = [str('')]\n",
    "for gene in new_genes:\n",
    "    protein = Protein()\n",
    "    protein.genes = [str(gene)]\n",
    "    gpr.proteins.append(protein)\n",
    "model.set_gpr_association('R_HMR_8514', gpr, add_genes = True)"
   ]
  },
  {
   "cell_type": "code",
   "execution_count": 20,
   "metadata": {},
   "outputs": [
    {
     "name": "stdout",
     "output_type": "stream",
     "text": [
      "['R_HMR_4388a']\n",
      "['R_HMR_4388b']\n",
      "['R_HMR_4388a', 'R_HMR_4388b']\n",
      "['R_HMR_8512']\n"
     ]
    }
   ],
   "source": [
    "print(model.get_reactions_by_gene('ENSG00000134333'))\n",
    "print(model.get_reactions_by_gene('ENSG00000111716'))\n",
    "print(model.get_reactions_by_gene('ENSG00000166796'))\n",
    "print(model.get_reactions_by_gene('ENSG00000166816'))"
   ]
  },
  {
   "cell_type": "code",
   "execution_count": 21,
   "metadata": {},
   "outputs": [
    {
     "name": "stdout",
     "output_type": "stream",
     "text": [
      "['R_HMR_3811']\n"
     ]
    }
   ],
   "source": [
    "print(model.get_reactions_by_gene('ENSG00000130707'))"
   ]
  },
  {
   "cell_type": "markdown",
   "metadata": {},
   "source": [
    "### Correct fluxes in retinol metabolism to match physiological ratios"
   ]
  },
  {
   "cell_type": "code",
   "execution_count": 22,
   "metadata": {},
   "outputs": [
    {
     "name": "stdout",
     "output_type": "stream",
     "text": [
      "             0\n",
      "0   R_HMR_6005\n",
      "1   R_HMR_6013\n",
      "2   R_HMR_6020\n",
      "3   R_HMR_6028\n",
      "4   R_HMR_6035\n",
      "..         ...\n",
      "92  R_HMR_8711\n",
      "93  R_HMR_8712\n",
      "94  R_HMR_8713\n",
      "95  R_HMR_8717\n",
      "96  R_HMR_8721\n",
      "\n",
      "[97 rows x 1 columns]\n"
     ]
    }
   ],
   "source": [
    "retinol_reactions = pd.read_table(\"Retinol_Metabolism.txt\", header = None)\n",
    "print(retinol_reactions)"
   ]
  },
  {
   "cell_type": "code",
   "execution_count": 23,
   "metadata": {},
   "outputs": [],
   "source": [
    "for r_id in retinol_reactions.iloc[:,0]:\n",
    "    model.reactions[r_id].ub = 0.1\n",
    "    if model.reactions[r_id].lb < -0.1:\n",
    "        model.reactions[r_id].lb = -0.1"
   ]
  },
  {
   "cell_type": "markdown",
   "metadata": {},
   "source": [
    "### Optionally release cofactor redox constraints by allowing exchange with media"
   ]
  },
  {
   "cell_type": "code",
   "execution_count": 24,
   "metadata": {},
   "outputs": [],
   "source": [
    "#stoich = OrderedDict()\n",
    "#stoich['M_m02751c'] = -1.0\n",
    "#stoich['M_m02751s'] = 1.0\n",
    "#reac = CBReaction(reaction_id = 'R_HMR_m02751', name = 'R_HMR_m02751', reversible = False, stoichiometry = stoich,\n",
    "#                   lb = -1000, ub = 1000, reaction_type = 'other' )\n",
    "#model.add_reaction(reac)"
   ]
  },
  {
   "cell_type": "code",
   "execution_count": 25,
   "metadata": {},
   "outputs": [],
   "source": [
    "#stoich = OrderedDict()\n",
    "#stoich['M_m02039c'] = -1.0\n",
    "#stoich['M_m02039s'] = 1.0\n",
    "#reac = CBReaction(reaction_id = 'R_HMR_m02039', name = 'R_HMR_m02039', reversible = False, stoichiometry = stoich,\n",
    "#                   lb = -1000, ub = 1000, reaction_type = 'other' )\n",
    "#model.add_reaction(reac)"
   ]
  },
  {
   "cell_type": "markdown",
   "metadata": {},
   "source": [
    "### Transform model for more efficient modelling"
   ]
  },
  {
   "cell_type": "code",
   "execution_count": 26,
   "metadata": {},
   "outputs": [],
   "source": [
    "model_ext = gpr_transform(model, inplace=False, gene_prefix='') # create extended model beforehand (for speed)"
   ]
  },
  {
   "cell_type": "markdown",
   "metadata": {},
   "source": [
    "### Load transcriptomics data"
   ]
  },
  {
   "cell_type": "code",
   "execution_count": 27,
   "metadata": {},
   "outputs": [],
   "source": [
    "data = pd.read_csv(\"GeneExpression_FoldChanges_TumorVsHealthy.txt\", sep=\"\\t\")"
   ]
  },
  {
   "cell_type": "code",
   "execution_count": 28,
   "metadata": {
    "scrolled": true
   },
   "outputs": [],
   "source": [
    "data = data[data[\"Ensembl_Human\"].isin(model.genes)] # remove non-metabolic genes\n",
    "filtered = data.query(\"orig_padj_bonf < 0.1\") # remove non-significant changes\n",
    "filtered2 = filtered.query(\"abs(log2FoldChange) > 1\") # remove changes with minor amplitude to minimise constraints\n",
    "rel_expr = dict(filtered2[[\"Ensembl_Human\", \"log2FoldChange\"]].values) # convert columns to dict"
   ]
  },
  {
   "cell_type": "code",
   "execution_count": 29,
   "metadata": {
    "scrolled": true
   },
   "outputs": [
    {
     "name": "stdout",
     "output_type": "stream",
     "text": [
      "Significantly changed (metabolic): 538\n"
     ]
    }
   ],
   "source": [
    "print('Significantly changed (metabolic):', len(filtered2))"
   ]
  },
  {
   "cell_type": "code",
   "execution_count": 30,
   "metadata": {},
   "outputs": [
    {
     "name": "stdout",
     "output_type": "stream",
     "text": [
      "         Ensembl_Human  log2FoldChange  orig_padj_BH  orig_padj_bonf  \\\n",
      "22     ENSG00000150768        1.049059  4.909188e-15    9.875241e-12   \n",
      "33     ENSG00000137198       -2.106546  2.908306e-20    3.625905e-17   \n",
      "45     ENSG00000237289        1.695885  1.080423e-08    3.930969e-05   \n",
      "46     ENSG00000223572        1.695885  1.080423e-08    3.930969e-05   \n",
      "52     ENSG00000137992        1.291147  1.285119e-89    3.678270e-88   \n",
      "...                ...             ...           ...             ...   \n",
      "15203  ENSG00000156966        4.935539  7.578603e-38    2.768855e-35   \n",
      "15257  ENSG00000123427        1.186001  4.881701e-07    2.149696e-03   \n",
      "15260  ENSG00000134716        3.716883  4.013960e-09    1.395884e-05   \n",
      "15300  ENSG00000223802       -1.595708  2.657251e-06    1.273936e-02   \n",
      "15373  ENSG00000059588        1.463120  7.195054e-14    1.597223e-10   \n",
      "\n",
      "       re.estimated_pvalue  re.estimated_padj  \n",
      "22            2.472322e-02           0.219046  \n",
      "33            8.406915e-03           0.120167  \n",
      "45            9.726209e-02           0.476501  \n",
      "46            9.726209e-02           0.476501  \n",
      "52            1.558022e-08           0.000010  \n",
      "...                    ...                ...  \n",
      "15203         2.634637e-04           0.012857  \n",
      "15257         1.423832e-01           0.576320  \n",
      "15260         8.829701e-02           0.452576  \n",
      "15300         1.694650e-01           0.630109  \n",
      "15373         3.157475e-02           0.253592  \n",
      "\n",
      "[538 rows x 6 columns]\n"
     ]
    }
   ],
   "source": [
    "print(filtered2)"
   ]
  },
  {
   "cell_type": "markdown",
   "metadata": {},
   "source": [
    "### Run MARGE"
   ]
  },
  {
   "cell_type": "code",
   "execution_count": 31,
   "metadata": {},
   "outputs": [],
   "source": [
    "marge?"
   ]
  },
  {
   "cell_type": "markdown",
   "metadata": {},
   "source": [
    "### Final Modelling Parameters (50% margin for relative constrains)"
   ]
  },
  {
   "cell_type": "code",
   "execution_count": 32,
   "metadata": {},
   "outputs": [],
   "source": [
    "v1, v2, sol1, sol2 = marge(model_ext, rel_expr, transformed=True, gene_prefix='',\n",
    "                     growth_frac_a=0.6, growth_frac_b=0.6, activation_frac=0.001, step2_tol=0.1,\n",
    "                     \n",
    "       rel_constraints = {\"R_HMR_9034\": (4.1, 80.6), \"R_HMR_9069\": (1.2, 88.7), \"R_HMR_9063\": (1.2, 43.5),\n",
    "                          \"R_HMR_9070\": (1.0, 3.1), \"R_HMR_9438\": (3.8, 1.3), \"R_HMR_9135\": (6.2, 2.1), \n",
    "                          \"R_HMR_9087\": (4.8, 1.6), \"R_HMR_9061\": (4.6, 1.5),\n",
    "                          \n",
    "                          \"R_HMR_9046\": (1.0, 2.4), \"R_HMR_9068\": (9.0, 1.0), \"R_HMR_9040\": (1.0, 2.4),\n",
    "                          \"R_HMR_9039\": (1.0, 3.0), \"R_HMR_9043\": (1.6, 4.7), \"R_HMR_9067\": (4.2, 1.0),\n",
    "                          \"R_HMR_9041\": (1.0, 4.7),\n",
    "                          \n",
    "                          \"R_HMR_9361\": (1.0, 2.4), \"R_HMR_9064\": (1.0, 3.2), \"R_HMR_9042\": (1.8, 5.4),\n",
    "                          \"R_m01862\": (3.6, 1.2)},                              \n",
    "                                    \n",
    "       constraints_a = {\"R_HMR_9034\": (0.1, 8.62), \"R_HMR_9069\": (0.01, 0.34),\"R_HMR_9063\": (0.1, 3.04),\n",
    "                        \"R_HMR_9070\": (0.01, 0.086),\"R_m02812a\": (-0.01, 0.01), \"R_HMR_9438\": (-1000, -0.01),\n",
    "                        \"R_HMR_9135\": (-1000, -0.32), \n",
    "                        \"R_HMR_9087\": (-1000, -0.01), \"R_HMR_9061\": (-1000, -0.01),\n",
    "                 \n",
    "                        \"R_HMR_9046\": (0.01, 0.16), \"R_HMR_9068\": (-1000, -0.01), \"R_HMR_9040\": (0.01, 0.26),\n",
    "                        \"R_HMR_9039\": (0.01, 0.22), \n",
    "                        \"R_HMR_9043\": (0.001, 0.073),\n",
    "                        \"R_HMR_9067\": (-1000, -0.01),\n",
    "                        \"R_HMR_9085\": (0.001, 0.0036), \"R_HMR_9041\": (0.01, 0.19),\n",
    "                  \n",
    "                        \"R_HMR_9361\": (0.01, 0.1), \"R_HMR_9044\": (0, 0.01), \"R_HMR_9064\": (0.01, 0.11),\n",
    "                        \"R_HMR_9045\": (0, 0.035), \"R_HMR_9042\": (0.01, 0.070), \"R_HMR_9415\": (-1000, -0.001),\n",
    "                        \"R_m01862\": (-1000, -0.001)},\n",
    "                           \n",
    "       constraints_b = {\"R_HMR_9034\": (0.1, 8.62), \"R_HMR_9069\": (0.01, 0.34),\"R_HMR_9063\": (0.1, 3.04),\n",
    "                        \"R_HMR_9070\": (0.01, 0.086), \"R_m02812a\": (-1000, -0.01), \"R_HMR_9438\": (-1000, -0.01),\n",
    "                        \"R_HMR_9135\": (-1000, -0.32), \n",
    "                        \"R_HMR_9087\": (-1000, -0.01), \"R_HMR_9061\": (-1000, -0.01),\n",
    "                 \n",
    "                        \"R_HMR_9046\": (0.01, 0.16), \"R_HMR_9068\": (-1000, -0.01), \"R_HMR_9040\": (0.01, 0.26),\n",
    "                        \"R_HMR_9039\": (0.01, 0.22), \n",
    "                        \"R_HMR_9043\": (0.01, 0.073), \n",
    "                        \"R_HMR_9067\": (-1000, -0.01),\n",
    "                        \"R_HMR_9085\": (-0.001, 0.001), \"R_HMR_9041\": (0.01, 0.19),\n",
    "                 \n",
    "                        \"R_HMR_9361\": (0.01, 0.1), \"R_HMR_9044\": (0.01, 0.12), \"R_HMR_9064\": (0.01, 0.11),\n",
    "                        \"R_HMR_9045\": (0, 0.035), \"R_HMR_9042\": (0.01, 0.070), \"R_HMR_9415\": (-1000, -0.001),\n",
    "                        \"R_m01862\": (-1000, -0.001)})\n",
    "\n",
    "#R_HMR_9034 = glucose       \n",
    "#R_HMR_9069 = serine\n",
    "#R_HMR_9063 = glutamine\n",
    "#R_HMR_9046 = valine\n",
    "#R_HMR_9415 = succinate\n",
    "#R_HMR_9068 = proline\n",
    "#R_HMR_9070 = aspartate\n",
    "#R_HMR_9040 = leucine\n",
    "#R_HMR_9061 = alanine\n",
    "#R_HMR_9361 = inositol\n",
    "#R_HMR_9039 = isoleucine\n",
    "#R_HMR_9041 = lysine\n",
    "#R_HMR_9043 = phenylalanine\n",
    "#R_HMR_9067 = glycine\n",
    "  #R_HMR_9044 = threonine --> No relative constraint because of change from production to consumption\n",
    "  #R_HMR_9071 = glutamate --> No relative constraint because of change from production to consumption\n",
    "#R_HMR_9064 = tyrosine\n",
    "  #R_m02812a = putrescine? --> No relative constraint because of change from consumption to no consumption/production\n",
    "#R_HMR_9438 = urea\n",
    "  #R_HMR_9045 = tryptohophan --> No constraints because it cant be produced as suggested from the data\n",
    "#R_HMR_9042 = methionine\n",
    "#R_HMR_9135 = lactate\n",
    "#R_m01862 = fumarate\n",
    "#R_HMR_9087 = ornithine\n",
    "  #R_HMR_9085 = glycerol --> No relative constraint because of change from consumption to no production\n",
    "  #(R_HMR_9062 = asparagine) --> Not included because of pvalue cut off and non clear data signal"
   ]
  },
  {
   "cell_type": "markdown",
   "metadata": {},
   "source": [
    "### Inspect MARGE modeling results"
   ]
  },
  {
   "cell_type": "code",
   "execution_count": 33,
   "metadata": {},
   "outputs": [
    {
     "name": "stdout",
     "output_type": "stream",
     "text": [
      "-inf\n",
      "inf\n",
      "v1: 1.6174250593055857\n",
      "v2: 1.6174250593055857\n"
     ]
    }
   ],
   "source": [
    "r_id = 'growth'\n",
    "print(model.reactions.R_HMR_9063.lb)\n",
    "print(model.reactions.R_HMR_9063.ub)\n",
    "print(\"v1:\", v1[r_id])\n",
    "print(\"v2:\", v2[r_id])"
   ]
  },
  {
   "cell_type": "code",
   "execution_count": 34,
   "metadata": {},
   "outputs": [],
   "source": [
    "compare_fluxes?"
   ]
  },
  {
   "cell_type": "code",
   "execution_count": 35,
   "metadata": {
    "scrolled": false
   },
   "outputs": [
    {
     "name": "stdout",
     "output_type": "stream",
     "text": [
      "R_HMR_9034        0.549      2.25     \n",
      "R_HMR_4394        0.562      2.26     \n",
      "R_HMR_5029       -0.469     -2.17     \n",
      "R_HMR_4381       -0.121     -1.7      \n",
      "R_HMR_4350        0          1.29     \n",
      "R_HMR_4958        0          1.29     \n",
      "R_HMR_9406        0         -1.29     \n",
      "R_HMR_5043        4.79       3.74     \n",
      "R_HMR_4388a       0.615      1.65     \n",
      "R_HMR_4373       -0.368     -1.34     \n",
      "R_HMR_4365       -0.368     -1.34     \n",
      "R_HMR_4368        0.342      1.32     \n",
      "R_HMR_4363        0.394      1.37     \n",
      "R_HMR_6328        4.05       3.11     \n",
      "R_HMR_4352       -0.0701    -0.949    \n",
      "R_HMR_4210        0.384      1.16     \n",
      "R_HMR_4477        0.0701     0.827    \n",
      "R_HMR_4375       -0.117     -0.857    \n",
      "R_HMR_5078       -0.957     -1.67     \n",
      "R_HMR_0155       -0.276     -0.992    \n",
      "R_HMR_4391        0.192      0.901    \n",
      "R_HMR_9079       -0.911     -0.204    \n",
      "R_HMR_4280        0.702      0        \n",
      "R_HMR_5411       -0.702      0        \n",
      "R_HMR_4596       -0.664      0        \n",
      "R_HMR_4237        0.664      0        \n",
      "R_HMR_4597        0.664      0        \n",
      "R_HMR_8022        0.664      0        \n",
      "R_HMR_4109        0.561      0        \n",
      "R_HMR_4888       -6.2       -5.66     \n",
      "R_HMR_6916        4          3.46     \n",
      "R_HMR_5113        0.561      0.0821   \n",
      "R_HMR_9802        0.136      0.609    \n",
      "R_HMR_9047        0.358     -0.104    \n",
      "R_HMR_6380        0.459      0        \n",
      "R_HMR_4301        0          0.418    \n",
      "R_HMR_4404       -0.000329  -0.413    \n",
      "R_HMR_4501       -0.000329  -0.413    \n",
      "R_HMR_4565       -0.000329  -0.413    \n",
      "R_HMR_6048        0.276      0.672    \n",
      "R_HMR_6725        0          0.393    \n",
      "R_SYL9            0          0.393    \n",
      "R_HMR_4196        0.738      0.38     \n",
      "R_HMR_9135       -0.32      -0.672    \n",
      "R_HMR_4410        1.04       0.693    \n",
      "R_HMR_4652       -1.04      -0.693    \n",
      "R_HMR_4885       -0.351      0        \n",
      "R_HMR_6918        1.71       1.36     \n",
      "R_HMR_4006       -0.343      0        \n",
      "R_HMR_9078       -1         -0.667    \n",
      "R_HMR_4922       -1.15      -0.82     \n",
      "R_HMR_9063        1.62       1.94     \n",
      "R_HMR_5406        1.04       0.713    \n",
      "R_HMR_8749       -1.04      -0.713    \n",
      "R_HMR_4379        0.117      0.439    \n",
      "R_m02943         -0.0792    -0.394    \n",
      "R_HMR_9415       -0.001     -0.313    \n",
      "R_HMR_5448        0.969      0.658    \n",
      "R_HMR_4873        1.34       1.65     \n",
      "R_HMR_9073       -1.34      -1.65     \n",
      "R_HMR_6914        1.88       1.58     \n",
      "R_HMR_4143        0          0.267    \n",
      "R_HMR_8512       -2.06      -1.8      \n",
      "R_HMR_3859        2.06       1.81     \n",
      "R_HMR_9133        0         -0.249    \n",
      "R_HMR_6019        0         -0.245    \n",
      "R_HMR_8750       -0.0587    -0.294    \n",
      "R_HMR_8751        0.0587     0.294    \n",
      "R_HMR_4299        0.244      0.0166   \n",
      "R_HMR_4300        0.245      0.0292   \n",
      "R_HMR_9259        0         -0.185    \n",
      "R_HMR_5570        0         -0.185    \n",
      "R_HMR_6382        0.185      0        \n",
      "R_HMR_4851        0          0.183    \n",
      "R_HMR_4141        0          0.163    \n",
      "R_HMR_4919        0.386      0.537    \n",
      "R_HMR_9058        0.386      0.537    \n",
      "R_HMR_4139       -1.02      -0.87     \n",
      "R_HMR_0622        0          0.144    \n",
      "R_HMR_4152        0.242      0.0975   \n",
      "R_HMR_7896        0.0204     0.164    \n",
      "R_HMR_9084       -0.0204    -0.164    \n",
      "R_HMR_0627        0.029      0.17     \n",
      "R_HMR_5297        1.04       0.901    \n",
      "R_HMR_4852        0.936      0.803    \n",
      "R_HMR_5441       -0.0526    -0.185    \n",
      "R_HMR_4862        0.000917   0.129    \n",
      "R_HMR_6921        0.447      0.573    \n",
      "R_HMR_4306        0         -0.122    \n",
      "R_HMR_4625        0          0.122    \n",
      "R_HMR_8861        0          0.122    \n",
      "R_HMR_4193        0          0.115    \n",
      "R_HMR_4336        0.119      0.00887  \n",
      "R_HMR_8698       -0.00806    0.0984   \n",
      "R_HMR_4503       -0.194     -0.0875   \n",
      "R_HMR_4783        0          0.104    \n",
      "R_HMR_8098        0          0.104    \n",
      "R_HMR_3829       -0.969     -0.865    \n",
      "R_HMR_3806        0.0147     0.117    \n",
      "R_HMR_3820       -0.0411    -0.143    \n",
      "R_HMR_4777        0.002      0.104    \n",
      "R_HMR_4785        0.002      0.104    \n",
      "R_HMR_4787        0.002      0.104    \n",
      "R_HMR_6661       -0.00097    0.0989   \n",
      "R_HMR_6672       -0.000162  -0.1      \n",
      "R_HMR_8699        0          0.0998   \n",
      "R_HMR_4028       -0.0995     0        \n",
      "R_HMR_5079        0          0.098    \n",
      "R_HMR_4765        0         -0.0942   \n",
      "R_HMR_5004        0          0.0942   \n",
      "R_HMR_6387        0         -0.0942   \n",
      "R_HMR_4949        0.094      0        \n",
      "R_HMR_3845        0.192      0.0977   \n",
      "R_HMR_4898        1.89       1.8      \n",
      "R_HMR_3837        0.0571     0.143    \n",
      "R_HMR_6028        0          0.0839   \n",
      "R_HMR_4788        0          0.0821   \n",
      "R_HMR_6911        0.0891     0.0118   \n",
      "R_HMR_6027        0          0.0751   \n",
      "R_HMR_3947        0.00224    0.0772   \n",
      "R_HMR_5124       -0.00671   -0.0781   \n",
      "R_HMR_4890       -0.00198   -0.0728   \n",
      "R_HMR_3862        0.166      0.0956   \n",
      "R_HMR_4172        0          0.0699   \n",
      "R_HMR_4874       -0.166     -0.0956   \n",
      "R_HMR_5096        0.166      0.0956   \n",
      "R_HMR_8342        0          0.0696   \n",
      "R_HMR_8343        0          0.0696   \n",
      "R_HMR_9241        0         -0.0696   \n",
      "R_HMR_4590        0.0694     0        \n",
      "R_HMR_4593        0.0694     0        \n",
      "R_HMR_4595       -0.0694     0        \n",
      "R_HMR_7642        0         -0.0694   \n",
      "R_HMR_7643        0          0.0694   \n",
      "R_HMR_9098        0         -0.0694   \n",
      "R_HMR_6381        0.204      0.137    \n",
      "R_HMR_4738        0.0434    -0.0227   \n",
      "R_SYL6           -0.0434     0.0227   \n",
      "R_SYL7            0.0434    -0.0227   \n",
      "R_HMR_4892        0.0865     0.152    \n",
      "R_HMR_0795        0.0654     0        \n",
      "R_HMR_0454        0.065      0        \n",
      "R_HMR_3953        0          0.0649   \n",
      "R_HMR_4473        0          0.0649   \n",
      "R_HMR_4877        0         -0.0649   \n",
      "R_HMR_4917        0         -0.0649   \n",
      "R_m01981          0.065      0.000195 \n",
      "R_zk1             0.065      0.000195 \n",
      "R_HMR_0736        0.0759     0.0128   \n",
      "R_HMR_8377        0          0.0621   \n",
      "R_HMR_4531        0.0619     0        \n",
      "R_HMR_4532       -0.0619     0        \n",
      "R_HMR_4534        0.0619     0        \n",
      "R_HMR_4442        0          0.0599   \n",
      "R_HMR_8344        0.00972    0.0696   \n",
      "R_HMR_8345       -0.0597     0        \n",
      "R_HMR_8346        0.0597     0        \n",
      "R_HMR_8347        0.0597     0        \n",
      "R_HMR_8348        0.0597     0        \n",
      "R_HMR_8350       -0.0597     0        \n",
      "R_HMR_4474        0          0.0575   \n",
      "R_HMR_9736       -0.238     -0.181    \n",
      "R_HMR_9069        0.283      0.34     \n",
      "R_HMR_0734        0.00696    0.0613   \n",
      "R_HMR_0735        0.00696    0.0613   \n",
      "R_HMR_8242        0.00696    0.0613   \n",
      "R_HMR_8243       -0.00696   -0.0613   \n",
      "R_HMR_9664        0.00696    0.0613   \n",
      "R_HMR_4883        0.0441     0.0966   \n",
      "R_HMR_5308        0.0599     0.11     \n",
      "R_HMR_3949        0.0495     0        \n",
      "R_HMR_5070       -0.0482     0        \n",
      "R_SYL5            0.0481     0        \n",
      "R_HMR_5347       -0.0226     0.0249   \n",
      "R_HMR_3984        0.00224    0.0489   \n",
      "R_HMR_8144       -0.192     -0.146    \n",
      "R_HMR_5335        0          0.0434   \n",
      "R_HMR_5328        0.201      0.244    \n",
      "R_HMR_9737        0.115      0.158    \n",
      "R_HMR_5310        0.0421     0        \n",
      "R_m02036          0.0682     0.11     \n",
      "R_zk2             0.0682     0.11     \n",
      "R_HMR_3885       -0.0558    -0.015    \n",
      "R_HMR_5426       -0.0568    -0.0161   \n",
      "R_HMR_6005        0.0568     0.0161   \n",
      "R_HMR_9132       -0.0568    -0.0161   \n",
      "R_HMR_1573        0.0845     0.0438   \n",
      "R_HMR_1577        0.0834     0.0427   \n",
      "R_HMR_4089        0.0393     0        \n",
      "R_HMR_5330        0.038      0        \n",
      "R_HMR_9071        0.038      0        \n",
      "R_HMR_6049        0.0366     0        \n",
      "R_HMR_9061       -0.01      -0.046    \n",
      "R_HMR_6627        0          0.036    \n",
      "R_HMR_4044       -0.0358     0        \n",
      "R_HMR_4635       -0.0358     0        \n",
      "R_HMR_6729        0          0.0355   \n",
      "R_HMR_6731        0          0.0355   \n",
      "R_HMR_7689        0          0.0355   \n",
      "R_HMR_8723        0          0.0355   \n",
      "R_HMR_9308        0         -0.0355   \n",
      "R_HMR_9074        0          0.0355   \n",
      "R_HMR_6826        0.0354     0        \n",
      "R_HMR_6834       -0.0354     0        \n",
      "R_HMR_6839        0.0354     0        \n",
      "R_HMR_8534        0.0354     0        \n",
      "R_HMR_4114        0.738      0.773    \n",
      "R_HMR_5251        0.134      0.0996   \n",
      "R_HMR_4421        0          0.0343   \n",
      "R_HMR_3825        0.166      0.2      \n",
      "R_HMR_3975        0          0.0338   \n",
      "R_HMR_5091        0          0.033    \n",
      "R_SW2             0.0749     0.0433   \n",
      "R_HMR_6768        0.097      0.0655   \n",
      "R_m01005         -0.097     -0.0655   \n",
      "R_zk25           -0.097     -0.0655   \n",
      "R_HMR_5390        0.0391     0.0703   \n",
      "R_HMR_8607        0.0424     0.0736   \n",
      "R_HMR_4926        0          0.031    \n",
      "R_HMR_4900        0         -0.0283   \n",
      "R_HMR_0216       -0.0781    -0.0498   \n",
      "R_m02674         -0.0781    -0.0498   \n",
      "R_HMR_9438       -0.094     -0.122    \n",
      "R_m02738         -0.0445    -0.0164   \n",
      "R_zk37           -0.0445    -0.0164   \n",
      "R_HMR_6241        0.0141     0.0413   \n",
      "R_HMR_4295        0.0532     0.0264   \n",
      "R_HMR_4269        0.0281     0.0548   \n",
      "R_HMR_4270        0.0265     0.0532   \n",
      "R_HMR_4893        1.36       1.39     \n",
      "R_HMR_6506        0.0546     0.0282   \n",
      "R_HMR_6507        0.053      0.0266   \n",
      "R_HMR_6130        0         -0.0264   \n",
      "R_HMR_9624        0          0.0264   \n",
      "R_HMR_3980        0.0263     0        \n",
      "R_HMR_7764       -2.67      -2.7      \n",
      "R_HMR_4582       -0.0842    -0.11     \n",
      "R_HMR_3816        0.094      0.12     \n",
      "R_HMR_0461       -0.0984    -0.0726   \n",
      "R_HMR_1898       -0.0256     0        \n",
      "R_HMR_8782        0.0252     0        \n",
      "R_HMR_4930        0.00286    0.0277   \n",
      "R_HMR_3106       -0.00166   -0.0262   \n",
      "R_HMR_5474        0          0.0243   \n",
      "R_HMR_4573        0          0.024    \n",
      "R_HMR_0796       -0.112     -0.0878   \n",
      "R_HMR_4570       -0.0239     0        \n",
      "R_HMR_9044        0.01       0.033    \n",
      "R_HMR_9161        0.023      0        \n",
      "R_HMR_9486        0.023      0        \n",
      "R_HMR_9718        0.023      0        \n",
      "R_HMR_4465        0          0.0229   \n",
      "R_HMR_6388        0.0225     0        \n",
      "R_HMR_3007       -0.00283   -0.0253   \n",
      "R_HMR_4281        0.00283    0.0253   \n",
      "R_HMR_7800       -0.392     -0.371    \n",
      "R_HMR_4915        0.0027     0.0237   \n",
      "R_HMR_3977        0.0542     0.0333   \n",
      "R_HMR_9165       -0.002     -0.0219   \n",
      "R_HMR_7708       -0.002     -0.0219   \n",
      "R_HMR_8780        0.002      0.0219   \n",
      "R_HMR_5089        0         -0.0197   \n",
      "R_HMR_5314        0.0197     0        \n"
     ]
    }
   ],
   "source": [
    "compare_fluxes(v1, v2, sort=True, pattern='R_', tolerance=0.019)"
   ]
  },
  {
   "cell_type": "markdown",
   "metadata": {},
   "source": [
    "### Retrieve reaction equations from changed reactions"
   ]
  },
  {
   "cell_type": "code",
   "execution_count": 36,
   "metadata": {},
   "outputs": [],
   "source": [
    "flux_changes = pd.read_table(\"SavedFluxChanges_RetrievedFrom-Compare_Fluxes.txt\", header = None)"
   ]
  },
  {
   "cell_type": "code",
   "execution_count": 37,
   "metadata": {},
   "outputs": [],
   "source": [
    "df = pd.read_table(\"HMR2_FbaOpt_MetaboliteIDTranslation.txt\", index_col=1)"
   ]
  },
  {
   "cell_type": "code",
   "execution_count": 38,
   "metadata": {},
   "outputs": [],
   "source": [
    "for m_id, met in model.metabolites.items():\n",
    "    if m_id[2:] in df.index:\n",
    "        met.name = df.loc[m_id[2:], 'METID']"
   ]
  },
  {
   "cell_type": "code",
   "execution_count": 39,
   "metadata": {},
   "outputs": [
    {
     "name": "stdout",
     "output_type": "stream",
     "text": [
      "R_HMR_9034: glucose[x] <-> glucose[s]\n",
      "R_HMR_4394: ATP[c] + glucose[c] --> ADP[c] + glucose-6-phosphate[c]\n",
      "R_HMR_5029: glucose[c] <-> glucose[s]\n",
      "R_HMR_4381: fructose-6-phosphate[c] <-> glucose-6-phosphate[c]\n",
      "R_HMR_4350: ADP[c] + ribose-5-phosphate[c] <-> ATP[c] + ribose[c]\n",
      "R_HMR_4958: ribose[c] <-> ribose[s]\n",
      "R_HMR_9406: ribose[x] <-> ribose[s]\n",
      "R_HMR_5043: H+[c] + Pi[c] <-> H+[m] + Pi[m]\n",
      "R_HMR_4388a: H+[c] + NADH[c] + pyruvate[c] --> L-lactate[c] + NAD+[c] [0, 1000]\n",
      "R_HMR_4373: 1,3-bisphospho-D-glycerate[c] + H+[c] + NADH[c] <-> GAP[c] + NAD+[c] + Pi[c]\n",
      "R_HMR_4365: 2-phospho-D-glycerate[c] <-> 3-phospho-D-glycerate[c]\n",
      "R_HMR_4368: 1,3-bisphospho-D-glycerate[c] + ADP[c] <-> 3-phospho-D-glycerate[c] + ATP[c]\n",
      "R_HMR_4363: 2-phospho-D-glycerate[c] <-> H2O[c] + PEP[c]\n",
      "R_HMR_6328: ADP[c] + ATP[m] <-> ADP[m] + ATP[c]\n",
      "R_HMR_4352: ribose-5-phosphate[c] <-> ribulose-5-phosphate[c]\n",
      "R_HMR_4210: PEP[c] + UDP[c] --> pyruvate[c] + UTP[c]\n",
      "R_HMR_4477: D-xylulose-5-phosphate[c] <-> ribulose-5-phosphate[c]\n",
      "R_HMR_4375: DHAP[c] + GAP[c] <-> fructose-1,6-bisphosphate[c]\n",
      "R_HMR_5078: glutamine[c] <-> glutamine[s]\n",
      "R_HMR_0155: butyrate[s] <-> butyrate[c]\n",
      "R_HMR_4391: DHAP[c] <-> GAP[c]\n",
      "R_HMR_9079: H+[x] <-> H+[s]\n",
      "R_HMR_4280: H+[m] + NADH[m] + pyruvate[m] <-> L-lactate[m] + NAD+[m]\n",
      "R_HMR_5411: H+[c] + L-lactate[c] <-> H+[m] + L-lactate[m]\n",
      "R_HMR_4596: 2-oxoadipate[c] + glutamate[c] <-> AKG[c] + L-2-aminoadipate[c]\n",
      "R_HMR_4237: 2-oxoadipate[c] + AKG[m] <-> 2-oxoadipate[m] + AKG[c]\n",
      "R_HMR_4597: 2-oxoadipate[m] + glutamate[m] <-> AKG[m] + L-2-aminoadipate[m]\n",
      "R_HMR_8022: AKG[c] + L-2-aminoadipate[m] <-> AKG[m] + L-2-aminoadipate[c]\n",
      "R_HMR_4109: AKG[m] + alanine[m] <-> glutamate[m] + pyruvate[m]\n",
      "R_HMR_4888: H2O[c] <-> H2O[m]\n",
      "R_HMR_6916: ADP[m] + 4.0 H+[i] + Pi[m] --> ATP[m] + 4.0 H+[m] + H2O[m]\n",
      "R_HMR_5113: alanine[c] --> alanine[m]\n",
      "R_HMR_9802: glutamine[c] + H2O[c] --> glutamate[c] + NH3[c]\n",
      "R_HMR_9047: H2O[x] <-> H2O[s]\n",
      "R_HMR_6380: glutamine[s] + H+[c] + Na+[s] --> glutamine[c] + H+[s] + Na+[c]\n",
      "R_HMR_4301: fructose-6-phosphate[c] + UTP[c] --> fructose-1,6-bisphosphate[c] + UDP[c]\n",
      "R_HMR_4404: D-xylulose-5-phosphate[c] + erythrose-4-phosphate[c] <-> fructose-6-phosphate[c] + GAP[c]\n",
      "R_HMR_4501: D-xylulose-5-phosphate[c] + ribose-5-phosphate[c] <-> GAP[c] + sedoheptulose-7-phosphate[c]\n",
      "R_HMR_4565: GAP[c] + sedoheptulose-7-phosphate[c] <-> erythrose-4-phosphate[c] + fructose-6-phosphate[c]\n",
      "R_HMR_6048: butyrate[s] + L-lactate[c] <-> butyrate[c] + L-lactate[s]\n",
      "R_HMR_6725: AKG[c] + phenylalanine[c] <-> glutamate[c] + phenylpyruvate[c]\n",
      "R_SYL9: glutamine[c] + phenylpyruvate[c] <-> 2-oxoglutaramate[c] + phenylalanine[c]\n",
      "R_HMR_4196: glutamine[c] + pyruvate[c] --> 2-oxoglutaramate[c] + alanine[c]\n",
      "R_HMR_9135: L-lactate[x] <-> L-lactate[s]\n",
      "R_HMR_4410: fumarate[m] + H2O[m] <-> malate[m]\n",
      "R_HMR_4652: fumarate[m] + ubiquinol[m] <-> succinate[m] + ubiquinone[m]\n",
      "R_HMR_4885: H2O[c] <-> H2O[s]\n",
      "R_HMR_6918: 2.0 ferricytochrome C[m] + 2.0 H+[m] + ubiquinol[m] --> 2.0 ferrocytochrome C[m] + 4.0 H+[i] + ubiquinone[m]\n",
      "R_HMR_4006: ADP[c] + UTP[c] <-> ATP[c] + UDP[c]\n",
      "R_HMR_9078: HCO3-[x] <-> HCO3-[s]\n",
      "R_HMR_4922: CO2[c] <-> CO2[m]\n",
      "R_HMR_9063: glutamine[x] <-> glutamine[s]\n",
      "R_HMR_5406: CO2[c] + H2O[c] <-> carbonate[c]\n",
      "R_HMR_8749: H+[c] + HCO3-[c] <-> carbonate[c]\n",
      "R_HMR_4379: ATP[c] + fructose-6-phosphate[c] --> ADP[c] + fructose-1,6-bisphosphate[c]\n",
      "R_m02943: succinate[s] <-> succinate[c]\n",
      "R_HMR_9415: succinate[x] <-> succinate[s]\n",
      "R_HMR_5448: HCO3-[c] + 2.0 Na+[c] --> HCO3-[s] + 2.0 Na+[s]\n",
      "R_HMR_4873: NH3[c] <-> NH3[s]\n",
      "R_HMR_9073: NH3[x] <-> NH3[s]\n",
      "R_HMR_6914: 4.0 ferrocytochrome C[m] + 8.0 H+[m] + O2[m] --> 4.0 ferricytochrome C[m] + 4.0 H+[i] + 2.0 H2O[m]\n",
      "R_HMR_4143: ATP[m] + H+[m] + HCO3-[m] + pyruvate[m] --> ADP[m] + OAA[m] + Pi[m]\n",
      "R_HMR_8512: D-lactate[c] + NAD+[c] <-> H+[c] + NADH[c] + pyruvate[c]\n",
      "R_HMR_3859: D-lactate[c] + 2.0 ferricytochrome C[m] --> 2.0 ferrocytochrome C[m] + 2.0 H+[c] + pyruvate[c]\n",
      "R_HMR_9133: pyruvate[x] <-> pyruvate[s]\n",
      "R_HMR_6019: butyrate[c] + pyruvate[s] <-> butyrate[s] + pyruvate[c]\n",
      "R_HMR_8750: H+[m] + HCO3-[m] <-> carbonate[m]\n",
      "R_HMR_8751: CO2[m] + H2O[m] <-> carbonate[m]\n",
      "R_HMR_4299: glucosamine-6-phosphate[c] + H2O[c] --> fructose-6-phosphate[c] + NH3[c]\n",
      "R_HMR_4300: fructose-6-phosphate[c] + glutamine[c] --> glucosamine-6-phosphate[c] + glutamate[c]\n",
      "R_HMR_9259: AKG[x] <-> AKG[s]\n",
      "R_HMR_5570: asparagine[c] + homoserine[s] <-> asparagine[s] + homoserine[c]\n",
      "R_HMR_6382: asparagine[s] + H+[c] + Na+[s] --> asparagine[c] + H+[s] + Na+[c]\n",
      "R_HMR_4851: AKG[c] + succinate[m] <-> AKG[m] + succinate[c]\n",
      "R_HMR_4141: H+[m] + NADH[m] + OAA[m] <-> malate[m] + NAD+[m]\n",
      "R_HMR_4919: CO2[c] <-> CO2[s]\n",
      "R_HMR_9058: CO2[s] --> CO2[x]\n",
      "R_HMR_4139: H+[c] + NADH[c] + OAA[c] <-> malate[c] + NAD+[c]\n",
      "R_HMR_0622: PE-LD pool[c] + serine[c] --> ethanolamine[c] + PS-LD pool[c]\n",
      "R_HMR_4152: ADP[m] + Pi[m] + succinyl-CoA[m] <-> ATP[m] + CoA[m] + succinate[m]\n",
      "R_HMR_7896: ethanolamine[c] <-> ethanolamine[s]\n",
      "R_HMR_9084: ethanolamine[x] <-> ethanolamine[s]\n",
      "R_HMR_0627: PS-LD pool[c] --> CO2[c] + PE-LD pool[c]\n",
      "R_HMR_5297: AKG[m] + CoA[m] + NAD+[m] --> CO2[m] + H+[m] + NADH[m] + succinyl-CoA[m]\n",
      "R_HMR_4852: AKG[c] + malate[m] <-> AKG[m] + malate[c]\n",
      "R_HMR_5441: homoserine[c] <-> homoserine[s]\n",
      "R_HMR_4862: Pi[c] + succinate[m] <-> Pi[m] + succinate[c]\n",
      "R_HMR_6921: 5.0 H+[m] + NADH[m] + ubiquinone[m] --> 4.0 H+[i] + NAD+[m] + ubiquinol[m]\n",
      "R_HMR_4306: glucono-1,5-lactone-6-phosphate[c] + H+[c] + NADPH[c] <-> glucose-6-phosphate[c] + NADP+[c]\n",
      "R_HMR_4625: glucono-1,5-lactone-6-phosphate[c] + H2O[c] --> 6-phospho-D-gluconate[c]\n",
      "R_HMR_8861: H2O[c] + urea[c] <-> H2O[s] + urea[s]\n",
      "R_HMR_4193: CDP[c] + PEP[c] --> CTP[c] + pyruvate[c]\n",
      "R_HMR_4336: 10-formyl-THF[c] + H2O[c] + NADP+[c] --> CO2[c] + H+[c] + NADPH[c] + THF[c]\n",
      "R_HMR_8698: H+[c] + NADPH[c] + retinoate[c] <-> H2O[c] + NADP+[c] + retinal[c] [-0.1, 0.1]\n",
      "R_HMR_4503: 10-formyl-THF[c] + H+[c] <-> 5,10-methenyl-THF[c] + H2O[c]\n",
      "R_HMR_4783: 2.0 H+[m] + O2[m] + trans-4-hydroxy-L-proline[m] --> 2.0 H2O[m] + L-1-pyrroline-3-hydroxy-5-carboxylate[m]\n",
      "R_HMR_8098: L-erythro-4-hydroxyglutamate[m] + OAA[m] --> 4-hydroxy-2-oxoglutarate[m] + aspartate[m]\n",
      "R_HMR_3829: AKG[c] + aspartate[c] <-> glutamate[c] + OAA[c]\n",
      "R_HMR_3806: glutamate[m] + H+[m] + NADH[m] <-> H2O[m] + L-glutamate 5-semialdehyde[m] + NAD+[m]\n",
      "R_HMR_3820: 1-pyrroline-5-carboxylate[m] + H2O[m] <-> L-glutamate 5-semialdehyde[m] [-inf, 0.0]\n",
      "R_HMR_4777: AKG[m] + O2[m] + proline[m] --> CO2[m] + succinate[m] + trans-4-hydroxy-L-proline[m]\n",
      "R_HMR_4785: 2.0 H2O[m] + L-1-pyrroline-3-hydroxy-5-carboxylate[m] + NADP+[m] --> H+[m] + L-erythro-4-hydroxyglutamate[m] + NADPH[m]\n",
      "R_HMR_4787: 4-hydroxy-2-oxoglutarate[m] --> glyoxalate[m] + pyruvate[m]\n",
      "R_HMR_6661: 13-cis-retinoate[c] <-> retinoate[c] [-0.1, 0.1]\n",
      "R_HMR_6672: 13-cis-retinal[c] <-> retinal[c] [-0.1, 0.1]\n",
      "R_HMR_8699: 13-cis-retinal[c] + H2O[c] + NADP+[c] <-> 13-cis-retinoate[c] + H+[c] + NADPH[c] [-0.1, 0.1]\n",
      "R_HMR_4028: ADP[c] + CTP[c] <-> ATP[c] + CDP[c]\n",
      "R_HMR_5079: serine[s] --> serine[c]\n",
      "R_HMR_4765: bilirubin[c] <-> bilirubin[r]\n",
      "R_HMR_5004: bilirubin[c] + Na+[c] <-> bilirubin[r] + Na+[r]\n",
      "R_HMR_6387: Na+[c] + Pi[c] <-> Na+[r] + Pi[r]\n",
      "R_HMR_4949: urea[c] <-> urea[s]\n",
      "R_HMR_3845: serine[c] + THF[c] <-> 5,10-methylene-THF[c] + glycine[c] + H2O[c]\n",
      "R_HMR_4898: O2[c] <-> O2[m]\n",
      "R_HMR_3837: 1-pyrroline-5-carboxylate[m] + H+[m] + NADH[m] --> NAD+[m] + proline[m]\n",
      "R_HMR_6028: AKG[c] + retinoate[s] <-> AKG[s] + retinoate[c] [-0.1, 0.1]\n",
      "R_HMR_4788: alanine[m] + glyoxalate[m] --> glycine[m] + pyruvate[m]\n",
      "R_HMR_6911: FADH2[m] + ubiquinone[m] <-> FAD[m] + ubiquinol[m]\n",
      "R_HMR_6027: AKG[c] + butyrate[s] <-> AKG[s] + butyrate[c]\n",
      "R_HMR_3947: H2O2[c] <-> H2O2[p]\n",
      "R_HMR_5124: glycine[c] <-> glycine[m]\n",
      "R_HMR_4890: H2O[c] <-> H2O[p]\n",
      "R_HMR_3862: asparagine[m] + H2O[m] --> aspartate[m] + NH3[m]\n",
      "R_HMR_4172: asparagine[c] + H2O[c] --> aspartate[c] + NH3[c]\n",
      "R_HMR_4874: NH3[c] <-> NH3[m]\n",
      "R_HMR_5096: asparagine[c] --> asparagine[m]\n",
      "R_HMR_8342: H+[c] + L-xylulose[c] + NADH[c] <-> L-arabitol[c] + NAD+[c]\n",
      "R_HMR_8343: L-arabitol[c] --> L-arabitol[s]\n",
      "R_HMR_9241: L-arabitol[x] <-> L-arabitol[s]\n",
      "R_HMR_4590: H+[c] + L-xylulose[c] + NADPH[c] --> NADP+[c] + xylitol[c]\n",
      "R_HMR_4593: NAD+[c] + xylitol[c] --> D-xylulose[c] + H+[c] + NADH[c]\n",
      "R_HMR_4595: ADP[c] + D-xylulose-5-phosphate[c] <-> ATP[c] + D-xylulose[c]\n",
      "R_HMR_7642: D-alanine[c] <-> alanine[c]\n",
      "R_HMR_7643: D-alanine[c] + glutamine[s] <-> D-alanine[s] + glutamine[c]\n",
      "R_HMR_9098: D-alanine[x] <-> D-alanine[s]\n",
      "R_HMR_6381: H+[c] + Na+[s] + serine[s] --> H+[s] + Na+[c] + serine[c]\n",
      "R_HMR_4738: 2-aminoadipate 6-semialdehyde[c] + L-2-aminoadipate[m] <-> 2-aminoadipate 6-semialdehyde[m] + L-2-aminoadipate[c]\n",
      "R_SYL6: 2-aminoadipate 6-semialdehyde[c] + H2O[c] + NADP+[c] <-> H+[c] + L-2-aminoadipate[c] + NADPH[c]\n",
      "R_SYL7: 2-aminoadipate 6-semialdehyde[m] + H2O[m] + NADP+[m] <-> H+[m] + L-2-aminoadipate[m] + NADPH[m]\n",
      "R_HMR_4892: H2O[c] <-> H2O[g]\n",
      "R_HMR_0795: H2O[c] + SM pool[c] --> ceramide pool[c] + phosphocholine[c]\n",
      "R_HMR_0454: ATP[c] + glyceraldehyde[c] --> ADP[c] + GAP[c]\n",
      "R_HMR_3953: 6-phospho-D-gluconate[c] <-> 6-phospho-D-gluconate[r]\n",
      "R_HMR_4473: 6-phospho-D-gluconate[r] + NADP+[r] --> CO2[r] + H+[r] + NADPH[r] + ribulose-5-phosphate[r]\n",
      "R_HMR_4877: ribulose-5-phosphate[c] <-> ribulose-5-phosphate[r]\n",
      "R_HMR_4917: CO2[c] <-> CO2[r]\n",
      "R_m01981: glyceraldehyde[x] <-> glyceraldehyde[s]\n",
      "R_zk1: glyceraldehyde[s] <-> glyceraldehyde[c]\n",
      "R_HMR_0736: ceramide pool[c] + PC-LD pool[c] --> 1,2-diacylglycerol-LD-TAG pool[c] + SM pool[c]\n",
      "R_HMR_8377: CTP[c] + N-acetylneuraminate[c] --> CMP-N-acetylneuraminate[c] + PPi[c]\n",
      "R_HMR_4531: H+[c] + N-acetylneuraminate[c] + NADH[c] + O2[c] --> H2O[c] + NAD+[c] + neungc[c]\n"
     ]
    },
    {
     "name": "stdout",
     "output_type": "stream",
     "text": [
      "R_HMR_4532: CMP-neuNGc[c] + PPi[c] <-> CTP[c] + neungc[c]\n",
      "R_HMR_4534: CMP-neuNGc[c] + H2O[c] + NADP+[c] --> CMP-N-acetylneuraminate[c] + H+[c] + NADPH[c] + O2[c]\n",
      "R_HMR_4442: 5,10-methenyl-THF[c] + NADPH[c] --> 5,10-methylene-THF[c] + NADP+[c]\n",
      "R_HMR_8344: glucuronate[r] + H+[r] + NADPH[r] <-> L-gulonate[r] + NADP+[r]\n",
      "R_HMR_8345: D-glucurono-6,3-lactone[r] + H2O[r] <-> glucuronate[r]\n",
      "R_HMR_8346: H2O[r] + L-gulono-1,4-lactone[r] <-> L-gulonate[r]\n",
      "R_HMR_8347: L-gulono-1,4-lactone[c] --> L-gulono-1,4-lactone[r]\n",
      "R_HMR_8348: D-glucurono-6,3-lactone[c] + H+[c] + NADPH[c] <-> L-gulono-1,4-lactone[c] + NADP+[c]\n",
      "R_HMR_8350: D-glucurono-6,3-lactone[c] <-> D-glucurono-6,3-lactone[r]\n",
      "R_HMR_4474: 6-phospho-D-gluconate[c] + NADP+[c] --> CO2[c] + H+[c] + NADPH[c] + ribulose-5-phosphate[c]\n",
      "R_HMR_9736: cholesterol-ester pool[x] <-> cholesterol-ester pool[l]\n",
      "R_HMR_9069: serine[x] <-> serine[s]\n",
      "R_HMR_0734: PC-LD pool[c] <-> PC-LD pool[g]\n",
      "R_HMR_0735: ceramide pool[g] + PC-LD pool[g] --> 1,2-diacylglycerol-LD-TAG pool[g] + SM pool[g]\n",
      "R_HMR_8242: H2O[g] + SM pool[g] --> ceramide pool[g] + phosphocholine[g]\n",
      "R_HMR_8243: phosphocholine[c] <-> phosphocholine[g]\n",
      "R_HMR_9664: 1,2-diacylglycerol-LD-TAG pool[g] --> 1,2-diacylglycerol-LD-TAG pool[c]\n",
      "R_HMR_4883: H2O[c] <-> H2O[r]\n",
      "R_HMR_5308: glutamine[s] + Na+[s] --> glutamine[c] + Na+[c]\n",
      "R_HMR_3949: malate[m] + OAA[c] --> malate[c] + OAA[m]\n",
      "R_HMR_5070: histidine[c] <-> histidine[s]\n",
      "R_SYL5: OAA[m] --> pyruvate[m] + CO2[m]\n",
      "R_HMR_5347: PPi[c] <-> PPi[r]\n",
      "R_HMR_3984: 2.0 H2O2[p] --> 2.0 H2O[p] + O2[p]\n",
      "R_HMR_8144: 5,10-methenyl-THF[c] + NADH[c] <-> 5,10-methylene-THF[c] + NAD+[c]\n",
      "R_HMR_5335: H+[c] + histidine[s] + 2.0 Na+[s] --> H+[s] + histidine[c] + 2.0 Na+[c]\n",
      "R_HMR_5328: aspartate[s] + Na+[s] --> aspartate[c] + Na+[c]\n",
      "R_HMR_9737: aspartate[c] --> aspartate[s]\n",
      "R_HMR_5310: glutamine[s] + H+[c] + 2.0 Na+[s] --> glutamine[c] + H+[s] + 2.0 Na+[c]\n",
      "R_m02036: guanidinoacetate[x] <-> guanidinoacetate[s]\n",
      "R_zk2: guanidinoacetate[s] <-> guanidinoacetate[c]\n",
      "R_HMR_3885: acetoacetyl-CoA[m] + CoA[m] <-> 2.0 acetyl-CoA[m]\n",
      "R_HMR_5426: acetoacetate[c] + pyruvate[m] <-> acetoacetate[m] + pyruvate[c]\n",
      "R_HMR_6005: acetoacetate[c] + retinoate[s] <-> acetoacetate[s] + retinoate[c] [-0.1, 0.1]\n",
      "R_HMR_9132: acetoacetate[x] <-> acetoacetate[s]\n",
      "R_HMR_1573: acetoacetyl-CoA[m] + acetyl-CoA[m] + H2O[m] --> CoA[m] + HMG-CoA[m]\n",
      "R_HMR_1577: HMG-CoA[m] --> acetoacetate[m] + acetyl-CoA[m]\n",
      "R_HMR_4089: malate[c] + NADP+[c] --> CO2[c] + H+[c] + NADPH[c] + pyruvate[c]\n",
      "R_HMR_5330: glutamate[s] + Na+[s] --> glutamate[c] + Na+[c]\n",
      "R_HMR_9071: glutamate[x] <-> glutamate[s]\n",
      "R_HMR_6049: L-lactate[c] + retinoate[s] <-> L-lactate[s] + retinoate[c] [-0.1, 0.1]\n",
      "R_HMR_9061: alanine[x] <-> alanine[s]\n",
      "R_HMR_6627: dTDP[c] + PEP[c] <-> dTTP[c] + pyruvate[c]\n",
      "R_HMR_4044: ADP[c] + dATP[c] <-> ATP[c] + dADP[c]\n",
      "R_HMR_4635: ADP[c] + dTTP[c] <-> ATP[c] + dTDP[c]\n",
      "R_HMR_6729: 2.0 H+[c] + O2[c] + tyrosine[c] --> H2O[c] + L-dopa[c]\n",
      "R_HMR_6731: L-dopa[c] --> CO2[c] + dopamine[c]\n",
      "R_HMR_7689: dopamine[c] + PAPS[c] --> dopamine-3-O-sulfate[c] + PAP[c]\n",
      "R_HMR_8723: dopamine-3-O-sulfate[c] --> dopamine-3-O-sulfate[s]\n",
      "R_HMR_9308: dopamine-3-O-sulfate[x] <-> dopamine-3-O-sulfate[s]\n",
      "R_HMR_9074: sulfate[x] <-> sulfate[s]\n",
      "R_HMR_6826: 3,3-diiodo-L-thyronine[c] + iodide[c] + NADP+[c] <-> NADPH[c] + triiodothyronine[c]\n",
      "R_HMR_6834: 3,3-diiodo-L-thyronine[c] + iodide[c] + NADP+[c] <-> NADPH[c] + reverse triiodthyronine[c]\n",
      "R_HMR_6839: 3,5,3-triiodothyronine-4-sulfate[c] + H2O[c] --> reverse triiodthyronine[c] + sulfate[c]\n",
      "R_HMR_8534: PAPS[c] + triiodothyronine[c] --> 3,5,3-triiodothyronine-4-sulfate[c] + PAP[c]\n",
      "R_HMR_4114: 2-oxoglutaramate[c] + H2O[c] --> AKG[c] + NH3[c]\n",
      "R_HMR_5251: PC-LD pool[l] --> PC-LD pool[r]\n",
      "R_HMR_4421: dADP[c] + PEP[c] --> dATP[c] + pyruvate[c]\n",
      "R_HMR_3825: aspartate[m] + glutamate[c] + H+[i] --> aspartate[c] + glutamate[m] + H+[m]\n",
      "R_HMR_3975: H2O[r] + PPi[r] --> 2.0 Pi[r]\n",
      "R_HMR_5091: threonine[s] --> threonine[c]\n",
      "R_SW2: ubiquinone[m] + sn-glycerol-3-phosphate[c] --> DHAP[c] + ubiquinol[m]\n",
      "R_HMR_6768: AKG[c] + tyrosine[c] --> 4-hydroxyphenylpyruvate[c] + glutamate[c]\n",
      "R_m01005: 4-hydroxyphenylpyruvate[x] <-> 4-hydroxyphenylpyruvate[s]\n",
      "R_zk25: 4-hydroxyphenylpyruvate[s] <-> 4-hydroxyphenylpyruvate[c]\n",
      "R_HMR_5390: H2O[c] + methionine[c] + O2[c] --> 4-methylthio-2-oxobutanoic acid[c] + H2O2[c] + NH3[c]\n",
      "R_HMR_8607: 4-methylthio-2-oxobutanoic acid[c] + glutamine[c] + 2.0 H+[c] --> glutamate[c] + methionine[c]\n",
      "R_HMR_4926: H+[c] + pyruvate[c] --> H+[m] + pyruvate[m]\n",
      "R_HMR_4900: O2[c] <-> O2[p]\n",
      "R_HMR_0216: palmitate[s] <-> palmitate[c]\n",
      "R_m02674: palmitate[x] <-> palmitate[s]\n",
      "R_HMR_9438: urea[x] <-> urea[s]\n",
      "R_m02738: phosphocholine[x] <-> phosphocholine[s]\n",
      "R_zk37: phosphocholine[s] <-> phosphocholine[c]\n",
      "R_HMR_6241: noradrenaline[c] <-> noradrenaline[s]\n",
      "R_HMR_4295: acetyl-CoA[m] + ATP[m] + H+[m] + HCO3-[m] --> ADP[m] + malonyl-CoA[m] + Pi[m]\n",
      "R_HMR_4269: ATP[c] + NAD+[c] --> ADP[c] + NADP+[c]\n",
      "R_HMR_4270: H2O[c] + NADP+[c] --> NAD+[c] + Pi[c]\n",
      "R_HMR_4893: H2O[c] <-> H2O[n]\n",
      "R_HMR_6506: ATP[c] + riboflavin[c] --> ADP[c] + FMN[c]\n",
      "R_HMR_6507: FMN[c] + H2O[c] --> Pi[c] + riboflavin[c]\n",
      "R_HMR_6130: estrone 3-sulfate[s] + glutathionyl-leukotriene C4[c] + HCO3-[c] <-> estrone 3-sulfate[c] + glutathionyl-leukotriene C4[s] + HCO3-[s]\n",
      "R_HMR_9624: AKG[c] + estrone 3-sulfate[s] --> AKG[s] + estrone 3-sulfate[c]\n",
      "R_HMR_3980: 2.0 H2O2[c] --> 2.0 H2O[c] + O2[c]\n",
      "R_HMR_7764: Pi[c] <-> Pi[n]\n",
      "R_HMR_4582: arginine[c] + glycine[c] <-> guanidinoacetate[c] + ornithine[c]\n",
      "R_HMR_3816: arginine[c] + H2O[c] --> ornithine[c] + urea[c]\n",
      "R_HMR_0461: PC-LD pool[c] <-> PC-LD pool[r]\n",
      "R_HMR_1898: glutathionyl-leukotriene C4[c] + HCO3-[c] + noradrenaline[s] <-> glutathionyl-leukotriene C4[s] + HCO3-[s] + noradrenaline[c]\n",
      "R_HMR_8782: H+[c] + hydroxypyruvate[c] + NADH[c] --> glycerate[c] + NAD+[c]\n",
      "R_HMR_4930: H+[c] + pyruvate[c] <-> H+[p] + pyruvate[p]\n",
      "R_HMR_3106: acetyl-CoA[c] <-> acetyl-CoA[p]\n",
      "R_HMR_5474: alanine[c] + serine[s] <-> alanine[s] + serine[c]\n",
      "R_HMR_4573: dGDP[c] + PEP[c] --> dGTP[c] + pyruvate[c]\n",
      "R_HMR_0796: SM pool[c] <-> SM pool[l]\n",
      "R_HMR_4570: ADP[c] + dGTP[c] <-> ATP[c] + dGDP[c]\n",
      "R_HMR_9044: threonine[x] --> threonine[s]\n",
      "R_HMR_9161: homoserine[x] <-> homoserine[s]\n",
      "R_HMR_9486: H2O[c] + O-phospho-L-homoserine[c] --> Pi[c] + threonine[c]\n",
      "R_HMR_9718: ATP[c] + homoserine[c] --> ADP[c] + O-phospho-L-homoserine[c]\n",
      "R_HMR_4465: H+[c] + hydroxypyruvate[c] + NADPH[c] --> glycerate[c] + NADP+[c]\n",
      "R_HMR_6388: Pi[r] + PPi[c] <-> Pi[c] + PPi[r]\n",
      "R_HMR_3007: H+[c] + L-lactate[c] <-> H+[p] + L-lactate[p]\n",
      "R_HMR_4281: H+[p] + NADH[p] + pyruvate[p] <-> L-lactate[p] + NAD+[p]\n",
      "R_HMR_7800: ADP[c] + GDP[c] <-> AMP[c] + GTP[c]\n",
      "R_HMR_4915: CoA[c] <-> CoA[p]\n",
      "R_HMR_3977: H2O[c] + PPi[c] --> 2.0 Pi[c]\n",
      "R_HMR_9165: oxalate[x] <-> oxalate[s]\n",
      "R_HMR_7708: glyoxalate[c] <-> glyoxalate[m]\n",
      "R_HMR_8780: glyoxalate[c] + H2O[c] + NAD+[c] --> H+[c] + NADH[c] + oxalate[c]\n",
      "R_HMR_5089: valine[c] <-> valine[s]\n",
      "R_HMR_5314: Na+[s] + valine[s] --> Na+[c] + valine[c]\n"
     ]
    }
   ],
   "source": [
    "flux_changes_reactions = []\n",
    "for r_id in flux_changes.iloc[:,0]:\n",
    "    flux_changes_reactions.append(model.print_reaction(r_id, use_names=True))"
   ]
  },
  {
   "cell_type": "code",
   "execution_count": null,
   "metadata": {},
   "outputs": [],
   "source": []
  }
 ],
 "metadata": {
  "kernelspec": {
   "display_name": "Python [conda env:python36] *",
   "language": "python",
   "name": "conda-env-python36-py"
  },
  "language_info": {
   "codemirror_mode": {
    "name": "ipython",
    "version": 3
   },
   "file_extension": ".py",
   "mimetype": "text/x-python",
   "name": "python",
   "nbconvert_exporter": "python",
   "pygments_lexer": "ipython3",
   "version": "3.6.9"
  }
 },
 "nbformat": 4,
 "nbformat_minor": 2
}
