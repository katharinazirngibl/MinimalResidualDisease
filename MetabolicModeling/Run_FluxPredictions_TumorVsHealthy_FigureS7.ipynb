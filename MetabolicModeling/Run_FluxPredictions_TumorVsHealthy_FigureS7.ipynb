{
 "cells": [
  {
   "cell_type": "code",
   "execution_count": 1,
   "metadata": {},
   "outputs": [],
   "source": [
    "%matplotlib inline"
   ]
  },
  {
   "cell_type": "code",
   "execution_count": 2,
   "metadata": {},
   "outputs": [],
   "source": [
    "import pandas as pd\n",
    "import numpy as np\n",
    "import os\n",
    "from reframed import FBA, load_cbmodel\n",
    "from reframed.alpha.MARGE import marge\n",
    "from reframed.alpha.GPRtransform import gpr_transform\n",
    "from reframed.alpha.fluxutils import compare_fluxes\n",
    "os.chdir(\"Users/zirngibl/Documents/Projects/Paper-DescriptionMRD/SupplementaryFigure7/\")\n"
   ]
  },
  {
   "cell_type": "markdown",
   "metadata": {},
   "source": [
    "### Load model and test for growth"
   ]
  },
  {
   "cell_type": "code",
   "execution_count": 3,
   "metadata": {},
   "outputs": [],
   "source": [
    "model = load_cbmodel(\"HMR2_FbaOptimized.xml\")"
   ]
  },
  {
   "cell_type": "code",
   "execution_count": 4,
   "metadata": {},
   "outputs": [
    {
     "data": {
      "text/plain": [
       "Objective: 2.695708432175976\n",
       "Status: Optimal"
      ]
     },
     "execution_count": 4,
     "metadata": {},
     "output_type": "execute_result"
    }
   ],
   "source": [
    "FBA(model)"
   ]
  },
  {
   "cell_type": "markdown",
   "metadata": {},
   "source": [
    "### Correct model for Ldha/b/c/d isoform thermopreference "
   ]
  },
  {
   "cell_type": "code",
   "execution_count": 5,
   "metadata": {},
   "outputs": [],
   "source": [
    "from reframed.core.cbmodel import GPRAssociation, Protein, Gene\n",
    "from reframed.core.cbmodel import CBReaction\n",
    "from collections import OrderedDict"
   ]
  },
  {
   "cell_type": "code",
   "execution_count": 6,
   "metadata": {},
   "outputs": [
    {
     "name": "stdout",
     "output_type": "stream",
     "text": [
      "R_HMR_4388: M_m02039c + M_m02553c + M_m02819c <-> M_m02403c + M_m02552c\n",
      "-inf\n",
      "inf\n",
      "(ENSG00000111716 or ENSG00000134333 or ENSG00000166796 or ENSG00000166800 or ENSG00000171989)\n"
     ]
    }
   ],
   "source": [
    "print(model.reactions.R_HMR_4388)\n",
    "print(model.reactions.R_HMR_4388.lb)\n",
    "print(model.reactions.R_HMR_4388.ub)\n",
    "print(model.reactions.R_HMR_4388.gpr)"
   ]
  },
  {
   "cell_type": "code",
   "execution_count": 7,
   "metadata": {},
   "outputs": [],
   "source": [
    "stoich = OrderedDict()\n",
    "stoich['M_m02039c'] = -1.0\n",
    "stoich['M_m02553c'] = -1.0\n",
    "stoich['M_m02819c'] = -1.0\n",
    "stoich['M_m02403c'] = 1.0\n",
    "stoich['M_m02552c'] = 1.0\n",
    "reac = CBReaction(reaction_id = 'R_HMR_4388a', name = 'R_HMR_4388a', reversible = False, stoichiometry = stoich,\n",
    "                   lb = 0, ub = 1000, reaction_type = 'other' )\n",
    "model.add_reaction(reac)\n"
   ]
  },
  {
   "cell_type": "code",
   "execution_count": 8,
   "metadata": {},
   "outputs": [],
   "source": [
    "gpr = GPRAssociation()\n",
    "new_genes = [str('ENSG00000134333'), str('ENSG00000166796')]\n",
    "for gene in new_genes:\n",
    "    protein = Protein()\n",
    "    protein.genes = [str(gene)]\n",
    "    gpr.proteins.append(protein)\n",
    "\n",
    "model.set_gpr_association('R_HMR_4388a', gpr, add_genes = True)"
   ]
  },
  {
   "cell_type": "code",
   "execution_count": 9,
   "metadata": {},
   "outputs": [],
   "source": [
    "stoich = OrderedDict()\n",
    "stoich['M_m02403c'] = -1.0\n",
    "stoich['M_m02552c'] = -1.0\n",
    "stoich['M_m02039c'] = 1.0\n",
    "stoich['M_m02553c'] = 1.0\n",
    "stoich['M_m02819c'] = 1.0\n",
    "reac = CBReaction(reaction_id = 'R_HMR_4388b', name = 'R_HMR_4388b', reversible = False, stoichiometry = stoich,\n",
    "                   lb = 0, ub = 1000, reaction_type = 'other' )\n",
    "model.add_reaction(reac)"
   ]
  },
  {
   "cell_type": "code",
   "execution_count": 10,
   "metadata": {},
   "outputs": [],
   "source": [
    "gpr = GPRAssociation()\n",
    "new_genes = [str('ENSG00000111716'), str('ENSG00000166796')]\n",
    "for gene in new_genes:\n",
    "    protein = Protein()\n",
    "    protein.genes = [str(gene)]\n",
    "    gpr.proteins.append(protein)\n",
    "\n",
    "model.set_gpr_association('R_HMR_4388b', gpr, add_genes = True)"
   ]
  },
  {
   "cell_type": "code",
   "execution_count": 11,
   "metadata": {},
   "outputs": [
    {
     "name": "stdout",
     "output_type": "stream",
     "text": [
      "R_HMR_4388a: M_m02039c + M_m02553c + M_m02819c --> M_m02403c + M_m02552c [0, 1000]\n",
      "0\n",
      "1000\n",
      "<class 'reframed.core.cbmodel.GPRAssociation'>\n",
      "(ENSG00000134333 or ENSG00000166796)\n",
      "R_HMR_4388b: M_m02403c + M_m02552c --> M_m02039c + M_m02553c + M_m02819c [0, 1000]\n",
      "0\n",
      "1000\n",
      "<class 'reframed.core.cbmodel.GPRAssociation'>\n",
      "(ENSG00000111716 or ENSG00000166796)\n"
     ]
    }
   ],
   "source": [
    "print(model.reactions.R_HMR_4388a)\n",
    "print(model.reactions.R_HMR_4388a.lb)\n",
    "print(model.reactions.R_HMR_4388a.ub)\n",
    "print(type(model.reactions.R_HMR_4388a.gpr))\n",
    "print(model.reactions.R_HMR_4388a.gpr)\n",
    "print(model.reactions.R_HMR_4388b)\n",
    "print(model.reactions.R_HMR_4388b.lb)\n",
    "print(model.reactions.R_HMR_4388b.ub)\n",
    "print(type(model.reactions.R_HMR_4388b.gpr))\n",
    "print(model.reactions.R_HMR_4388b.gpr)"
   ]
  },
  {
   "cell_type": "code",
   "execution_count": 12,
   "metadata": {},
   "outputs": [],
   "source": [
    "model.remove_reaction('R_HMR_4388')"
   ]
  },
  {
   "cell_type": "markdown",
   "metadata": {},
   "source": [
    "### Correct GPRs of other reactions involving LDHA"
   ]
  },
  {
   "cell_type": "code",
   "execution_count": 13,
   "metadata": {},
   "outputs": [
    {
     "name": "stdout",
     "output_type": "stream",
     "text": [
      "['R_HMR_4281', 'R_HMR_4280', 'R_HMR_4287', 'R_HMR_4388a']\n",
      "(ENSG00000111716 or ENSG00000134333 or ENSG00000171989)\n",
      "(ENSG00000111716 or ENSG00000134333 or ENSG00000171989)\n",
      "ENSG00000134333\n"
     ]
    }
   ],
   "source": [
    "print(model.get_reactions_by_gene('ENSG00000134333'))\n",
    "print(model.reactions.R_HMR_4280.gpr)\n",
    "print(model.reactions.R_HMR_4281.gpr)\n",
    "print(model.reactions.R_HMR_4287.gpr)"
   ]
  },
  {
   "cell_type": "code",
   "execution_count": 14,
   "metadata": {},
   "outputs": [],
   "source": [
    "gpr = GPRAssociation()\n",
    "new_genes = [str('ENSG00000171989')]\n",
    "for gene in new_genes:\n",
    "    protein = Protein()\n",
    "    protein.genes = [str(gene)]\n",
    "    gpr.proteins.append(protein)\n",
    "model.set_gpr_association('R_HMR_4280', gpr, add_genes = True)\n",
    "model.set_gpr_association('R_HMR_4281', gpr, add_genes = True)\n",
    "\n",
    "gpr = GPRAssociation()\n",
    "new_genes = [str('')]\n",
    "for gene in new_genes:\n",
    "    protein = Protein()\n",
    "    protein.genes = [str(gene)]\n",
    "    gpr.proteins.append(protein)\n",
    "model.set_gpr_association('R_HMR_4287', gpr, add_genes = True)"
   ]
  },
  {
   "cell_type": "markdown",
   "metadata": {},
   "source": [
    "### Correct GPRs of other reactions involving LDHB"
   ]
  },
  {
   "cell_type": "code",
   "execution_count": 15,
   "metadata": {},
   "outputs": [
    {
     "name": "stdout",
     "output_type": "stream",
     "text": [
      "['R_HMR_5351', 'R_HMR_6519', 'R_HMR_8780', 'R_HMR_4388b']\n",
      "(ENSG00000111716 or ENSG00000151116 or ENSG00000166796 or ENSG00000166800 or ENSG00000171989)\n",
      "(ENSG00000111716 or ENSG00000151116 or ENSG00000166796 or ENSG00000166800 or ENSG00000171989)\n",
      "(ENSG00000111716 or ENSG00000151116 or ENSG00000166796 or ENSG00000166800 or ENSG00000166816 or ENSG00000171989)\n"
     ]
    }
   ],
   "source": [
    "print(model.get_reactions_by_gene('ENSG00000111716'))\n",
    "print(model.reactions.R_HMR_5351.gpr)\n",
    "print(model.reactions.R_HMR_6519.gpr)\n",
    "print(model.reactions.R_HMR_8780.gpr)"
   ]
  },
  {
   "cell_type": "code",
   "execution_count": 16,
   "metadata": {},
   "outputs": [],
   "source": [
    "gpr = GPRAssociation()\n",
    "new_genes = [str('ENSG00000151116'), str('ENSG00000166800'), str('ENSG00000171989')]\n",
    "for gene in new_genes:\n",
    "    protein = Protein()\n",
    "    protein.genes = [str(gene)]\n",
    "    gpr.proteins.append(protein)\n",
    "model.set_gpr_association('R_HMR_5351', gpr, add_genes = True)\n",
    "model.set_gpr_association('R_HMR_6519', gpr, add_genes = True)\n",
    "model.set_gpr_association('R_HMR_8780', gpr, add_genes = True)"
   ]
  },
  {
   "cell_type": "markdown",
   "metadata": {},
   "source": [
    "### Correct GPRs of other reactions involving LDHC"
   ]
  },
  {
   "cell_type": "code",
   "execution_count": 17,
   "metadata": {},
   "outputs": [
    {
     "name": "stdout",
     "output_type": "stream",
     "text": [
      "['R_HMR_4388a', 'R_HMR_4388b']\n"
     ]
    }
   ],
   "source": [
    "print(model.get_reactions_by_gene('ENSG00000166796'))"
   ]
  },
  {
   "cell_type": "markdown",
   "metadata": {},
   "source": [
    "### Correct GPRs of other reactions involving LDHD"
   ]
  },
  {
   "cell_type": "code",
   "execution_count": 18,
   "metadata": {},
   "outputs": [
    {
     "name": "stdout",
     "output_type": "stream",
     "text": [
      "['R_HMR_3859', 'R_HMR_8512', 'R_HMR_8514']\n",
      "(ENSG00000166816 or ENSG00000182224)\n",
      "ENSG00000166816\n",
      "ENSG00000166816\n"
     ]
    }
   ],
   "source": [
    "print(model.get_reactions_by_gene('ENSG00000166816'))\n",
    "print(model.reactions.R_HMR_3859.gpr)\n",
    "print(model.reactions.R_HMR_8512.gpr)\n",
    "print(model.reactions.R_HMR_8514.gpr)"
   ]
  },
  {
   "cell_type": "code",
   "execution_count": 19,
   "metadata": {},
   "outputs": [],
   "source": [
    "gpr = GPRAssociation()\n",
    "new_genes = [str('ENSG00000182224')]\n",
    "for gene in new_genes:\n",
    "    protein = Protein()\n",
    "    protein.genes = [str(gene)]\n",
    "    gpr.proteins.append(protein)\n",
    "model.set_gpr_association('R_HMR_3859', gpr, add_genes = True)\n",
    "\n",
    "gpr = GPRAssociation()\n",
    "new_genes = [str('')]\n",
    "for gene in new_genes:\n",
    "    protein = Protein()\n",
    "    protein.genes = [str(gene)]\n",
    "    gpr.proteins.append(protein)\n",
    "model.set_gpr_association('R_HMR_8514', gpr, add_genes = True)"
   ]
  },
  {
   "cell_type": "code",
   "execution_count": 20,
   "metadata": {},
   "outputs": [
    {
     "name": "stdout",
     "output_type": "stream",
     "text": [
      "['R_HMR_4388a']\n",
      "['R_HMR_4388b']\n",
      "['R_HMR_4388a', 'R_HMR_4388b']\n",
      "['R_HMR_8512']\n"
     ]
    }
   ],
   "source": [
    "print(model.get_reactions_by_gene('ENSG00000134333'))\n",
    "print(model.get_reactions_by_gene('ENSG00000111716'))\n",
    "print(model.get_reactions_by_gene('ENSG00000166796'))\n",
    "print(model.get_reactions_by_gene('ENSG00000166816'))"
   ]
  },
  {
   "cell_type": "code",
   "execution_count": 21,
   "metadata": {},
   "outputs": [
    {
     "name": "stdout",
     "output_type": "stream",
     "text": [
      "['R_HMR_3811']\n"
     ]
    }
   ],
   "source": [
    "print(model.get_reactions_by_gene('ENSG00000130707'))"
   ]
  },
  {
   "cell_type": "markdown",
   "metadata": {},
   "source": [
    "### Correct fluxes in retinol metabolism to match physiological ratios"
   ]
  },
  {
   "cell_type": "code",
   "execution_count": 22,
   "metadata": {},
   "outputs": [
    {
     "name": "stdout",
     "output_type": "stream",
     "text": [
      "             0\n",
      "0   R_HMR_6005\n",
      "1   R_HMR_6013\n",
      "2   R_HMR_6020\n",
      "3   R_HMR_6028\n",
      "4   R_HMR_6035\n",
      "..         ...\n",
      "92  R_HMR_8711\n",
      "93  R_HMR_8712\n",
      "94  R_HMR_8713\n",
      "95  R_HMR_8717\n",
      "96  R_HMR_8721\n",
      "\n",
      "[97 rows x 1 columns]\n"
     ]
    }
   ],
   "source": [
    "retinol_reactions = pd.read_table(\"Retinol_Metabolism.txt\", header = None)\n",
    "print(retinol_reactions)"
   ]
  },
  {
   "cell_type": "code",
   "execution_count": 23,
   "metadata": {},
   "outputs": [],
   "source": [
    "for r_id in retinol_reactions.iloc[:,0]:\n",
    "    model.reactions[r_id].ub = 0.1\n",
    "    if model.reactions[r_id].lb < -0.1:\n",
    "        model.reactions[r_id].lb = -0.1"
   ]
  },
  {
   "cell_type": "markdown",
   "metadata": {},
   "source": [
    "### Optionally release cofactor redox constraints by allowing exchange with media"
   ]
  },
  {
   "cell_type": "code",
   "execution_count": 24,
   "metadata": {},
   "outputs": [],
   "source": [
    "#stoich = OrderedDict()\n",
    "#stoich['M_m02751c'] = -1.0\n",
    "#stoich['M_m02751s'] = 1.0\n",
    "#reac = CBReaction(reaction_id = 'R_HMR_m02751', name = 'R_HMR_m02751', reversible = False, stoichiometry = stoich,\n",
    "#                   lb = -1000, ub = 1000, reaction_type = 'other' )\n",
    "#model.add_reaction(reac)"
   ]
  },
  {
   "cell_type": "code",
   "execution_count": 25,
   "metadata": {},
   "outputs": [],
   "source": [
    "#stoich = OrderedDict()\n",
    "#stoich['M_m02039c'] = -1.0\n",
    "#stoich['M_m02039s'] = 1.0\n",
    "#reac = CBReaction(reaction_id = 'R_HMR_m02039', name = 'R_HMR_m02039', reversible = False, stoichiometry = stoich,\n",
    "#                   lb = -1000, ub = 1000, reaction_type = 'other' )\n",
    "#model.add_reaction(reac)"
   ]
  },
  {
   "cell_type": "markdown",
   "metadata": {},
   "source": [
    "### Transform model for more efficient modelling"
   ]
  },
  {
   "cell_type": "code",
   "execution_count": 26,
   "metadata": {},
   "outputs": [],
   "source": [
    "model_ext = gpr_transform(model, inplace=False, gene_prefix='') # create extended model beforehand (for speed)"
   ]
  },
  {
   "cell_type": "markdown",
   "metadata": {},
   "source": [
    "### Load transcriptomics data"
   ]
  },
  {
   "cell_type": "code",
   "execution_count": 27,
   "metadata": {},
   "outputs": [],
   "source": [
    "data = pd.read_csv(\"GeneExpression_FoldChanges_ResidualVsHealthy.txt\", sep=\"\\t\")"
   ]
  },
  {
   "cell_type": "code",
   "execution_count": 28,
   "metadata": {
    "scrolled": true
   },
   "outputs": [],
   "source": [
    "data = data[data[\"Ensembl_Human\"].isin(model.genes)] # remove non-metabolic genes\n",
    "filtered = data.query(\"orig_padj_bonf < 0.1\") # remove non-significant changes\n",
    "filtered2 = filtered.query(\"abs(log2FoldChange) > 1\") # remove changes with minor amplitude to minimise constraints\n",
    "rel_expr = dict(filtered2[[\"Ensembl_Human\", \"log2FoldChange\"]].values) # convert columns to dict"
   ]
  },
  {
   "cell_type": "code",
   "execution_count": 29,
   "metadata": {
    "scrolled": true
   },
   "outputs": [
    {
     "name": "stdout",
     "output_type": "stream",
     "text": [
      "Significantly changed (metabolic): 157\n"
     ]
    }
   ],
   "source": [
    "print('Significantly changed (metabolic):', len(filtered2))"
   ]
  },
  {
   "cell_type": "code",
   "execution_count": 30,
   "metadata": {},
   "outputs": [
    {
     "name": "stdout",
     "output_type": "stream",
     "text": [
      "         Ensembl_Human  log2FoldChange  orig_padj_BH  orig_padj_bonf  \\\n",
      "90     ENSG00000159399        1.604481  9.300000e-13    3.080000e-10   \n",
      "112    ENSG00000105641       -1.433300  1.660000e-11    6.710000e-09   \n",
      "193    ENSG00000166165       -1.491636  2.250000e-06    2.731947e-03   \n",
      "502    ENSG00000079435        1.380600  2.800000e-06    3.475527e-03   \n",
      "607    ENSG00000181019       -2.041335  1.220000e-34    2.510000e-33   \n",
      "...                ...             ...           ...             ...   \n",
      "14322  ENSG00000119938       -1.785180  2.860000e-10    1.400000e-07   \n",
      "14439  ENSG00000205268        1.109027  9.040000e-06    1.294291e-02   \n",
      "14981  ENSG00000128655       -2.124941  1.170000e-05    1.743109e-02   \n",
      "15203  ENSG00000156966        3.910655  8.350000e-23    6.270000e-21   \n",
      "15462  ENSG00000100197        1.660024  6.580000e-06    8.989735e-03   \n",
      "\n",
      "       re.estimated_pvalue  re.estimated_padj  \n",
      "90            1.503460e-04       8.605896e-03  \n",
      "112           3.308640e-04       1.551932e-02  \n",
      "193           9.511498e-03       1.487770e-01  \n",
      "502           1.013850e-02       1.547531e-01  \n",
      "607           2.400000e-10       2.210000e-07  \n",
      "...                    ...                ...  \n",
      "14322         7.226440e-04       2.792862e-02  \n",
      "14439         1.438592e-02       1.903961e-01  \n",
      "14981         1.557697e-02       1.982175e-01  \n",
      "15203         2.990000e-07       7.530000e-05  \n",
      "15462         1.305320e-02       1.811160e-01  \n",
      "\n",
      "[157 rows x 6 columns]\n"
     ]
    }
   ],
   "source": [
    "print(filtered2)"
   ]
  },
  {
   "cell_type": "markdown",
   "metadata": {},
   "source": [
    "### Run MARGE"
   ]
  },
  {
   "cell_type": "code",
   "execution_count": 31,
   "metadata": {},
   "outputs": [],
   "source": [
    "marge?"
   ]
  },
  {
   "cell_type": "markdown",
   "metadata": {},
   "source": [
    "### Final Modelling Parameters (50% margin for relative constrains)"
   ]
  },
  {
   "cell_type": "code",
   "execution_count": 32,
   "metadata": {},
   "outputs": [],
   "source": [
    "v1, v2, sol1, sol2 = marge(model_ext, rel_expr, transformed=True, gene_prefix='',\n",
    "                     growth_frac_a=0.8, growth_frac_b=0.8, activation_frac=0.001, step2_tol=0.1,\n",
    "                     \n",
    "       rel_constraints = {\"R_HMR_9034\": (3.9, 16.0), \"R_HMR_9069\": (1.2, 74.9), \"R_HMR_9063\": (1.2, 21.9),\n",
    "                          \"R_HMR_9070\": (1.9, 5.8), \"R_HMR_9438\": (3.6, 1.2), \"R_HMR_9135\": (5.2, 1.7), \n",
    "                          \"R_HMR_9087\": (4.1, 1.4),\n",
    "                          \n",
    "                          \"R_HMR_9046\": (1.0, 2.4), \"R_HMR_9068\": (5.7, 1.0), \"R_HMR_9040\": (1.0, 2.6),\n",
    "                          \"R_HMR_9039\": (1.0, 2.8), \"R_HMR_9043\": (1.0, 2.1), \"R_HMR_9067\": (2.8, 1.0),\n",
    "                          \n",
    "                          \"R_HMR_9361\": (1.0, 2.8), \"R_HMR_9064\": (1.0, 2.4), \"R_HMR_9042\": (1.0, 2.5)},                              \n",
    "                                    \n",
    "       constraints_a = {\"R_HMR_9034\": (0.1, 8.62), \"R_HMR_9069\": (0.01, 0.34),\"R_HMR_9063\": (0.1, 3.04),\n",
    "                        \"R_HMR_9070\": (0.01, 0.086),\"R_m02812a\": (0.01, 0.1), \"R_HMR_9438\": (-1000, -0.01),\n",
    "                        \"R_HMR_9135\": (-1000, -0.32), \"R_HMR_9087\": (-1000, -0.01),\n",
    "                 \n",
    "                        \"R_HMR_9046\": (0.01, 0.16), \"R_HMR_9068\": (-1000, -0.01), \"R_HMR_9040\": (0.01, 0.26),\n",
    "                        \"R_HMR_9039\": (0.01, 0.22), \"R_HMR_9043\": (0.01, 0.073), \"R_HMR_9067\": (-1000, -0.01),\n",
    "                        \"R_HMR_9071\": (-1000, 0.01), \"R_HMR_9085\": (0.001, 0.0036),\n",
    "                  \n",
    "                        \"R_HMR_9361\": (0.01, 0.1), \"R_HMR_9044\": (0, 0.01), \"R_HMR_9064\": (0.01, 0.11),\n",
    "                        \"R_HMR_9045\": (0, 0.035), \"R_HMR_9042\": (0.01, 0.070)},\n",
    "                           \n",
    "       constraints_b = {\"R_HMR_9034\": (0.1, 8.62), \"R_HMR_9069\": (0.01, 0.34),\"R_HMR_9063\": (0.1, 3.04),\n",
    "                        \"R_HMR_9070\": (0.01, 0.086), \"R_m02812a\": (-0.01, 0.01), \"R_HMR_9438\": (-1000, -0.01),\n",
    "                        \"R_HMR_9135\": (-1000, -0.32), \"R_HMR_9087\": (-1000, -0.01),\n",
    "                 \n",
    "                        \"R_HMR_9046\": (0.01, 0.16), \"R_HMR_9068\": (-1000, -0.01), \"R_HMR_9040\": (0.01, 0.26),\n",
    "                        \"R_HMR_9039\": (0.01, 0.22), \"R_HMR_9043\": (0.01, 0.073), \"R_HMR_9067\": (-1000, -0.01),\n",
    "                        \"R_HMR_9071\": (0.01, 0.038), \"R_HMR_9085\": (-0.001, 0.001),\n",
    "                 \n",
    "                        \"R_HMR_9361\": (0.01, 0.1), \"R_HMR_9044\": (0.01, 0.12), \"R_HMR_9064\": (0.01, 0.11),\n",
    "                        \"R_HMR_9045\": (0, 0.035), \"R_HMR_9042\": (0.01, 0.070)})\n",
    "\n",
    "    #R_HMR_4873 # NH3 secretion\n",
    "    #R_HMR_9802 #H2O[c] + glutamine[c] => NH3[c] + glutamate[c]\n",
    "    #R_HMR_3825 #H+[c] + aspartate[m] + glutamate[c] => H+[m] + aspartate[c] + glutamate[m]\n",
    "    #R_HMR_3903 #ATP[c] + H2O[c] + aspartate[c] + glutamine[c] => AMP[c] + PPi[c] + asparagine[c] + glutamate[c]\n",
    "    #R_HMR_5297 #AKG[m] + CoA[m] + NAD+[m] => CO2[m] + H+[m] + NADH[m] + succinyl-CoA[m]\n",
    "    #R_HMR_3809 #Carbamoul urea cycle\n",
    "    #R_HMR_4652 Fum/suc oxphos\n",
    "    #R_HMR_6918, R_HMR_6914, R_HMR_6921 Oxphos\n",
    "    #R_HMR_4152, R_HMR_4147, R_HMR_4851 succ generation\n",
    "#R_HMR_9034 = glucose       \n",
    "#R_HMR_9069 = serine\n",
    "#R_HMR_9063 = glutamine\n",
    "#R_HMR_9046 = valine\n",
    "#R_HMR_9068 = proline\n",
    "#R_HMR_9070 = aspartate\n",
    "#R_HMR_9040 = leucine\n",
    "#R_HMR_9361 = inositol\n",
    "#R_HMR_9039 = isoleucine\n",
    "#R_HMR_9043 = phenylalanine\n",
    "#R_HMR_9067 = glycine?\n",
    "  #R_HMR_9044 = threonine --> No relative constraint because of change from production to consumption\n",
    "  #R_HMR_9071 = glutamate --> No relative constraint because of change from production to consumption\n",
    "#R_HMR_9064 = tyrosine\n",
    "  #R_m02812a = putrescine --> No relative constraint because of change from consumption to no consumption/production\n",
    "#R_HMR_9438 = urea\n",
    "  #R_HMR_9045 = tryptohophan --> No constraints because it cant be produced as suggested from the data\n",
    "#R_HMR_9042 = methionine\n",
    "#R_HMR_9135 = lactate\n",
    "#R_HMR_9087 = ornithine\n",
    "  #R_HMR_9085 = glycerol --> No relative constraint because of change from consumption to no production\n",
    "  #(R_HMR_9062 = asparagine) --> Not included because of pvalue cut off and non clear data signal"
   ]
  },
  {
   "cell_type": "markdown",
   "metadata": {},
   "source": [
    "### Inspect MARGE modeling results"
   ]
  },
  {
   "cell_type": "code",
   "execution_count": 33,
   "metadata": {},
   "outputs": [
    {
     "name": "stdout",
     "output_type": "stream",
     "text": [
      "-inf\n",
      "inf\n",
      "v1: 2.156566745740781\n",
      "v2: 2.156566745740781\n"
     ]
    }
   ],
   "source": [
    "r_id = 'growth'\n",
    "print(model.reactions.R_HMR_9063.lb)\n",
    "print(model.reactions.R_HMR_9063.ub)\n",
    "print(\"v1:\", v1[r_id])\n",
    "print(\"v2:\", v2[r_id])"
   ]
  },
  {
   "cell_type": "code",
   "execution_count": 34,
   "metadata": {},
   "outputs": [],
   "source": [
    "compare_fluxes?"
   ]
  },
  {
   "cell_type": "code",
   "execution_count": 35,
   "metadata": {
    "scrolled": false
   },
   "outputs": [
    {
     "name": "stdout",
     "output_type": "stream",
     "text": [
      "R_HMR_5043        3.29       0.261    \n",
      "R_HMR_7638        1          3.58     \n",
      "R_HMR_9034        0.775      3.02     \n",
      "R_HMR_5029       -0.775     -3.02     \n",
      "R_HMR_4381       -0.206     -2.38     \n",
      "R_HMR_4365       -0.45      -2.26     \n",
      "R_HMR_4373       -0.45      -2.26     \n",
      "R_HMR_4368        0.425      2.24     \n",
      "R_HMR_6328        3.14       1.35     \n",
      "R_HMR_4888       -4.77      -3.01     \n",
      "R_HMR_4363        0.627      2.26     \n",
      "R_HMR_4350        0          1.45     \n",
      "R_HMR_4958        0          1.39     \n",
      "R_HMR_9406        0         -1.39     \n",
      "R_HMR_4388a       2.7        4.06     \n",
      "R_HMR_3956        0          1.29     \n",
      "R_HMR_9415        0.0014    -1.28     \n",
      "R_m02943          0.0014    -1.28     \n",
      "R_HMR_4375       -0.144     -1.35     \n",
      "R_HMR_4421        0          1.19     \n",
      "R_HMR_4487        0          1.19     \n",
      "R_HMR_6916        2.97       1.82     \n",
      "R_HMR_4391        0.282      1.41     \n",
      "R_HMR_4652       -1.12       0        \n",
      "R_HMR_4143        0.206      1.28     \n",
      "R_HMR_4394        0.777      1.83     \n",
      "R_HMR_4410        1.12       0.083    \n",
      "R_HMR_4852        0.996      0        \n",
      "R_HMR_4352       -0.0569    -1.05     \n",
      "R_HMR_6918        1.27       0.293    \n",
      "R_HMR_4379        0.144      1.12     \n",
      "R_HMR_4477        0.0569     0.994    \n",
      "R_HMR_4851        0          0.935    \n",
      "R_HMR_4141        0.126      1.05     \n",
      "R_HMR_4922       -0.904      0.0144   \n",
      "R_HMR_4865        0.248      1.13     \n",
      "R_HMR_4280        0.757      0        \n",
      "R_HMR_5411       -0.757      0        \n",
      "R_HMR_4919        0.716      0        \n",
      "R_HMR_9058        0.716      0        \n",
      "R_HMR_0155       -0.347     -1        \n",
      "R_HMR_4926        0.718      1.24     \n",
      "R_HMR_4404       -0.0285    -0.497    \n",
      "R_HMR_4501       -0.0285    -0.497    \n",
      "R_HMR_4565       -0.0285    -0.497    \n",
      "R_HMR_6027        0          0.456    \n",
      "R_HMR_9063        2.19       2.63     \n",
      "R_HMR_5078       -2.02      -2.44     \n",
      "R_HMR_3911        0.00216    0.404    \n",
      "R_HMR_8514        2.17       2.57     \n",
      "R_HMR_4210        0.615      0.97     \n",
      "R_HMR_4898        1.8        1.45     \n",
      "R_HMR_5510        0          0.34     \n",
      "R_HMR_9079       -0.231      0.104    \n",
      "R_HMR_4152        0.647      0.975    \n",
      "R_HMR_9073       -1.95      -2.27     \n",
      "R_HMR_9047        0.183     -0.119    \n",
      "R_HMR_5441       -0.058     -0.346    \n",
      "R_HMR_6914        1.72       1.43     \n",
      "R_HMR_9259       -0.249     -0.536    \n",
      "R_HMR_5079        0.283      0        \n",
      "R_HMR_4862        0          0.258    \n",
      "R_HMR_9802        1.59       1.84     \n",
      "R_HMR_3899       -0.183     -0.44     \n",
      "R_HMR_4873        1.94       2.19     \n",
      "R_HMR_8408       -0.01       0.239    \n",
      "R_HMR_9354        0         -0.239    \n",
      "R_HMR_4301        0          0.238    \n",
      "R_HMR_5297        1.04       1.27     \n",
      "R_HMR_3827        0         -0.237    \n",
      "R_HMR_6048        0.32       0.544    \n",
      "R_HMR_9135       -0.32      -0.544    \n",
      "R_HMR_8750       -0.214      0        \n",
      "R_HMR_8751        0.214      0        \n",
      "R_HMR_9061        0.027     -0.182    \n",
      "R_HMR_8759        0          0.201    \n",
      "R_HMR_3829       -1.33      -1.13     \n",
      "R_HMR_4139       -1.33      -1.13     \n",
      "R_HMR_5473        0          0.182    \n",
      "R_HMR_6380        0.179      0        \n",
      "R_HMR_8781        0.177      0        \n",
      "R_HMR_8782        0.177      0        \n",
      "R_HMR_5390        0          0.169    \n",
      "R_HMR_8607        0          0.169    \n",
      "R_HMR_8698       -0.0652     0.0978   \n",
      "R_HMR_6675       -0.163      0        \n",
      "R_HMR_6672        0.0626    -0.1      \n",
      "R_HMR_6661       -0.063      0.0994   \n",
      "R_HMR_3825        0.238      0.398    \n",
      "R_HMR_6921        0.0437     0.193    \n",
      "R_HMR_6023        0.149      0        \n",
      "R_HMR_4885       -0.147      0        \n",
      "R_HMR_8861        0          0.146    \n",
      "R_HMR_4198        0.173      0.0321   \n",
      "R_HMR_4890       -0.0851     0.048    \n",
      "R_HMR_4596       -0.131      0        \n",
      "R_HMR_8022        0.13       0        \n",
      "R_HMR_3947        0.0946    -0.032    \n",
      "R_HMR_4788        0.164      0.0394   \n",
      "R_HMR_5113        0.164      0.0394   \n",
      "R_HMR_5124       -0.164     -0.0394   \n",
      "R_HMR_4949        0.122      0        \n",
      "R_HMR_7896        0          0.115    \n",
      "R_HMR_9084        0         -0.115    \n",
      "R_HMR_4006       -0.106      0        \n",
      "R_HMR_0627        0.0224     0.126    \n",
      "R_HMR_5091        0.01       0.111    \n",
      "R_HMR_9044        0.01       0.111    \n",
      "R_HMR_0731        0.0998     0        \n",
      "R_HMR_8241       -0.0998     0        \n",
      "R_HMR_8242        0          0.0993   \n",
      "R_HMR_8243        0         -0.0993   \n",
      "R_HMR_5990        0.149      0.05     \n",
      "R_HMR_3895        0.155      0.0567   \n",
      "R_HMR_3897        0.155      0.0567   \n",
      "R_HMR_4874       -0.159     -0.257    \n",
      "R_HMR_3804        0         -0.0982   \n",
      "R_HMR_0795        0.0958     0        \n",
      "R_HMR_4237        0.094      0        \n",
      "R_HMR_4597        0.094      0        \n",
      "R_HMR_4147       -0.391     -0.299    \n",
      "R_HMR_6529        0.0911     0        \n",
      "R_HMR_5070       -0.113     -0.0225   \n",
      "R_HMR_8144       -0.0158    -0.106    \n",
      "R_HMR_3845        0.0283     0.119    \n",
      "R_HMR_3929       -0.0907     0        \n",
      "R_HMR_4437        0.0907     0        \n",
      "R_HMR_4658       -0.0907     0        \n",
      "R_HMR_4660        0.0907     0        \n",
      "R_HMR_4712        0.0907     0        \n",
      "R_HMR_9038        0.153      0.062    \n",
      "R_HMR_0622        0          0.0901   \n",
      "R_HMR_4843        0.38       0.292    \n",
      "R_HMR_4193        0.00902    0.0951   \n",
      "R_HMR_4590        0.0843     0        \n",
      "R_HMR_4593        0.0843     0        \n",
      "R_HMR_8772        0.0843     0        \n",
      "R_HMR_8773        0.0843     0        \n",
      "R_HMR_8342        0          0.0842   \n",
      "R_HMR_8343        0          0.0842   \n",
      "R_HMR_9241        0         -0.0842   \n",
      "R_HMR_4854        0          0.083    \n",
      "R_HMR_4408        0.083      0        \n",
      "R_HMR_8925        0          0.079    \n",
      "R_HMR_5430        0.157      0.079    \n",
      "R_HMR_5989        0.0744     0.152    \n",
      "R_HMR_6370        0.0744     0.152    \n",
      "R_HMR_3820       -0.129     -0.0507   \n",
      "R_HMR_3837        0.129      0.0507   \n",
      "R_HMR_4785        0.0799     0.00195  \n",
      "R_HMR_4787        0.0799     0.00195  \n",
      "R_HMR_8098        0.0799     0.00195  \n",
      "R_HMR_4777        0.0799     0.00195  \n",
      "R_HMR_4781        0.0758     0        \n",
      "R_HMR_0454        0.065      0        \n",
      "R_m01981          0.065      0        \n",
      "R_zk1             0.065      0        \n",
      "R_HMR_4900       -0.032      0.032    \n",
      "R_HMR_4892        0.0496     0.113    \n",
      "R_HMR_3984        0.0626     0        \n",
      "R_HMR_7863        0         -0.0622   \n",
      "R_HMR_4841        0          0.0608   \n",
      "R_HMR_5002        0          0.0608   \n",
      "R_HMR_9401        0         -0.0608   \n",
      "R_HMR_9161        0.058      0        \n",
      "R_HMR_9486        0.058      0        \n",
      "R_HMR_9718        0.058      0        \n",
      "R_HMR_4306        0         -0.0568   \n",
      "R_HMR_4474        0          0.0568   \n",
      "R_HMR_4625        0          0.0568   \n",
      "R_HMR_9069        0.283      0.34     \n",
      "R_HMR_4948        0.0119     0.0686   \n",
      "R_HMR_9242       -0.0119    -0.0686   \n",
      "R_HMR_4297        0.0248     0.0779   \n",
      "R_HMR_4706        0.0248     0.0779   \n",
      "R_HMR_5295        0.0745     0.025    \n",
      "R_HMR_7703        0.0843     0.0375   \n",
      "R_HMR_7708        0.0843     0.0375   \n",
      "R_HMR_8775        0.0843     0.0375   \n",
      "R_HMR_0689        0.00591    0.0504   \n",
      "R_HMR_4284        0.024      0.0669   \n",
      "R_HMR_0926        0.0462     0.00416  \n",
      "R_HMR_9070        0.0453     0.086    \n",
      "R_HMR_8202        0.0406     0        \n",
      "R_HMR_0769       -0.0448    -0.00416  \n",
      "R_HMR_0786        0.0448     0.00416  \n",
      "R_HMR_8774        0          0.0375   \n",
      "R_HMR_7867       -0.0371     0        \n",
      "R_m00670         -0.0366     0        \n",
      "R_zk33           -0.0366     0        \n",
      "R_HMR_9041        0.0565     0.02     \n",
      "R_HMR_4288        0.0365     0        \n",
      "R_HMR_4668        0.0365     0        \n",
      "R_HMR_4765        0         -0.035    \n",
      "R_HMR_5004        0          0.035    \n",
      "R_HMR_6387        0         -0.035    \n",
      "R_HMR_5328        0.139      0.172    \n",
      "R_HMR_4224        0.0333     0        \n",
      "R_m01342         -0.0333     0        \n",
      "R_zk3            -0.0333     0        \n",
      "R_HMR_7764       -1.99      -1.95     \n",
      "R_HMR_9318       -0.033      0        \n",
      "R_HMR_4214        0.033      3.3e-05  \n",
      "R_HMR_4216        0.033      3.3e-05  \n",
      "R_HMR_5080       -0.035     -0.00207  \n",
      "R_HMR_9045        0.035      0.00207  \n",
      "R_HMR_5071        0.0322     0        \n",
      "R_HMR_3944        0.602      0.634    \n",
      "R_HMR_4130        0.0614     0.0306   \n",
      "R_HMR_8767        0.0614     0.0306   \n",
      "R_HMR_8765        0.0613     0.0306   \n",
      "R_HMR_3967       -0.029      0        \n",
      "R_HMR_7800       -0.274     -0.245    \n",
      "R_HMR_4887        0.0807     0.0533   \n",
      "R_HMR_4738       -0.0299    -0.00257  \n",
      "R_SYL6            0.0299     0.00257  \n",
      "R_HMR_6034        0.027      0        \n",
      "R_HMR_5077        0.027      0        \n",
      "R_HMR_6028        0.1        0.0733   \n",
      "R_HMR_6035        0          0.0267   \n",
      "R_HMR_6302        0.0263     0        \n",
      "R_HMR_8465        0         -0.0263   \n",
      "R_HMR_0690        0.0255     0        \n",
      "R_HMR_0688        0.0294     0.00423  \n",
      "R_HMR_5347       -0.025      0        \n",
      "R_HMR_6388        0.025      0        \n",
      "R_HMR_4270        0          0.0249   \n",
      "R_HMR_4269        0.00216    0.0271   \n",
      "R_HMR_0802        0.0124    -0.0125   \n",
      "R_HMR_8203       -0.0124     0.0125   \n",
      "R_HMR_6506        0.027      0.00216  \n",
      "R_HMR_6507        0.0248     0        \n",
      "R_HMR_9066       -0.0143     0.01     \n",
      "R_HMR_3816        0.122      0.146    \n",
      "R_HMR_9438       -0.122     -0.146    \n",
      "R_HMR_4014        0.0248     0.0486   \n",
      "R_HMR_8086        0.0372     0.0138   \n",
      "R_HMR_8087        0.0372     0.0138   \n",
      "R_HMR_9665        0.0372     0.0138   \n",
      "R_HMR_0643        0.00274    0.025    \n",
      "R_HMR_0645        0.00274    0.025    \n",
      "R_HMR_0646        0.00274    0.025    \n",
      "R_HMR_3807       -0.0263    -0.006    \n",
      "R_HMR_4396       -0.581     -0.601    \n"
     ]
    }
   ],
   "source": [
    "compare_fluxes(v1, v2, sort=True, pattern='R_', tolerance=0.019)"
   ]
  },
  {
   "cell_type": "markdown",
   "metadata": {},
   "source": [
    "### Retrieve reaction equations from changed reactions"
   ]
  },
  {
   "cell_type": "code",
   "execution_count": 36,
   "metadata": {},
   "outputs": [],
   "source": [
    "flux_changes = pd.read_table(\"SavedFluxChanges_RetrievedFrom-Compare_Fluxes.txt\", header = None)"
   ]
  },
  {
   "cell_type": "code",
   "execution_count": 37,
   "metadata": {},
   "outputs": [],
   "source": [
    "df = pd.read_table(\"HMR2_FbaOpt_MetaboliteIDTranslation.txt\", index_col=1)"
   ]
  },
  {
   "cell_type": "code",
   "execution_count": 38,
   "metadata": {},
   "outputs": [],
   "source": [
    "for m_id, met in model.metabolites.items():\n",
    "    if m_id[2:] in df.index:\n",
    "        met.name = df.loc[m_id[2:], 'METID']"
   ]
  },
  {
   "cell_type": "code",
   "execution_count": 39,
   "metadata": {},
   "outputs": [
    {
     "name": "stdout",
     "output_type": "stream",
     "text": [
      "R_HMR_5043: H+[c] + Pi[c] <-> H+[m] + Pi[m]\n",
      "R_HMR_7638: H+[c] --> H+[m]\n",
      "R_HMR_9034: glucose[x] <-> glucose[s]\n",
      "R_HMR_5029: glucose[c] <-> glucose[s]\n",
      "R_HMR_4381: fructose-6-phosphate[c] <-> glucose-6-phosphate[c]\n",
      "R_HMR_4365: 2-phospho-D-glycerate[c] <-> 3-phospho-D-glycerate[c]\n",
      "R_HMR_4373: 1,3-bisphospho-D-glycerate[c] + H+[c] + NADH[c] <-> GAP[c] + NAD+[c] + Pi[c]\n",
      "R_HMR_4368: 1,3-bisphospho-D-glycerate[c] + ADP[c] <-> 3-phospho-D-glycerate[c] + ATP[c]\n",
      "R_HMR_6328: ADP[c] + ATP[m] <-> ADP[m] + ATP[c]\n",
      "R_HMR_4888: H2O[c] <-> H2O[m]\n",
      "R_HMR_4363: 2-phospho-D-glycerate[c] <-> H2O[c] + PEP[c]\n",
      "R_HMR_4350: ADP[c] + ribose-5-phosphate[c] <-> ATP[c] + ribose[c]\n",
      "R_HMR_4958: ribose[c] <-> ribose[s]\n",
      "R_HMR_9406: ribose[x] <-> ribose[s]\n",
      "R_HMR_4388a: H+[c] + NADH[c] + pyruvate[c] --> L-lactate[c] + NAD+[c] [0, 1000]\n",
      "R_HMR_3956: CO2[m] + H2O[m] --> H+[m] + HCO3-[m]\n",
      "R_HMR_9415: succinate[x] <-> succinate[s]\n",
      "R_m02943: succinate[s] <-> succinate[c]\n",
      "R_HMR_4375: DHAP[c] + GAP[c] <-> fructose-1,6-bisphosphate[c]\n",
      "R_HMR_4421: dADP[c] + PEP[c] --> dATP[c] + pyruvate[c]\n",
      "R_HMR_4487: dATP[c] + glucose[c] --> dADP[c] + glucose-6-phosphate[c]\n",
      "R_HMR_6916: ADP[m] + 4.0 H+[i] + Pi[m] --> ATP[m] + 4.0 H+[m] + H2O[m]\n",
      "R_HMR_4391: DHAP[c] <-> GAP[c]\n",
      "R_HMR_4652: fumarate[m] + ubiquinol[m] <-> succinate[m] + ubiquinone[m]\n",
      "R_HMR_4143: ATP[m] + H+[m] + HCO3-[m] + pyruvate[m] --> ADP[m] + OAA[m] + Pi[m]\n",
      "R_HMR_4394: ATP[c] + glucose[c] --> ADP[c] + glucose-6-phosphate[c]\n",
      "R_HMR_4410: fumarate[m] + H2O[m] <-> malate[m]\n",
      "R_HMR_4852: AKG[c] + malate[m] <-> AKG[m] + malate[c]\n",
      "R_HMR_4352: ribose-5-phosphate[c] <-> ribulose-5-phosphate[c]\n",
      "R_HMR_6918: 2.0 ferricytochrome C[m] + 2.0 H+[m] + ubiquinol[m] --> 2.0 ferrocytochrome C[m] + 4.0 H+[i] + ubiquinone[m]\n",
      "R_HMR_4379: ATP[c] + fructose-6-phosphate[c] --> ADP[c] + fructose-1,6-bisphosphate[c]\n",
      "R_HMR_4477: D-xylulose-5-phosphate[c] <-> ribulose-5-phosphate[c]\n",
      "R_HMR_4851: AKG[c] + succinate[m] <-> AKG[m] + succinate[c]\n",
      "R_HMR_4141: H+[m] + NADH[m] + OAA[m] <-> malate[m] + NAD+[m]\n",
      "R_HMR_4922: CO2[c] <-> CO2[m]\n",
      "R_HMR_4865: malate[m] + Pi[c] <-> malate[c] + Pi[m]\n",
      "R_HMR_4280: H+[m] + NADH[m] + pyruvate[m] <-> L-lactate[m] + NAD+[m]\n",
      "R_HMR_5411: H+[c] + L-lactate[c] <-> H+[m] + L-lactate[m]\n",
      "R_HMR_4919: CO2[c] <-> CO2[s]\n",
      "R_HMR_9058: CO2[s] --> CO2[x]\n",
      "R_HMR_0155: butyrate[s] <-> butyrate[c]\n",
      "R_HMR_4926: H+[c] + pyruvate[c] --> H+[m] + pyruvate[m]\n",
      "R_HMR_4404: D-xylulose-5-phosphate[c] + erythrose-4-phosphate[c] <-> fructose-6-phosphate[c] + GAP[c]\n",
      "R_HMR_4501: D-xylulose-5-phosphate[c] + ribose-5-phosphate[c] <-> GAP[c] + sedoheptulose-7-phosphate[c]\n",
      "R_HMR_4565: GAP[c] + sedoheptulose-7-phosphate[c] <-> erythrose-4-phosphate[c] + fructose-6-phosphate[c]\n",
      "R_HMR_6027: AKG[c] + butyrate[s] <-> AKG[s] + butyrate[c]\n",
      "R_HMR_9063: glutamine[x] <-> glutamine[s]\n",
      "R_HMR_5078: glutamine[c] <-> glutamine[s]\n",
      "R_HMR_3911: H+[c] + NADH[c] + taurine[c] <-> H2O[c] + hypotaurine[c] + NAD+[c]\n",
      "R_HMR_8514: 2.0 ferricytochrome C[m] + L-lactate[c] --> 2.0 ferrocytochrome C[m] + 2.0 H+[c] + pyruvate[c]\n",
      "R_HMR_4210: PEP[c] + UDP[c] --> pyruvate[c] + UTP[c]\n",
      "R_HMR_4898: O2[c] <-> O2[m]\n",
      "R_HMR_5510: homoserine[c] + serine[s] <-> homoserine[s] + serine[c]\n",
      "R_HMR_9079: H+[x] <-> H+[s]\n",
      "R_HMR_4152: ADP[m] + Pi[m] + succinyl-CoA[m] <-> ATP[m] + CoA[m] + succinate[m]\n",
      "R_HMR_9073: NH3[x] <-> NH3[s]\n",
      "R_HMR_9047: H2O[x] <-> H2O[s]\n",
      "R_HMR_5441: homoserine[c] <-> homoserine[s]\n",
      "R_HMR_6914: 4.0 ferrocytochrome C[m] + 8.0 H+[m] + O2[m] --> 4.0 ferricytochrome C[m] + 4.0 H+[i] + 2.0 H2O[m]\n",
      "R_HMR_9259: AKG[x] <-> AKG[s]\n",
      "R_HMR_5079: serine[s] --> serine[c]\n",
      "R_HMR_4862: Pi[c] + succinate[m] <-> Pi[m] + succinate[c]\n",
      "R_HMR_9802: glutamine[c] + H2O[c] --> glutamate[c] + NH3[c]\n",
      "R_HMR_3899: AKG[c] + alanine[c] <-> glutamate[c] + pyruvate[c]\n",
      "R_HMR_4873: NH3[c] <-> NH3[s]\n",
      "R_HMR_8408: H2O2[c] <-> H2O2[s]\n",
      "R_HMR_9354: H2O2[x] <-> H2O2[s]\n",
      "R_HMR_4301: fructose-6-phosphate[c] + UTP[c] --> fructose-1,6-bisphosphate[c] + UDP[c]\n",
      "R_HMR_5297: AKG[m] + CoA[m] + NAD+[m] --> CO2[m] + H+[m] + NADH[m] + succinyl-CoA[m]\n",
      "R_HMR_3827: AKG[m] + aspartate[m] <-> glutamate[m] + OAA[m]\n",
      "R_HMR_6048: butyrate[s] + L-lactate[c] <-> butyrate[c] + L-lactate[s]\n",
      "R_HMR_9135: L-lactate[x] <-> L-lactate[s]\n",
      "R_HMR_8750: H+[m] + HCO3-[m] <-> carbonate[m]\n",
      "R_HMR_8751: CO2[m] + H2O[m] <-> carbonate[m]\n",
      "R_HMR_9061: alanine[x] <-> alanine[s]\n",
      "R_HMR_8759: 2.0 hypotaurine[c] + O2[c] --> 2.0 taurine[c]\n",
      "R_HMR_3829: AKG[c] + aspartate[c] <-> glutamate[c] + OAA[c]\n",
      "R_HMR_4139: H+[c] + NADH[c] + OAA[c] <-> malate[c] + NAD+[c]\n",
      "R_HMR_5473: alanine[c] + glutamine[s] <-> alanine[s] + glutamine[c]\n",
      "R_HMR_6380: glutamine[s] + H+[c] + Na+[s] --> glutamine[c] + H+[s] + Na+[c]\n",
      "R_HMR_8781: ATP[c] + glycerate[c] --> 2-phospho-D-glycerate[c] + ADP[c]\n",
      "R_HMR_8782: H+[c] + hydroxypyruvate[c] + NADH[c] --> glycerate[c] + NAD+[c]\n",
      "R_HMR_5390: H2O[c] + methionine[c] + O2[c] --> 4-methylthio-2-oxobutanoic acid[c] + H2O2[c] + NH3[c]\n",
      "R_HMR_8607: 4-methylthio-2-oxobutanoic acid[c] + glutamine[c] + 2.0 H+[c] --> glutamate[c] + methionine[c]\n",
      "R_HMR_8698: H+[c] + NADPH[c] + retinoate[c] <-> H2O[c] + NADP+[c] + retinal[c] [-0.1, 0.1]\n",
      "R_HMR_6675: 13-cis-retinal[c] + H2O[c] + NAD+[c] <-> 13-cis-retinoate[c] + H+[c] + NADH[c] [-0.1, 0.1]\n",
      "R_HMR_6672: 13-cis-retinal[c] <-> retinal[c] [-0.1, 0.1]\n",
      "R_HMR_6661: 13-cis-retinoate[c] <-> retinoate[c] [-0.1, 0.1]\n",
      "R_HMR_3825: aspartate[m] + glutamate[c] + H+[i] --> aspartate[c] + glutamate[m] + H+[m]\n",
      "R_HMR_6921: 5.0 H+[m] + NADH[m] + ubiquinone[m] --> 4.0 H+[i] + NAD+[m] + ubiquinol[m]\n",
      "R_HMR_6023: AKG[c] + formate[s] <-> AKG[s] + formate[c]\n",
      "R_HMR_4885: H2O[c] <-> H2O[s]\n",
      "R_HMR_8861: H2O[c] + urea[c] <-> H2O[s] + urea[s]\n",
      "R_HMR_4198: pyruvate[c] + serine[c] --> alanine[c] + hydroxypyruvate[c]\n",
      "R_HMR_4890: H2O[c] <-> H2O[p]\n",
      "R_HMR_4596: 2-oxoadipate[c] + glutamate[c] <-> AKG[c] + L-2-aminoadipate[c]\n",
      "R_HMR_8022: AKG[c] + L-2-aminoadipate[m] <-> AKG[m] + L-2-aminoadipate[c]\n",
      "R_HMR_3947: H2O2[c] <-> H2O2[p]\n",
      "R_HMR_4788: alanine[m] + glyoxalate[m] --> glycine[m] + pyruvate[m]\n",
      "R_HMR_5113: alanine[c] --> alanine[m]\n",
      "R_HMR_5124: glycine[c] <-> glycine[m]\n",
      "R_HMR_4949: urea[c] <-> urea[s]\n",
      "R_HMR_7896: ethanolamine[c] <-> ethanolamine[s]\n",
      "R_HMR_9084: ethanolamine[x] <-> ethanolamine[s]\n",
      "R_HMR_4006: ADP[c] + UTP[c] <-> ATP[c] + UDP[c]\n",
      "R_HMR_0627: PS-LD pool[c] --> CO2[c] + PE-LD pool[c]\n",
      "R_HMR_5091: threonine[s] --> threonine[c]\n",
      "R_HMR_9044: threonine[x] --> threonine[s]\n",
      "R_HMR_0731: ceramide pool[c] --> ceramide pool[g]\n",
      "R_HMR_8241: SM pool[c] <-> SM pool[g]\n",
      "R_HMR_8242: H2O[g] + SM pool[g] --> ceramide pool[g] + phosphocholine[g]\n",
      "R_HMR_8243: phosphocholine[c] <-> phosphocholine[g]\n",
      "R_HMR_5990: chloride[c] + K+[c] --> chloride[s] + K+[s]\n",
      "R_HMR_3895: ATP[m] + glutamate[m] --> ADP[m] + glutamyl-5-phosphate[m]\n",
      "R_HMR_3897: glutamyl-5-phosphate[m] + H+[m] + NADPH[m] --> L-glutamate 5-semialdehyde[m] + NADP+[m] + Pi[m]\n",
      "R_HMR_4874: NH3[c] <-> NH3[m]\n",
      "R_HMR_3804: AKG[m] + H+[m] + NADPH[m] + NH3[m] <-> glutamate[m] + H2O[m] + NADP+[m] [-inf, 0.0]\n",
      "R_HMR_0795: H2O[c] + SM pool[c] --> ceramide pool[c] + phosphocholine[c]\n",
      "R_HMR_4237: 2-oxoadipate[c] + AKG[m] <-> 2-oxoadipate[m] + AKG[c]\n",
      "R_HMR_4597: 2-oxoadipate[m] + glutamate[m] <-> AKG[m] + L-2-aminoadipate[m]\n",
      "R_HMR_4147: CoA[m] + GTP[m] + succinate[m] <-> GDP[m] + Pi[m] + succinyl-CoA[m]\n",
      "R_HMR_6529: chloride[s] + 2.0 formate[c] --> chloride[c] + 2.0 formate[s]\n",
      "R_HMR_5070: histidine[c] <-> histidine[s]\n",
      "R_HMR_8144: 5,10-methenyl-THF[c] + NADH[c] <-> 5,10-methylene-THF[c] + NAD+[c]\n",
      "R_HMR_3845: serine[c] + THF[c] <-> 5,10-methylene-THF[c] + glycine[c] + H2O[c]\n",
      "R_HMR_3929: 5,10-methenyl-THF[c] + NH3[c] <-> 5-formiminotetrahydrofolate[c] + H+[c]\n",
      "R_HMR_4437: histidine[c] --> NH3[c] + urocanate[c]\n",
      "R_HMR_4658: 5-formiminotetrahydrofolate[c] + glutamate[c] <-> N-formimino-L-glutamate[c] + THF[c]\n",
      "R_HMR_4660: 4-imidazolone-5-propanoate[c] + H2O[c] --> N-formimino-L-glutamate[c]\n",
      "R_HMR_4712: H2O[c] + urocanate[c] --> 4-imidazolone-5-propanoate[c]\n",
      "R_HMR_9038: histidine[x] --> histidine[s]\n",
      "R_HMR_0622: PE-LD pool[c] + serine[c] --> ethanolamine[c] + PS-LD pool[c]\n",
      "R_HMR_4843: GDP[c] + GTP[m] <-> GDP[m] + GTP[c]\n",
      "R_HMR_4193: CDP[c] + PEP[c] --> CTP[c] + pyruvate[c]\n",
      "R_HMR_4590: H+[c] + L-xylulose[c] + NADPH[c] --> NADP+[c] + xylitol[c]\n",
      "R_HMR_4593: NAD+[c] + xylitol[c] --> D-xylulose[c] + H+[c] + NADH[c]\n",
      "R_HMR_8772: ATP[c] + D-xylulose[c] --> ADP[c] + D-xylulose-1-phosphate[c]\n",
      "R_HMR_8773: D-xylulose-1-phosphate[c] <-> DHAP[c] + glycolaldehyde[c]\n",
      "R_HMR_8342: H+[c] + L-xylulose[c] + NADH[c] <-> L-arabitol[c] + NAD+[c]\n",
      "R_HMR_8343: L-arabitol[c] --> L-arabitol[s]\n",
      "R_HMR_9241: L-arabitol[x] <-> L-arabitol[s]\n",
      "R_HMR_4854: fumarate[c] + succinate[m] <-> fumarate[m] + succinate[c]\n",
      "R_HMR_4408: fumarate[c] + H2O[c] <-> malate[c]\n",
      "R_HMR_8925: Na+[s] + NH3[c] --> Na+[c] + NH3[s]\n",
      "R_HMR_5430: H+[c] + Na+[s] --> H+[s] + Na+[c]\n",
      "R_HMR_5989: H+[s] + zinc[s] --> H+[c] + zinc[c]\n",
      "R_HMR_6370: zinc[c] --> zinc[s]\n",
      "R_HMR_3820: 1-pyrroline-5-carboxylate[m] + H2O[m] <-> L-glutamate 5-semialdehyde[m] [-inf, 0.0]\n",
      "R_HMR_3837: 1-pyrroline-5-carboxylate[m] + H+[m] + NADH[m] --> NAD+[m] + proline[m]\n",
      "R_HMR_4785: 2.0 H2O[m] + L-1-pyrroline-3-hydroxy-5-carboxylate[m] + NADP+[m] --> H+[m] + L-erythro-4-hydroxyglutamate[m] + NADPH[m]\n",
      "R_HMR_4787: 4-hydroxy-2-oxoglutarate[m] --> glyoxalate[m] + pyruvate[m]\n",
      "R_HMR_8098: L-erythro-4-hydroxyglutamate[m] + OAA[m] --> 4-hydroxy-2-oxoglutarate[m] + aspartate[m]\n",
      "R_HMR_4777: AKG[m] + O2[m] + proline[m] --> CO2[m] + succinate[m] + trans-4-hydroxy-L-proline[m]\n",
      "R_HMR_4781: NADP+[m] + trans-4-hydroxy-L-proline[m] --> H+[m] + L-1-pyrroline-3-hydroxy-5-carboxylate[m] + NADPH[m]\n",
      "R_HMR_0454: ATP[c] + glyceraldehyde[c] --> ADP[c] + GAP[c]\n",
      "R_m01981: glyceraldehyde[x] <-> glyceraldehyde[s]\n",
      "R_zk1: glyceraldehyde[s] <-> glyceraldehyde[c]\n",
      "R_HMR_4900: O2[c] <-> O2[p]\n",
      "R_HMR_4892: H2O[c] <-> H2O[g]\n",
      "R_HMR_3984: 2.0 H2O2[p] --> 2.0 H2O[p] + O2[p]\n",
      "R_HMR_7863: CDP[c] + UDP[c] <-> CTP[c] + UMP[c]\n",
      "R_HMR_4841: H+[c] + NADH[c] + ribose[c] <-> NAD+[c] + ribitol[c]\n",
      "R_HMR_5002: ribitol[c] <-> ribitol[s]\n",
      "R_HMR_9401: ribitol[x] <-> ribitol[s]\n",
      "R_HMR_9161: homoserine[x] <-> homoserine[s]\n",
      "R_HMR_9486: H2O[c] + O-phospho-L-homoserine[c] --> Pi[c] + threonine[c]\n",
      "R_HMR_9718: ATP[c] + homoserine[c] --> ADP[c] + O-phospho-L-homoserine[c]\n",
      "R_HMR_4306: glucono-1,5-lactone-6-phosphate[c] + H+[c] + NADPH[c] <-> glucose-6-phosphate[c] + NADP+[c]\n",
      "R_HMR_4474: 6-phospho-D-gluconate[c] + NADP+[c] --> CO2[c] + H+[c] + NADPH[c] + ribulose-5-phosphate[c]\n",
      "R_HMR_4625: glucono-1,5-lactone-6-phosphate[c] + H2O[c] --> 6-phospho-D-gluconate[c]\n",
      "R_HMR_9069: serine[x] <-> serine[s]\n",
      "R_HMR_4948: acetaldehyde[c] <-> acetaldehyde[s]\n",
      "R_HMR_9242: acetaldehyde[x] <-> acetaldehyde[s]\n",
      "R_HMR_4297: ATP[c] + fructose-6-phosphate[c] --> ADP[c] + fructose-2,6-bisphosphate[c]\n",
      "R_HMR_4706: fructose-2,6-bisphosphate[c] + H2O[c] --> fructose-6-phosphate[c] + Pi[c]\n",
      "R_HMR_5295: ATP[c] + H2O[c] + 2.0 K+[s] + 3.0 Na+[c] --> ADP[c] + 2.0 K+[c] + 3.0 Na+[s] + Pi[c]\n",
      "R_HMR_7703: glycolate[c] + O2[c] --> glyoxalate[c] + H2O2[c]\n",
      "R_HMR_7708: glyoxalate[c] <-> glyoxalate[m]\n",
      "R_HMR_8775: glycolaldehyde[c] + H2O[c] + NAD+[c] --> glycolate[c] + H+[c] + NADH[c]\n",
      "R_HMR_0689: fatty acid-LD-PE pool[c] --> 0.0005 (10Z)-heptadecenoic acid[c] + 0.0005 (11Z,14Z)-eicosadienoic acid[c] + 0.0005 (11Z,14Z,17Z)-eicosatrienoic acid[c] + 0.0005 (13Z)-eicosenoic acid[c] + 0.0005 (13Z)-octadecenoic acid[c] + 0.0005 (13Z,16Z)-docosadienoic acid[c] + 0.0052 (4Z,7Z,10Z,13Z,16Z)-DPA[c] + 0.0005 (6Z,9Z)-octadecadienoic acid[c] + 0.0005 (6Z,9Z,12Z,15Z,18Z)-TPA[c] + 0.0005 (6Z,9Z,12Z,15Z,18Z,21Z)-THA[c] + 0.0005 (7Z)-octadecenoic acid[c] + 0.0005 (7Z)-tetradecenoic acid[c] + 0.0005 (9E)-tetradecenoic acid[c] + 0.0005 (9Z,12Z,15Z,18Z)-TTA[c] + 0.0005 (9Z,12Z,15Z,18Z,21Z)-TPA[c] + 0.0005 10,13,16,19-docosatetraenoic acid[c] + 0.0005 10,13,16-docosatriynoic acid[c] + 0.0005 12,15,18,21-tetracosatetraenoic acid[c] + 0.0005 13,16,19-docosatrienoic acid[c] + 0.0005 7-palmitoleic acid[c] + 0.0005 8,11-eicosadienoic acid[c] + 0.0005 9-eicosenoic acid[c] + 0.0005 9-heptadecylenic acid[c] + 0.0007 adrenic acid[c] + 0.2125 arachidonate[c] + 0.0005 behenic acid[c] + 0.0005 cerotic acid[c] + 0.0005 cis-cetoleic acid[c] + 0.0005 cis-erucic acid[c] + 0.0005 cis-gondoic acid[c] + 0.0285 cis-vaccenic acid[c] + 0.0459 DHA[c] + 0.0411 dihomo-gamma-linolenate[c] + 0.0067 DPA[c] + 0.0005 eicosanoate[c] + 0.0005 elaidate[c] + 0.0221 EPA[c] + 0.0011 gamma-linolenate[c] + 0.0005 henicosanoic acid[c] + 0.0005 lauric acid[c] + 0.0005 lignocerate[c] + 0.1312 linoleate[c] + 0.0166 linolenate[c] + 0.0005 margaric acid[c] + 0.0005 mead acid[c] + 0.0319 myristic acid[c] + 0.0005 nervonic acid[c] + 0.0005 nonadecylic acid[c] + 0.0619 oleate[c] + 0.0163 omega-3-arachidonic acid[c] + 0.1243 palmitate[c] + 0.0327 palmitolate[c] + 0.0005 pentadecylic acid[c] + 0.0005 physeteric acid[c] + 0.1983 stearate[c] + 0.0025 stearidonic acid[c] + 0.0005 tricosanoic acid[c] + 0.0005 tridecylic acid[c] + 0.0005 ximenic acid[c]\n",
      "R_HMR_4284: threonine[c] --> acetaldehyde[c] + glycine[c]\n",
      "R_HMR_0926: glucosylceramide pool[c] + UDP-galactose[c] --> LacCer pool[c] + UDP[c]\n",
      "R_HMR_9070: aspartate[x] <-> aspartate[s]\n",
      "R_HMR_8202: LacCer pool[c] <-> LacCer pool[l]\n",
      "R_HMR_0769: glucosylceramide pool[c] <-> glucosylceramide pool[l]\n",
      "R_HMR_0786: H2O[l] + LacCer pool[l] --> galactose[l] + glucosylceramide pool[l]\n",
      "R_HMR_8774: hydroxypyruvate[c] --> CO2[c] + glycolaldehyde[c]\n",
      "R_HMR_7867: GDP[c] + UDP[c] <-> GTP[c] + UMP[c]\n",
      "R_m00670: 2-oxoadipate[x] <-> 2-oxoadipate[s]\n",
      "R_zk33: 2-oxoadipate[s] <-> 2-oxoadipate[c]\n",
      "R_HMR_9041: lysine[x] --> lysine[s]\n",
      "R_HMR_4288: AKG[m] + H+[m] + lysine[m] + NADPH[m] --> H2O[m] + NADP+[m] + saccharopine[m]\n",
      "R_HMR_4668: H2O[m] + NADP+[m] + saccharopine[m] --> 2-aminoadipate 6-semialdehyde[m] + glutamate[m] + H+[m] + NADPH[m]\n",
      "R_HMR_4765: bilirubin[c] <-> bilirubin[r]\n",
      "R_HMR_5004: bilirubin[c] + Na+[c] <-> bilirubin[r] + Na+[r]\n",
      "R_HMR_6387: Na+[c] + Pi[c] <-> Na+[r] + Pi[r]\n",
      "R_HMR_5328: aspartate[s] + Na+[s] --> aspartate[c] + Na+[c]\n",
      "R_HMR_4224: H2O[c] + kynurenine[c] --> alanine[c] + anthranilate[c]\n",
      "R_m01342: anthranilate[x] <-> anthranilate[s]\n",
      "R_zk3: anthranilate[s] <-> anthranilate[c]\n",
      "R_HMR_7764: Pi[c] <-> Pi[n]\n",
      "R_HMR_9318: formate[x] <-> formate[s]\n",
      "R_HMR_4214: O2[c] + tryptophan[c] --> L-formylkynurenine[c]\n",
      "R_HMR_4216: H2O[c] + L-formylkynurenine[c] --> formate[c] + kynurenine[c]\n",
      "R_HMR_5080: tryptophan[c] <-> tryptophan[s]\n",
      "R_HMR_9045: tryptophan[x] --> tryptophan[s]\n",
      "R_HMR_5071: lysine[s] --> lysine[c]\n",
      "R_HMR_3944: glucose-1-phosphate[c] + UTP[c] --> PPi[c] + UDP-glucose[c]\n",
      "R_HMR_4130: ATP[c] + galactose[c] --> ADP[c] + alpha-D-galactose-1-phosphate[c]\n",
      "R_HMR_8767: alpha-D-galactose-1-phosphate[c] + UTP[c] --> PPi[c] + UDP-galactose[c]\n",
      "R_HMR_8765: galactose[l] --> galactose[c]\n"
     ]
    },
    {
     "name": "stdout",
     "output_type": "stream",
     "text": [
      "R_HMR_3967: CDP[c] + GDP[c] <-> CMP[c] + GTP[c]\n",
      "R_HMR_7800: ADP[c] + GDP[c] <-> AMP[c] + GTP[c]\n",
      "R_HMR_4887: H2O[c] --> H2O[l]\n",
      "R_HMR_4738: 2-aminoadipate 6-semialdehyde[c] + L-2-aminoadipate[m] <-> 2-aminoadipate 6-semialdehyde[m] + L-2-aminoadipate[c]\n",
      "R_SYL6: 2-aminoadipate 6-semialdehyde[c] + H2O[c] + NADP+[c] <-> H+[c] + L-2-aminoadipate[c] + NADPH[c]\n",
      "R_HMR_6034: acetate[c] + butyrate[s] <-> acetate[s] + butyrate[c]\n",
      "R_HMR_5077: alanine[s] --> alanine[c]\n",
      "R_HMR_6028: AKG[c] + retinoate[s] <-> AKG[s] + retinoate[c] [-0.1, 0.1]\n",
      "R_HMR_6035: acetate[c] + retinoate[s] <-> acetate[s] + retinoate[c] [-0.1, 0.1]\n",
      "R_HMR_6302: H+[c] + lysine[c] + ornithine[m] --> H+[m] + lysine[m] + ornithine[c]\n",
      "R_HMR_8465: 2.0 CDP[c] <-> CMP[c] + CTP[c]\n",
      "R_HMR_0690: fatty acid-LD-PS pool[c] --> 0.0005 (10Z)-heptadecenoic acid[c] + 0.0005 (11Z,14Z)-eicosadienoic acid[c] + 0.0005 (11Z,14Z,17Z)-eicosatrienoic acid[c] + 0.0005 (13Z)-eicosenoic acid[c] + 0.0005 (13Z)-octadecenoic acid[c] + 0.0005 (13Z,16Z)-docosadienoic acid[c] + 0.0055 (4Z,7Z,10Z,13Z,16Z)-DPA[c] + 0.0005 (6Z,9Z)-octadecadienoic acid[c] + 0.0005 (6Z,9Z,12Z,15Z,18Z)-TPA[c] + 0.0005 (6Z,9Z,12Z,15Z,18Z,21Z)-THA[c] + 0.0005 (7Z)-octadecenoic acid[c] + 0.0005 (7Z)-tetradecenoic acid[c] + 0.0005 (9E)-tetradecenoic acid[c] + 0.0005 (9Z,12Z,15Z,18Z)-TTA[c] + 0.0005 (9Z,12Z,15Z,18Z,21Z)-TPA[c] + 0.0005 10,13,16,19-docosatetraenoic acid[c] + 0.0005 10,13,16-docosatriynoic acid[c] + 0.0005 12,15,18,21-tetracosatetraenoic acid[c] + 0.0005 13,16,19-docosatrienoic acid[c] + 0.0005 7-palmitoleic acid[c] + 0.0005 8,11-eicosadienoic acid[c] + 0.0005 9-eicosenoic acid[c] + 0.0005 9-heptadecylenic acid[c] + 0.0043 adrenic acid[c] + 0.2005 arachidonate[c] + 0.0005 behenic acid[c] + 0.0005 cerotic acid[c] + 0.0005 cis-cetoleic acid[c] + 0.0005 cis-erucic acid[c] + 0.0005 cis-gondoic acid[c] + 0.0131 cis-vaccenic acid[c] + 0.0931 DHA[c] + 0.0089 dihomo-gamma-linolenate[c] + 0.0329 DPA[c] + 0.0005 eicosanoate[c] + 0.0005 elaidate[c] + 0.0286 EPA[c] + 0.0011 gamma-linolenate[c] + 0.0005 henicosanoic acid[c] + 0.0005 lauric acid[c] + 0.0005 lignocerate[c] + 0.0177 linoleate[c] + 0.0035 linolenate[c] + 0.0005 margaric acid[c] + 0.0005 mead acid[c] + 0.0055 myristic acid[c] + 0.0005 nervonic acid[c] + 0.0005 nonadecylic acid[c] + 0.0323 oleate[c] + 0.0174 omega-3-arachidonic acid[c] + 0.0337 palmitate[c] + 0.0058 palmitolate[c] + 0.0005 pentadecylic acid[c] + 0.0005 physeteric acid[c] + 0.4731 stearate[c] + 0.0025 stearidonic acid[c] + 0.0005 tricosanoic acid[c] + 0.0005 tridecylic acid[c] + 0.0005 ximenic acid[c]\n",
      "R_HMR_0688: fatty acid-LD-PC pool[c] <-> 0.0005 (10Z)-heptadecenoic acid[c] + 0.0005 (11Z,14Z)-eicosadienoic acid[c] + 0.0005 (11Z,14Z,17Z)-eicosatrienoic acid[c] + 0.0005 (13Z)-eicosenoic acid[c] + 0.0005 (13Z)-octadecenoic acid[c] + 0.0005 (13Z,16Z)-docosadienoic acid[c] + 0.0039 (4Z,7Z,10Z,13Z,16Z)-DPA[c] + 0.0005 (6Z,9Z)-octadecadienoic acid[c] + 0.0005 (6Z,9Z,12Z,15Z,18Z)-TPA[c] + 0.0005 (6Z,9Z,12Z,15Z,18Z,21Z)-THA[c] + 0.0005 (7Z)-octadecenoic acid[c] + 0.0005 (7Z)-tetradecenoic acid[c] + 0.0005 (9E)-tetradecenoic acid[c] + 0.0005 (9Z,12Z,15Z,18Z)-TTA[c] + 0.0005 (9Z,12Z,15Z,18Z,21Z)-TPA[c] + 0.0005 10,13,16,19-docosatetraenoic acid[c] + 0.0005 10,13,16-docosatriynoic acid[c] + 0.0005 12,15,18,21-tetracosatetraenoic acid[c] + 0.0005 13,16,19-docosatrienoic acid[c] + 0.0005 7-palmitoleic acid[c] + 0.0005 8,11-eicosadienoic acid[c] + 0.0005 9-eicosenoic acid[c] + 0.0005 9-heptadecylenic acid[c] + 0.0011 adrenic acid[c] + 0.0709 arachidonate[c] + 0.0005 behenic acid[c] + 0.0005 cerotic acid[c] + 0.0005 cis-cetoleic acid[c] + 0.0005 cis-erucic acid[c] + 0.0005 cis-gondoic acid[c] + 0.0271 cis-vaccenic acid[c] + 0.0252 DHA[c] + 0.0228 dihomo-gamma-linolenate[c] + 0.0056 DPA[c] + 0.0005 eicosanoate[c] + 0.0005 elaidate[c] + 0.0109 EPA[c] + 0.0036 gamma-linolenate[c] + 0.0005 henicosanoic acid[c] + 0.0005 lauric acid[c] + 0.0005 lignocerate[c] + 0.2479 linoleate[c] + 0.0047 linolenate[c] + 0.0005 margaric acid[c] + 0.0005 mead acid[c] + 0.0054 myristic acid[c] + 0.0005 nervonic acid[c] + 0.0005 nonadecylic acid[c] + 0.1143 oleate[c] + 0.0178 omega-3-arachidonic acid[c] + 0.2781 palmitate[c] + 0.0105 palmitolate[c] + 0.0005 pentadecylic acid[c] + 0.0005 physeteric acid[c] + 0.1271 stearate[c] + 0.0026 stearidonic acid[c] + 0.0005 tricosanoic acid[c] + 0.0005 tridecylic acid[c] + 0.0005 ximenic acid[c]\n",
      "R_HMR_5347: PPi[c] <-> PPi[r]\n",
      "R_HMR_6388: Pi[r] + PPi[c] <-> Pi[c] + PPi[r]\n",
      "R_HMR_4270: H2O[c] + NADP+[c] --> NAD+[c] + Pi[c]\n",
      "R_HMR_4269: ATP[c] + NAD+[c] --> ADP[c] + NADP+[c]\n",
      "R_HMR_0802: globotriaosylceramide[c] <-> globotriaosylceramide[l]\n",
      "R_HMR_8203: globoside[c] <-> globoside[l]\n",
      "R_HMR_6506: ATP[c] + riboflavin[c] --> ADP[c] + FMN[c]\n",
      "R_HMR_6507: FMN[c] + H2O[c] --> Pi[c] + riboflavin[c]\n",
      "R_HMR_9066: arginine[x] <-> arginine[s]\n",
      "R_HMR_3816: arginine[c] + H2O[c] --> ornithine[c] + urea[c]\n",
      "R_HMR_9438: urea[x] <-> urea[s]\n",
      "R_HMR_4014: cAMP[c] + H2O[c] --> AMP[c]\n",
      "R_HMR_8086: cAMP[c] <-> cAMP[g]\n",
      "R_HMR_8087: cAMP[g] + H2O[g] --> AMP[g]\n",
      "R_HMR_9665: AMP[g] <-> AMP[c]\n",
      "R_HMR_0643: H2O[c] + PE-LD pool[c] --> 1-acyl-PE pool[c] + fatty acid-LD-PE pool[c]\n",
      "R_HMR_0645: 1-acyl-PE pool[c] + H2O[c] --> fatty acid-LD-PE pool[c] + sn-glycerol-3-PE[c]\n",
      "R_HMR_0646: H2O[c] + sn-glycerol-3-PE[c] --> ethanolamine[c] + sn-glycerol-3-phosphate[c]\n",
      "R_HMR_3807: AKG[m] + ornithine[m] <-> glutamate[m] + L-glutamate 5-semialdehyde[m]\n",
      "R_HMR_4396: glucose-1-phosphate[c] <-> glucose-6-phosphate[c]\n"
     ]
    }
   ],
   "source": [
    "flux_changes_reactions = []\n",
    "for r_id in flux_changes.iloc[:,0]:\n",
    "    flux_changes_reactions.append(model.print_reaction(r_id, use_names=True))"
   ]
  },
  {
   "cell_type": "code",
   "execution_count": null,
   "metadata": {},
   "outputs": [],
   "source": []
  }
 ],
 "metadata": {
  "kernelspec": {
   "display_name": "Python [conda env:python36] *",
   "language": "python",
   "name": "conda-env-python36-py"
  },
  "language_info": {
   "codemirror_mode": {
    "name": "ipython",
    "version": 3
   },
   "file_extension": ".py",
   "mimetype": "text/x-python",
   "name": "python",
   "nbconvert_exporter": "python",
   "pygments_lexer": "ipython3",
   "version": "3.6.9"
  }
 },
 "nbformat": 4,
 "nbformat_minor": 2
}
